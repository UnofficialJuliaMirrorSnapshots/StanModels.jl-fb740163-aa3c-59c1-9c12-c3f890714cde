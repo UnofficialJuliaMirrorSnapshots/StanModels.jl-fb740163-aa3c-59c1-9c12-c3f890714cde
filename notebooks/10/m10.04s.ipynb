{
 "cells": [
  {
   "outputs": [],
   "cell_type": "markdown",
   "source": [
    "Load Julia packages (libraries) needed  for the snippets in chapter 0"
   ],
   "metadata": {}
  },
  {
   "outputs": [],
   "cell_type": "code",
   "source": [
    "using StanModels"
   ],
   "metadata": {},
   "execution_count": 1
  },
  {
   "outputs": [],
   "cell_type": "markdown",
   "source": [
    "CmdStan uses a tmp directory to store the output of cmdstan"
   ],
   "metadata": {}
  },
  {
   "outputs": [],
   "cell_type": "code",
   "source": [
    "ProjDir = @__DIR__\n",
    "cd(ProjDir)"
   ],
   "metadata": {},
   "execution_count": 2
  },
  {
   "outputs": [],
   "cell_type": "markdown",
   "source": [
    "### snippet 10.4"
   ],
   "metadata": {}
  },
  {
   "outputs": [
    {
     "output_type": "execute_result",
     "data": {
      "text/plain": "5×8 DataFrame. Omitted printing of 2 columns\n│ Row │ actor  │ recipient │ condition │ block  │ trial  │ prosoc_left │\n│     │ \u001b[90mInt64⍰\u001b[39m │ \u001b[90mString⍰\u001b[39m   │ \u001b[90mInt64⍰\u001b[39m    │ \u001b[90mInt64⍰\u001b[39m │ \u001b[90mInt64⍰\u001b[39m │ \u001b[90mInt64⍰\u001b[39m      │\n├─────┼────────┼───────────┼───────────┼────────┼────────┼─────────────┤\n│ 1   │ 1      │ NA        │ 0         │ 1      │ 2      │ 0           │\n│ 2   │ 1      │ NA        │ 0         │ 1      │ 4      │ 0           │\n│ 3   │ 1      │ NA        │ 0         │ 1      │ 6      │ 1           │\n│ 4   │ 1      │ NA        │ 0         │ 1      │ 8      │ 0           │\n│ 5   │ 1      │ NA        │ 0         │ 1      │ 10     │ 1           │",
      "text/html": [
       "<table class=\"data-frame\"><thead><tr><th></th><th>actor</th><th>recipient</th><th>condition</th><th>block</th><th>trial</th><th>prosoc_left</th><th>chose_prosoc</th><th>pulled_left</th></tr><tr><th></th><th>Int64⍰</th><th>String⍰</th><th>Int64⍰</th><th>Int64⍰</th><th>Int64⍰</th><th>Int64⍰</th><th>Int64⍰</th><th>Int64⍰</th></tr></thead><tbody><p>5 rows × 8 columns</p><tr><th>1</th><td>1</td><td>NA</td><td>0</td><td>1</td><td>2</td><td>0</td><td>1</td><td>0</td></tr><tr><th>2</th><td>1</td><td>NA</td><td>0</td><td>1</td><td>4</td><td>0</td><td>0</td><td>1</td></tr><tr><th>3</th><td>1</td><td>NA</td><td>0</td><td>1</td><td>6</td><td>1</td><td>0</td><td>0</td></tr><tr><th>4</th><td>1</td><td>NA</td><td>0</td><td>1</td><td>8</td><td>0</td><td>1</td><td>0</td></tr><tr><th>5</th><td>1</td><td>NA</td><td>0</td><td>1</td><td>10</td><td>1</td><td>1</td><td>1</td></tr></tbody></table>"
      ]
     },
     "metadata": {},
     "execution_count": 3
    }
   ],
   "cell_type": "code",
   "source": [
    "d = CSV.read(rel_path(\"..\", \"data\", \"chimpanzees.csv\"), delim=';');\n",
    "df = convert(DataFrame, d);\n",
    "\n",
    "first(df, 5)"
   ],
   "metadata": {},
   "execution_count": 3
  },
  {
   "outputs": [],
   "cell_type": "markdown",
   "source": [
    "Define the Stan language model"
   ],
   "metadata": {}
  },
  {
   "outputs": [],
   "cell_type": "code",
   "source": [
    "m_10_04 = \"\n",
    "data{\n",
    "    int N;\n",
    "    int N_actors;\n",
    "    int pulled_left[N];\n",
    "    int prosoc_left[N];\n",
    "    int condition[N];\n",
    "    int actor[N];\n",
    "}\n",
    "parameters{\n",
    "    vector[N_actors] a;\n",
    "    real bp;\n",
    "    real bpC;\n",
    "}\n",
    "model{\n",
    "    vector[N] p;\n",
    "    bpC ~ normal( 0 , 10 );\n",
    "    bp ~ normal( 0 , 10 );\n",
    "    a ~ normal( 0 , 10 );\n",
    "    for ( i in 1:504 ) {\n",
    "        p[i] = a[actor[i]] + (bp + bpC * condition[i]) * prosoc_left[i];\n",
    "        p[i] = inv_logit(p[i]);\n",
    "    }\n",
    "    pulled_left ~ binomial( 1 , p );\n",
    "}\n",
    "\";"
   ],
   "metadata": {},
   "execution_count": 4
  },
  {
   "outputs": [],
   "cell_type": "markdown",
   "source": [
    "Define the Stanmodel and set the output format to :mcmcchains."
   ],
   "metadata": {}
  },
  {
   "outputs": [],
   "cell_type": "code",
   "source": [
    "stanmodel = Stanmodel(name=\"m_10_04\",\n",
    "model=m_10_04, output_format=:mcmcchains);"
   ],
   "metadata": {},
   "execution_count": 5
  },
  {
   "outputs": [],
   "cell_type": "markdown",
   "source": [
    "Input data for cmdstan"
   ],
   "metadata": {}
  },
  {
   "outputs": [],
   "cell_type": "code",
   "source": [
    "m_10_04_data = Dict(\"N\" => size(df, 1), \"N_actors\" => length(unique(df[:actor])),\n",
    "\"actor\" => df[:actor], \"pulled_left\" => df[:pulled_left],\n",
    "\"prosoc_left\" => df[:prosoc_left], \"condition\" => df[:condition]);"
   ],
   "metadata": {},
   "execution_count": 6
  },
  {
   "outputs": [],
   "cell_type": "markdown",
   "source": [
    "Sample using cmdstan"
   ],
   "metadata": {}
  },
  {
   "outputs": [
    {
     "name": "stdout",
     "output_type": "stream",
     "text": [
      "\n",
      "Inference for Stan model: m_10_04_model\n",
      "4 chains: each with iter=(1000,1000,1000,1000); warmup=(0,0,0,0); thin=(1,1,1,1); 4000 iterations saved.\n",
      "\n",
      "Warmup took (1.5, 1.4, 1.5, 1.4) seconds, 5.8 seconds total\n",
      "Sampling took (1.3, 1.3, 1.3, 1.4) seconds, 5.3 seconds total\n",
      "\n",
      "                 Mean     MCSE  StdDev     5%    50%    95%  N_Eff  N_Eff/s    R_hat\n",
      "lp__             -261  4.9e-02     2.1   -266   -261   -259   1852      349  1.0e+00\n",
      "accept_stat__    0.84  5.5e-03    0.21   0.37   0.93    1.0   1399      264  1.0e+00\n",
      "stepsize__       0.37  2.8e-02   0.039   0.32   0.40   0.42    2.0     0.38  5.8e+13\n",
      "treedepth__       3.3  1.3e-01    0.63    2.0    3.0    4.0     23      4.4  1.1e+00\n",
      "n_leapfrog__       12  1.1e-01     6.3    7.0     15     23   3295      621  1.0e+00\n",
      "divergent__     0.079  4.7e-03    0.27   0.00   0.00    1.0   3238      610  1.0e+00\n",
      "energy__          266  7.5e-02     3.0    262    266    271   1597      301  1.0e+00\n",
      "a[1]            -0.74  5.0e-03    0.27   -1.2  -0.73  -0.30   2974      561  1.0e+00\n",
      "a[2]               11  1.4e-01     5.2    4.5    9.8     21   1363      257  1.0e+00\n",
      "a[3]             -1.1  4.8e-03    0.28   -1.5   -1.1  -0.59   3429      646  1.0e+00\n",
      "a[4]             -1.1  5.4e-03    0.28   -1.5   -1.1  -0.60   2802      528  1.0e+00\n",
      "a[5]            -0.74  5.0e-03    0.27   -1.2  -0.73  -0.29   2949      556  1.0e+00\n",
      "a[6]             0.22  4.5e-03    0.27  -0.23   0.22   0.66   3543      668  1.0e+00\n",
      "a[7]              1.8  7.0e-03    0.39    1.2    1.8    2.5   3125      589  1.0e+00\n",
      "bp               0.83  6.2e-03    0.27   0.40   0.83    1.3   1807      341  1.0e+00\n",
      "bpC             -0.12  5.7e-03    0.30  -0.62  -0.12   0.38   2894      546  1.0e+00\n",
      "\n",
      "Samples were drawn using hmc with nuts.\n",
      "For each parameter, N_Eff is a crude measure of effective sample size,\n",
      "and R_hat is the potential scale reduction factor on split chains (at \n",
      "convergence, R_hat=1).\n",
      "\n"
     ]
    }
   ],
   "cell_type": "code",
   "source": [
    "rc, chn, cnames = stan(stanmodel, m_10_04_data, ProjDir, diagnostics=false,\n",
    "  summary=true, CmdStanDir=CMDSTAN_HOME);\n",
    "# Result rethinking\n",
    "rethinking = \"\n",
    "      mean   sd  5.5% 94.5% n_eff Rhat\n",
    "bp    0.84 0.26  0.43  1.26  2271    1\n",
    "bpC  -0.13 0.29 -0.59  0.34  2949    1\n",
    "\n",
    "a[1] -0.74 0.27 -1.16 -0.31  3310    1\n",
    "a[2] 10.88 5.20  4.57 20.73  1634    1\n",
    "a[3] -1.05 0.28 -1.52 -0.59  4206    1\n",
    "a[4] -1.05 0.28 -1.50 -0.60  4133    1\n",
    "a[5] -0.75 0.27 -1.18 -0.32  4049    1\n",
    "a[6]  0.22 0.27 -0.22  0.65  3877    1\n",
    "a[7]  1.81 0.39  1.22  2.48  3807    1\n",
    "\";"
   ],
   "metadata": {},
   "execution_count": 7
  },
  {
   "outputs": [],
   "cell_type": "markdown",
   "source": [
    "Update sections"
   ],
   "metadata": {}
  },
  {
   "outputs": [
    {
     "output_type": "execute_result",
     "data": {
      "text/plain": "Object of type Chains, with data of type 1000×16×4 Array{Float64,3}\n\nIterations        = 1:1000\nThinning interval = 1\nChains            = 1, 2, 3, 4\nSamples per chain = 1000\npooled            = a.1, a.2, a.3, a.4, a.5, a.6, a.7\ninternals         = lp__, accept_stat__, stepsize__, treedepth__, n_leapfrog__, divergent__, energy__\nparameters        = bp, bpC\n\nSummary Statistics\n\n│ Row │ parameters │ mean      │ std      │ naive_se   │ mcse       │ ess    │\n│     │ \u001b[90mSymbol\u001b[39m     │ \u001b[90mFloat64\u001b[39m   │ \u001b[90mFloat64\u001b[39m  │ \u001b[90mFloat64\u001b[39m    │ \u001b[90mFloat64\u001b[39m    │ \u001b[90mAny\u001b[39m    │\n├─────┼────────────┼───────────┼──────────┼────────────┼────────────┼────────┤\n│ 1   │ bp         │ 0.833453  │ 0.265344 │ 0.00419545 │ 0.0074115  │ 4000.0 │\n│ 2   │ bpC        │ -0.123269 │ 0.304098 │ 0.00480821 │ 0.00746478 │ 4000.0 │"
     },
     "metadata": {},
     "execution_count": 8
    }
   ],
   "cell_type": "code",
   "source": [
    "chn2 = set_section(chn, Dict(\n",
    "  :parameters => [\"bp\", \"bpC\"],\n",
    "  :pooled => [\"a.$i\" for i in 1:7],\n",
    "  :internals => [\"lp__\", \"accept_stat__\", \"stepsize__\", \"treedepth__\", \"n_leapfrog__\",\n",
    "    \"divergent__\", \"energy__\"]\n",
    "  )\n",
    ")"
   ],
   "metadata": {},
   "execution_count": 8
  },
  {
   "outputs": [],
   "cell_type": "markdown",
   "source": [
    "Describe parameter draws"
   ],
   "metadata": {}
  },
  {
   "outputs": [
    {
     "output_type": "execute_result",
     "data": {
      "text/plain": "2-element Array{ChainDataFrame,1}\n\nSummary Statistics\n\n│ Row │ parameters │ mean      │ std      │ naive_se   │ mcse       │ ess    │\n│     │ \u001b[90mSymbol\u001b[39m     │ \u001b[90mFloat64\u001b[39m   │ \u001b[90mFloat64\u001b[39m  │ \u001b[90mFloat64\u001b[39m    │ \u001b[90mFloat64\u001b[39m    │ \u001b[90mAny\u001b[39m    │\n├─────┼────────────┼───────────┼──────────┼────────────┼────────────┼────────┤\n│ 1   │ bp         │ 0.833453  │ 0.265344 │ 0.00419545 │ 0.0074115  │ 4000.0 │\n│ 2   │ bpC        │ -0.123269 │ 0.304098 │ 0.00480821 │ 0.00746478 │ 4000.0 │\n\nQuantiles\n\n│ Row │ parameters │ 2.5%      │ 25.0%     │ 50.0%     │ 75.0%     │ 97.5%    │\n│     │ \u001b[90mSymbol\u001b[39m     │ \u001b[90mFloat64\u001b[39m   │ \u001b[90mFloat64\u001b[39m   │ \u001b[90mFloat64\u001b[39m   │ \u001b[90mFloat64\u001b[39m   │ \u001b[90mFloat64\u001b[39m  │\n├─────┼────────────┼───────────┼───────────┼───────────┼───────────┼──────────┤\n│ 1   │ bp         │ 0.324267  │ 0.649746  │ 0.833275  │ 1.01026   │ 1.36137  │\n│ 2   │ bpC        │ -0.725581 │ -0.325243 │ -0.120988 │ 0.0748142 │ 0.474432 │\n"
     },
     "metadata": {},
     "execution_count": 9
    }
   ],
   "cell_type": "code",
   "source": [
    "describe(chn2)"
   ],
   "metadata": {},
   "execution_count": 9
  },
  {
   "outputs": [],
   "cell_type": "markdown",
   "source": [
    "Describe pooled parameter draws"
   ],
   "metadata": {}
  },
  {
   "outputs": [
    {
     "output_type": "execute_result",
     "data": {
      "text/plain": "2-element Array{ChainDataFrame,1}\n\nSummary Statistics\n\n│ Row │ parameters │ mean      │ std      │ naive_se   │ mcse       │ ess    │\n│     │ \u001b[90mSymbol\u001b[39m     │ \u001b[90mFloat64\u001b[39m   │ \u001b[90mFloat64\u001b[39m  │ \u001b[90mFloat64\u001b[39m    │ \u001b[90mFloat64\u001b[39m    │ \u001b[90mAny\u001b[39m    │\n├─────┼────────────┼───────────┼──────────┼────────────┼────────────┼────────┤\n│ 1   │ bp         │ 0.833453  │ 0.265344 │ 0.00419545 │ 0.0074115  │ 4000.0 │\n│ 2   │ bpC        │ -0.123269 │ 0.304098 │ 0.00480821 │ 0.00746478 │ 4000.0 │\n\nQuantiles\n\n│ Row │ parameters │ 2.5%      │ 25.0%     │ 50.0%     │ 75.0%     │ 97.5%    │\n│     │ \u001b[90mSymbol\u001b[39m     │ \u001b[90mFloat64\u001b[39m   │ \u001b[90mFloat64\u001b[39m   │ \u001b[90mFloat64\u001b[39m   │ \u001b[90mFloat64\u001b[39m   │ \u001b[90mFloat64\u001b[39m  │\n├─────┼────────────┼───────────┼───────────┼───────────┼───────────┼──────────┤\n│ 1   │ bp         │ 0.324267  │ 0.649746  │ 0.833275  │ 1.01026   │ 1.36137  │\n│ 2   │ bpC        │ -0.725581 │ -0.325243 │ -0.120988 │ 0.0748142 │ 0.474432 │\n"
     },
     "metadata": {},
     "execution_count": 10
    }
   ],
   "cell_type": "code",
   "source": [
    "describe(chn2, sections=[:pooled])"
   ],
   "metadata": {},
   "execution_count": 10
  },
  {
   "outputs": [],
   "cell_type": "markdown",
   "source": [
    "Make it a DataFrame"
   ],
   "metadata": {}
  },
  {
   "outputs": [
    {
     "output_type": "execute_result",
     "data": {
      "text/plain": "4000×9 DataFrame. Omitted printing of 3 columns\n│ Row  │ a.1       │ a.2     │ a.3       │ a.4       │ a.5       │ a.6        │\n│      │ \u001b[90mFloat64\u001b[39m   │ \u001b[90mFloat64\u001b[39m │ \u001b[90mFloat64\u001b[39m   │ \u001b[90mFloat64\u001b[39m   │ \u001b[90mFloat64\u001b[39m   │ \u001b[90mFloat64\u001b[39m    │\n├──────┼───────────┼─────────┼───────────┼───────────┼───────────┼────────────┤\n│ 1    │ -1.0468   │ 8.07213 │ -1.3285   │ -0.968215 │ -0.622832 │ 0.403894   │\n│ 2    │ -0.784575 │ 8.61046 │ -0.823028 │ -0.776454 │ -0.842335 │ 0.243867   │\n│ 3    │ -0.353663 │ 7.66793 │ -0.423418 │ -0.555728 │ -0.373674 │ 0.185303   │\n│ 4    │ -0.523634 │ 7.29394 │ -1.27964  │ -0.782069 │ -0.413622 │ 0.447424   │\n│ 5    │ -0.687086 │ 8.21284 │ -0.578259 │ -1.06027  │ -1.01189  │ -0.0814459 │\n│ 6    │ -0.635837 │ 3.96245 │ -0.630827 │ -1.09904  │ -0.939307 │ -0.276528  │\n│ 7    │ -0.531541 │ 5.59591 │ -0.429468 │ -1.00768  │ -0.676277 │ 0.0835493  │\n⋮\n│ 3993 │ -0.500846 │ 8.55052 │ -1.40212  │ -1.28267  │ -0.988357 │ 0.448812   │\n│ 3994 │ -0.590579 │ 14.3414 │ -0.439117 │ -0.63927  │ -0.735835 │ 0.20981    │\n│ 3995 │ -0.608862 │ 9.36315 │ -1.36971  │ -1.17024  │ -0.459779 │ 0.494397   │\n│ 3996 │ -1.02173  │ 4.6101  │ -1.27343  │ -1.22283  │ -0.950972 │ 0.842937   │\n│ 3997 │ -1.00132  │ 8.84946 │ -0.584547 │ -0.971271 │ -0.634581 │ 1.09921    │\n│ 3998 │ -0.410443 │ 7.67511 │ -1.46855  │ -1.13388  │ -0.914058 │ -0.609998  │\n│ 3999 │ -0.488884 │ 7.44242 │ -1.36689  │ -1.18974  │ -0.946683 │ -0.663041  │\n│ 4000 │ -1.05193  │ 10.9799 │ -0.929385 │ -0.969038 │ -0.645616 │ 0.874759   │",
      "text/html": [
       "<table class=\"data-frame\"><thead><tr><th></th><th>a.1</th><th>a.2</th><th>a.3</th><th>a.4</th><th>a.5</th><th>a.6</th><th>a.7</th><th>bp</th><th>bpC</th></tr><tr><th></th><th>Float64</th><th>Float64</th><th>Float64</th><th>Float64</th><th>Float64</th><th>Float64</th><th>Float64</th><th>Float64</th><th>Float64</th></tr></thead><tbody><p>4,000 rows × 9 columns</p><tr><th>1</th><td>-1.0468</td><td>8.07213</td><td>-1.3285</td><td>-0.968215</td><td>-0.622832</td><td>0.403894</td><td>1.14205</td><td>0.838573</td><td>-0.473409</td></tr><tr><th>2</th><td>-0.784575</td><td>8.61046</td><td>-0.823028</td><td>-0.776454</td><td>-0.842335</td><td>0.243867</td><td>1.64324</td><td>0.697878</td><td>0.299866</td></tr><tr><th>3</th><td>-0.353663</td><td>7.66793</td><td>-0.423418</td><td>-0.555728</td><td>-0.373674</td><td>0.185303</td><td>1.48228</td><td>0.0396729</td><td>0.222009</td></tr><tr><th>4</th><td>-0.523634</td><td>7.29394</td><td>-1.27964</td><td>-0.782069</td><td>-0.413622</td><td>0.447424</td><td>1.92392</td><td>0.668755</td><td>-0.116054</td></tr><tr><th>5</th><td>-0.687086</td><td>8.21284</td><td>-0.578259</td><td>-1.06027</td><td>-1.01189</td><td>-0.0814459</td><td>1.73903</td><td>0.800018</td><td>-0.0898825</td></tr><tr><th>6</th><td>-0.635837</td><td>3.96245</td><td>-0.630827</td><td>-1.09904</td><td>-0.939307</td><td>-0.276528</td><td>1.59156</td><td>0.974214</td><td>-0.117283</td></tr><tr><th>7</th><td>-0.531541</td><td>5.59591</td><td>-0.429468</td><td>-1.00768</td><td>-0.676277</td><td>0.0835493</td><td>1.62964</td><td>0.873363</td><td>-0.376451</td></tr><tr><th>8</th><td>-0.70768</td><td>10.1341</td><td>-1.42485</td><td>-1.04445</td><td>-0.584926</td><td>0.347632</td><td>1.55725</td><td>0.610506</td><td>0.0144794</td></tr><tr><th>9</th><td>-0.742143</td><td>4.49312</td><td>-0.661353</td><td>-0.485559</td><td>-0.983997</td><td>0.802211</td><td>1.9216</td><td>0.67374</td><td>-0.0419584</td></tr><tr><th>10</th><td>-0.589837</td><td>17.7623</td><td>-1.18005</td><td>-1.40849</td><td>-0.315007</td><td>-0.21559</td><td>1.69961</td><td>0.723657</td><td>0.298758</td></tr><tr><th>11</th><td>-0.929302</td><td>13.3624</td><td>-0.969969</td><td>-0.280172</td><td>-0.897841</td><td>0.466005</td><td>2.07571</td><td>0.512522</td><td>-0.0559786</td></tr><tr><th>12</th><td>-0.776602</td><td>9.69085</td><td>-0.654195</td><td>-1.37231</td><td>-0.559259</td><td>0.561022</td><td>2.38817</td><td>0.389186</td><td>0.312641</td></tr><tr><th>13</th><td>-0.858479</td><td>3.71612</td><td>-0.666548</td><td>-1.3725</td><td>-0.497568</td><td>0.169668</td><td>2.01119</td><td>0.593612</td><td>0.05953</td></tr><tr><th>14</th><td>-0.617499</td><td>14.0938</td><td>-1.08422</td><td>-0.397789</td><td>-0.629552</td><td>0.242402</td><td>1.91662</td><td>0.497967</td><td>-0.138959</td></tr><tr><th>15</th><td>-0.807304</td><td>5.89442</td><td>-0.849877</td><td>-1.51452</td><td>-0.973571</td><td>0.222498</td><td>1.17842</td><td>0.562953</td><td>0.690003</td></tr><tr><th>16</th><td>-0.854212</td><td>9.62188</td><td>-0.804749</td><td>-1.41879</td><td>-0.8334</td><td>0.201934</td><td>1.04703</td><td>0.491904</td><td>0.561081</td></tr><tr><th>17</th><td>-0.891644</td><td>12.0975</td><td>-0.920741</td><td>-0.934422</td><td>-0.681689</td><td>0.380087</td><td>1.86403</td><td>0.463653</td><td>0.410722</td></tr><tr><th>18</th><td>-0.450461</td><td>23.1976</td><td>-0.888678</td><td>-0.966533</td><td>-0.756206</td><td>0.170732</td><td>2.23791</td><td>0.408824</td><td>0.382924</td></tr><tr><th>19</th><td>-0.881879</td><td>6.22054</td><td>-1.01412</td><td>-1.05532</td><td>-0.250718</td><td>0.576559</td><td>1.95803</td><td>0.820986</td><td>-0.416977</td></tr><tr><th>20</th><td>-0.881349</td><td>4.21779</td><td>-1.05305</td><td>-1.06046</td><td>-0.226316</td><td>0.716265</td><td>1.88033</td><td>0.768729</td><td>-0.339326</td></tr><tr><th>21</th><td>-0.707437</td><td>7.15345</td><td>-0.992786</td><td>-1.02521</td><td>-0.271181</td><td>0.695168</td><td>2.01048</td><td>0.833153</td><td>-0.326083</td></tr><tr><th>22</th><td>-0.278302</td><td>6.73526</td><td>-1.05117</td><td>-1.41319</td><td>-0.874411</td><td>0.620399</td><td>1.79744</td><td>0.692052</td><td>-0.151884</td></tr><tr><th>23</th><td>-0.864768</td><td>11.3531</td><td>-0.819344</td><td>-0.906758</td><td>-0.20444</td><td>0.35417</td><td>2.35042</td><td>0.722834</td><td>-0.185484</td></tr><tr><th>24</th><td>-0.48527</td><td>4.86666</td><td>-0.934766</td><td>-0.922907</td><td>-0.988196</td><td>0.0753008</td><td>1.38469</td><td>0.742439</td><td>0.0231563</td></tr><tr><th>&vellip;</th><td>&vellip;</td><td>&vellip;</td><td>&vellip;</td><td>&vellip;</td><td>&vellip;</td><td>&vellip;</td><td>&vellip;</td><td>&vellip;</td><td>&vellip;</td></tr></tbody></table>"
      ]
     },
     "metadata": {},
     "execution_count": 11
    }
   ],
   "cell_type": "code",
   "source": [
    "df = DataFrame(chn2, [:parameters, :pooled])"
   ],
   "metadata": {},
   "execution_count": 11
  },
  {
   "outputs": [],
   "cell_type": "markdown",
   "source": [
    "End of `10/m10.04s.jl`"
   ],
   "metadata": {}
  },
  {
   "outputs": [],
   "cell_type": "markdown",
   "source": [
    "*This notebook was generated using [Literate.jl](https://github.com/fredrikekre/Literate.jl).*"
   ],
   "metadata": {}
  }
 ],
 "nbformat_minor": 3,
 "metadata": {
  "language_info": {
   "file_extension": ".jl",
   "mimetype": "application/julia",
   "name": "julia",
   "version": "1.2.0-pre.0"
  },
  "kernelspec": {
   "name": "julia-1.2",
   "display_name": "Julia 1.2.0-pre.0",
   "language": "julia"
  }
 },
 "nbformat": 4
}
