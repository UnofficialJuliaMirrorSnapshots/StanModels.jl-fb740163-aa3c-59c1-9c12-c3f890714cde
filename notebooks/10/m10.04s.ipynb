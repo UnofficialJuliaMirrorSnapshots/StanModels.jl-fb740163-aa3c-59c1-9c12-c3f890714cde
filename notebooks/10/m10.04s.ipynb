{
 "cells": [
  {
   "outputs": [],
   "cell_type": "markdown",
   "source": [
    "Load Julia packages (libraries) needed  for the snippets in chapter 0"
   ],
   "metadata": {}
  },
  {
   "outputs": [],
   "cell_type": "code",
   "source": [
    "using StanModels"
   ],
   "metadata": {},
   "execution_count": 1
  },
  {
   "outputs": [],
   "cell_type": "markdown",
   "source": [
    "CmdStan uses a tmp directory to store the output of cmdstan"
   ],
   "metadata": {}
  },
  {
   "outputs": [],
   "cell_type": "code",
   "source": [
    "ProjDir = @__DIR__\n",
    "cd(ProjDir)"
   ],
   "metadata": {},
   "execution_count": 2
  },
  {
   "outputs": [],
   "cell_type": "markdown",
   "source": [
    "### snippet 10.4"
   ],
   "metadata": {}
  },
  {
   "outputs": [
    {
     "output_type": "execute_result",
     "data": {
      "text/plain": "5×8 DataFrame. Omitted printing of 2 columns\n│ Row │ actor  │ recipient │ condition │ block  │ trial  │ prosoc_left │\n│     │ \u001b[90mInt64⍰\u001b[39m │ \u001b[90mString⍰\u001b[39m   │ \u001b[90mInt64⍰\u001b[39m    │ \u001b[90mInt64⍰\u001b[39m │ \u001b[90mInt64⍰\u001b[39m │ \u001b[90mInt64⍰\u001b[39m      │\n├─────┼────────┼───────────┼───────────┼────────┼────────┼─────────────┤\n│ 1   │ 1      │ NA        │ 0         │ 1      │ 2      │ 0           │\n│ 2   │ 1      │ NA        │ 0         │ 1      │ 4      │ 0           │\n│ 3   │ 1      │ NA        │ 0         │ 1      │ 6      │ 1           │\n│ 4   │ 1      │ NA        │ 0         │ 1      │ 8      │ 0           │\n│ 5   │ 1      │ NA        │ 0         │ 1      │ 10     │ 1           │",
      "text/html": [
       "<table class=\"data-frame\"><thead><tr><th></th><th>actor</th><th>recipient</th><th>condition</th><th>block</th><th>trial</th><th>prosoc_left</th><th>chose_prosoc</th><th>pulled_left</th></tr><tr><th></th><th>Int64⍰</th><th>String⍰</th><th>Int64⍰</th><th>Int64⍰</th><th>Int64⍰</th><th>Int64⍰</th><th>Int64⍰</th><th>Int64⍰</th></tr></thead><tbody><p>5 rows × 8 columns</p><tr><th>1</th><td>1</td><td>NA</td><td>0</td><td>1</td><td>2</td><td>0</td><td>1</td><td>0</td></tr><tr><th>2</th><td>1</td><td>NA</td><td>0</td><td>1</td><td>4</td><td>0</td><td>0</td><td>1</td></tr><tr><th>3</th><td>1</td><td>NA</td><td>0</td><td>1</td><td>6</td><td>1</td><td>0</td><td>0</td></tr><tr><th>4</th><td>1</td><td>NA</td><td>0</td><td>1</td><td>8</td><td>0</td><td>1</td><td>0</td></tr><tr><th>5</th><td>1</td><td>NA</td><td>0</td><td>1</td><td>10</td><td>1</td><td>1</td><td>1</td></tr></tbody></table>"
      ]
     },
     "metadata": {},
     "execution_count": 3
    }
   ],
   "cell_type": "code",
   "source": [
    "d = CSV.read(rel_path(\"..\", \"data\", \"chimpanzees.csv\"), delim=';');\n",
    "df = convert(DataFrame, d);\n",
    "\n",
    "first(df, 5)"
   ],
   "metadata": {},
   "execution_count": 3
  },
  {
   "outputs": [],
   "cell_type": "markdown",
   "source": [
    "Define the Stan language model"
   ],
   "metadata": {}
  },
  {
   "outputs": [],
   "cell_type": "code",
   "source": [
    "m_10_04 = \"\n",
    "data{\n",
    "    int N;\n",
    "    int N_actors;\n",
    "    int pulled_left[N];\n",
    "    int prosoc_left[N];\n",
    "    int condition[N];\n",
    "    int actor[N];\n",
    "}\n",
    "parameters{\n",
    "    vector[N_actors] a;\n",
    "    real bp;\n",
    "    real bpC;\n",
    "}\n",
    "model{\n",
    "    vector[N] p;\n",
    "    bpC ~ normal( 0 , 10 );\n",
    "    bp ~ normal( 0 , 10 );\n",
    "    a ~ normal( 0 , 10 );\n",
    "    for ( i in 1:504 ) {\n",
    "        p[i] = a[actor[i]] + (bp + bpC * condition[i]) * prosoc_left[i];\n",
    "        p[i] = inv_logit(p[i]);\n",
    "    }\n",
    "    pulled_left ~ binomial( 1 , p );\n",
    "}\n",
    "\";"
   ],
   "metadata": {},
   "execution_count": 4
  },
  {
   "outputs": [],
   "cell_type": "markdown",
   "source": [
    "Define the Stanmodel and set the output format to :mcmcchains."
   ],
   "metadata": {}
  },
  {
   "outputs": [
    {
     "name": "stdout",
     "output_type": "stream",
     "text": [
      "\n",
      "File /Users/rob/.julia/dev/StanModels/notebooks/10/tmp/m_10_04.stan will be updated.\n",
      "\n"
     ]
    }
   ],
   "cell_type": "code",
   "source": [
    "stanmodel = Stanmodel(name=\"m_10_04\",\n",
    "model=m_10_04, output_format=:mcmcchains);"
   ],
   "metadata": {},
   "execution_count": 5
  },
  {
   "outputs": [],
   "cell_type": "markdown",
   "source": [
    "Input data for cmdstan"
   ],
   "metadata": {}
  },
  {
   "outputs": [],
   "cell_type": "code",
   "source": [
    "m_10_04_data = Dict(\"N\" => size(df, 1), \"N_actors\" => length(unique(df[:actor])),\n",
    "\"actor\" => df[:actor], \"pulled_left\" => df[:pulled_left],\n",
    "\"prosoc_left\" => df[:prosoc_left], \"condition\" => df[:condition]);"
   ],
   "metadata": {},
   "execution_count": 6
  },
  {
   "outputs": [],
   "cell_type": "markdown",
   "source": [
    "Sample using cmdstan"
   ],
   "metadata": {}
  },
  {
   "outputs": [
    {
     "name": "stdout",
     "output_type": "stream",
     "text": [
      "\n",
      "Inference for Stan model: m_10_04_model\n",
      "4 chains: each with iter=(1000,1000,1000,1000); warmup=(0,0,0,0); thin=(1,1,1,1); 4000 iterations saved.\n",
      "\n",
      "Warmup took (1.6, 1.5, 1.4, 1.5) seconds, 6.0 seconds total\n",
      "Sampling took (1.4, 1.4, 1.4, 1.4) seconds, 5.5 seconds total\n",
      "\n",
      "                 Mean     MCSE  StdDev     5%    50%    95%  N_Eff  N_Eff/s    R_hat\n",
      "lp__             -261  5.1e-02     2.1   -265   -261   -259   1769      324  1.0e+00\n",
      "accept_stat__    0.86  3.4e-03    0.20   0.41   0.93    1.0   3429      629  1.0e+00\n",
      "stepsize__       0.35  7.2e-03   0.010   0.34   0.36   0.37    2.0     0.37  2.0e+13\n",
      "treedepth__       3.3  1.0e-02    0.62    2.0    3.0    4.0   3694      677  1.0e+00\n",
      "n_leapfrog__       12  1.2e-01     7.1    7.0     15     23   3668      673  1.0e+00\n",
      "divergent__     0.065  4.3e-03    0.25   0.00   0.00    1.0   3295      604  1.0e+00\n",
      "energy__          266  7.6e-02     3.0    262    266    271   1573      289  1.0e+00\n",
      "a[1]            -0.74  5.3e-03    0.27   -1.2  -0.74  -0.30   2663      488  1.0e+00\n",
      "a[2]               11  1.3e-01     5.3    4.4    9.9     21   1704      313  1.0e+00\n",
      "a[3]             -1.0  5.2e-03    0.28   -1.5   -1.0  -0.58   2988      548  1.0e+00\n",
      "a[4]             -1.0  5.0e-03    0.28   -1.5   -1.0  -0.58   3136      575  1.0e+00\n",
      "a[5]            -0.73  4.8e-03    0.26   -1.2  -0.72  -0.30   3019      554  1.0e+00\n",
      "a[6]             0.23  4.9e-03    0.27  -0.22   0.23   0.67   3011      552  1.0e+00\n",
      "a[7]              1.8  6.8e-03    0.40    1.2    1.8    2.5   3477      638  1.0e+00\n",
      "bp               0.83  5.8e-03    0.26   0.42   0.83    1.3   1995      366  1.0e+00\n",
      "bpC             -0.14  5.7e-03    0.30  -0.63  -0.13   0.35   2745      503  1.0e+00\n",
      "\n",
      "Samples were drawn using hmc with nuts.\n",
      "For each parameter, N_Eff is a crude measure of effective sample size,\n",
      "and R_hat is the potential scale reduction factor on split chains (at \n",
      "convergence, R_hat=1).\n",
      "\n"
     ]
    }
   ],
   "cell_type": "code",
   "source": [
    "rc, chn, cnames = stan(stanmodel, m_10_04_data, ProjDir, diagnostics=false,\n",
    "  summary=true, CmdStanDir=CMDSTAN_HOME);\n",
    "# Result rethinking\n",
    "rethinking = \"\n",
    "      mean   sd  5.5% 94.5% n_eff Rhat\n",
    "bp    0.84 0.26  0.43  1.26  2271    1\n",
    "bpC  -0.13 0.29 -0.59  0.34  2949    1\n",
    "\n",
    "a[1] -0.74 0.27 -1.16 -0.31  3310    1\n",
    "a[2] 10.88 5.20  4.57 20.73  1634    1\n",
    "a[3] -1.05 0.28 -1.52 -0.59  4206    1\n",
    "a[4] -1.05 0.28 -1.50 -0.60  4133    1\n",
    "a[5] -0.75 0.27 -1.18 -0.32  4049    1\n",
    "a[6]  0.22 0.27 -0.22  0.65  3877    1\n",
    "a[7]  1.81 0.39  1.22  2.48  3807    1\n",
    "\";"
   ],
   "metadata": {},
   "execution_count": 7
  },
  {
   "outputs": [],
   "cell_type": "markdown",
   "source": [
    "Update sections"
   ],
   "metadata": {}
  },
  {
   "outputs": [
    {
     "output_type": "execute_result",
     "data": {
      "text/plain": "Object of type Chains, with data of type 1000×16×4 Array{Float64,3}\n\nIterations        = 1:1000\nThinning interval = 1\nChains            = 1, 2, 3, 4\nSamples per chain = 1000\npooled            = a.1, a.2, a.3, a.4, a.5, a.6, a.7\ninternals         = lp__, accept_stat__, stepsize__, treedepth__, n_leapfrog__, divergent__, energy__\nparameters        = bp, bpC\n\nparameters\n      Mean    SD   Naive SE  MCSE   ESS\n bp  0.8342 0.2603   0.0041 0.0055 1000\nbpC -0.1360 0.2966   0.0047 0.0060 1000\n\n"
     },
     "metadata": {},
     "execution_count": 8
    }
   ],
   "cell_type": "code",
   "source": [
    "chn2 = set_section(chn, Dict(\n",
    "  :parameters => [\"bp\", \"bpC\"],\n",
    "  :pooled => [\"a.$i\" for i in 1:7],\n",
    "  :internals => [\"lp__\", \"accept_stat__\", \"stepsize__\", \"treedepth__\", \"n_leapfrog__\",\n",
    "    \"divergent__\", \"energy__\"]\n",
    "  )\n",
    ")"
   ],
   "metadata": {},
   "execution_count": 8
  },
  {
   "outputs": [],
   "cell_type": "markdown",
   "source": [
    "Describe parameter draws"
   ],
   "metadata": {}
  },
  {
   "outputs": [
    {
     "name": "stdout",
     "output_type": "stream",
     "text": [
      "Iterations        = 1:1000\n",
      "Thinning interval = 1\n",
      "Chains            = 1, 2, 3, 4\n",
      "Samples per chain = 1000\n",
      "parameters        = bp, bpC\n",
      "\n",
      "Empirical Posterior Estimates\n",
      "─────────────────────────────────────────\n",
      "parameters\n",
      "      Mean    SD   Naive SE  MCSE   ESS\n",
      " bp  0.8342 0.2603   0.0041 0.0055 1000\n",
      "bpC -0.1360 0.2966   0.0047 0.0060 1000\n",
      "\n",
      "Quantiles\n",
      "─────────────────────────────────────────\n",
      "parameters\n",
      "      2.5%   25.0%   50.0%   75.0%  97.5%\n",
      " bp  0.3146  0.6577  0.8345 1.0090 1.3558\n",
      "bpC -0.7229 -0.3329 -0.1335 0.0654 0.4486\n",
      "\n"
     ]
    }
   ],
   "cell_type": "code",
   "source": [
    "describe(chn2)"
   ],
   "metadata": {},
   "execution_count": 9
  },
  {
   "outputs": [],
   "cell_type": "markdown",
   "source": [
    "Describe pooled parameter draws"
   ],
   "metadata": {}
  },
  {
   "outputs": [
    {
     "name": "stdout",
     "output_type": "stream",
     "text": [
      "Iterations        = 1:1000\n",
      "Thinning interval = 1\n",
      "Chains            = 1, 2, 3, 4\n",
      "Samples per chain = 1000\n",
      "pooled            = a.1, a.2, a.3, a.4, a.5, a.6, a.7\n",
      "\n",
      "Empirical Posterior Estimates\n",
      "───────────────────────────────────────────\n",
      "pooled\n",
      "      Mean    SD   Naive SE  MCSE   ESS\n",
      "a.1 -0.7415 0.2713   0.0043 0.0053 1000\n",
      "a.2 11.0413 5.3127   0.0840 0.1178 1000\n",
      "a.3 -1.0479 0.2847   0.0045 0.0049 1000\n",
      "a.4 -1.0468 0.2819   0.0045 0.0063 1000\n",
      "a.5 -0.7289 0.2633   0.0042 0.0048 1000\n",
      "a.6  0.2273 0.2684   0.0042 0.0047 1000\n",
      "a.7  1.8182 0.3989   0.0063 0.0072 1000\n",
      "\n",
      "Quantiles\n",
      "───────────────────────────────────────────\n",
      "pooled\n",
      "      2.5%   25.0%   50.0%   75.0%   97.5% \n",
      "a.1 -1.2856 -0.9192 -0.7390 -0.5535 -0.2263\n",
      "a.2  3.9468  6.9202  9.8757 14.1964 23.7509\n",
      "a.3 -1.6256 -1.2349 -1.0449 -0.8576 -0.5016\n",
      "a.4 -1.5980 -1.2401 -1.0411 -0.8609 -0.4810\n",
      "a.5 -1.2691 -0.9016 -0.7247 -0.5494 -0.2307\n",
      "a.6 -0.3122  0.0498  0.2265  0.4046  0.7640\n",
      "a.7  1.0827  1.5398  1.8023  2.0751  2.6671\n",
      "\n"
     ]
    }
   ],
   "cell_type": "code",
   "source": [
    "describe(chn2, section=:pooled)"
   ],
   "metadata": {},
   "execution_count": 10
  },
  {
   "outputs": [],
   "cell_type": "markdown",
   "source": [
    "Make it a DataFrame"
   ],
   "metadata": {}
  },
  {
   "outputs": [
    {
     "output_type": "execute_result",
     "data": {
      "text/plain": "4000×9 DataFrame. Omitted printing of 3 columns\n│ Row  │ bp       │ bpC         │ a.1       │ a.2     │ a.3       │ a.4       │\n│      │ \u001b[90mFloat64\u001b[39m  │ \u001b[90mFloat64\u001b[39m     │ \u001b[90mFloat64\u001b[39m   │ \u001b[90mFloat64\u001b[39m │ \u001b[90mFloat64\u001b[39m   │ \u001b[90mFloat64\u001b[39m   │\n├──────┼──────────┼─────────────┼───────────┼─────────┼───────────┼───────────┤\n│ 1    │ 0.685677 │ 0.097135    │ -0.745356 │ 11.6086 │ -1.09798  │ -0.874046 │\n│ 2    │ 1.02894  │ -0.459716   │ -0.929179 │ 4.30027 │ -0.913189 │ -1.0982   │\n│ 3    │ 0.457449 │ 0.00354925  │ -0.775134 │ 13.3544 │ -0.647044 │ -0.818562 │\n│ 4    │ 0.617577 │ 0.218592    │ -0.508346 │ 5.43116 │ -1.51773  │ -1.03842  │\n│ 5    │ 0.947153 │ -0.402022   │ -0.699986 │ 14.9541 │ -0.696363 │ -0.981015 │\n│ 6    │ 0.675831 │ -0.00187811 │ -0.299711 │ 19.5546 │ -1.05235  │ -1.51161  │\n│ 7    │ 0.607533 │ -0.329485   │ -0.546325 │ 14.1924 │ -0.962261 │ -0.422542 │\n⋮\n│ 3993 │ 0.703199 │ 0.501736    │ -1.03451  │ 12.0537 │ -1.60659  │ -1.34504  │\n│ 3994 │ 1.00073  │ -0.952443   │ -0.513845 │ 6.4079  │ -0.662476 │ -0.800684 │\n│ 3995 │ 0.311998 │ 0.342854    │ -0.548567 │ 12.1027 │ -0.842288 │ -1.19572  │\n│ 3996 │ 1.29866  │ -0.516971   │ -0.841848 │ 4.83232 │ -1.28328  │ -0.876795 │\n│ 3997 │ 1.44589  │ -0.840818   │ -0.755893 │ 8.76776 │ -1.14185  │ -0.711691 │\n│ 3998 │ 1.38739  │ -0.711935   │ -1.09964  │ 5.41274 │ -1.15263  │ -1.16717  │\n│ 3999 │ 0.541056 │ 0.42258     │ -0.603565 │ 9.21769 │ -1.19937  │ -1.25058  │\n│ 4000 │ 0.821807 │ -0.539009   │ -0.421004 │ 7.53375 │ -0.579008 │ -0.885655 │",
      "text/html": [
       "<table class=\"data-frame\"><thead><tr><th></th><th>bp</th><th>bpC</th><th>a.1</th><th>a.2</th><th>a.3</th><th>a.4</th><th>a.5</th><th>a.6</th><th>a.7</th></tr><tr><th></th><th>Float64</th><th>Float64</th><th>Float64</th><th>Float64</th><th>Float64</th><th>Float64</th><th>Float64</th><th>Float64</th><th>Float64</th></tr></thead><tbody><p>4,000 rows × 9 columns</p><tr><th>1</th><td>0.685677</td><td>0.097135</td><td>-0.745356</td><td>11.6086</td><td>-1.09798</td><td>-0.874046</td><td>-0.739401</td><td>0.0809897</td><td>1.57253</td></tr><tr><th>2</th><td>1.02894</td><td>-0.459716</td><td>-0.929179</td><td>4.30027</td><td>-0.913189</td><td>-1.0982</td><td>-0.713167</td><td>0.601966</td><td>2.45767</td></tr><tr><th>3</th><td>0.457449</td><td>0.00354925</td><td>-0.775134</td><td>13.3544</td><td>-0.647044</td><td>-0.818562</td><td>-0.522957</td><td>0.298212</td><td>1.71648</td></tr><tr><th>4</th><td>0.617577</td><td>0.218592</td><td>-0.508346</td><td>5.43116</td><td>-1.51773</td><td>-1.03842</td><td>-0.850773</td><td>0.248294</td><td>1.59961</td></tr><tr><th>5</th><td>0.947153</td><td>-0.402022</td><td>-0.699986</td><td>14.9541</td><td>-0.696363</td><td>-0.981015</td><td>-0.719213</td><td>0.0101301</td><td>3.00923</td></tr><tr><th>6</th><td>0.675831</td><td>-0.00187811</td><td>-0.299711</td><td>19.5546</td><td>-1.05235</td><td>-1.51161</td><td>-1.06108</td><td>0.0985422</td><td>1.94251</td></tr><tr><th>7</th><td>0.607533</td><td>-0.329485</td><td>-0.546325</td><td>14.1924</td><td>-0.962261</td><td>-0.422542</td><td>-0.0782751</td><td>0.633032</td><td>1.93488</td></tr><tr><th>8</th><td>0.865398</td><td>-0.836392</td><td>-0.872458</td><td>10.1876</td><td>-0.741429</td><td>-0.751142</td><td>-0.281395</td><td>0.801744</td><td>1.94114</td></tr><tr><th>9</th><td>0.923527</td><td>0.0436333</td><td>-1.33449</td><td>5.66693</td><td>-1.35219</td><td>-1.50298</td><td>-0.580775</td><td>0.409871</td><td>1.69153</td></tr><tr><th>10</th><td>0.834507</td><td>0.159757</td><td>-1.02797</td><td>7.18577</td><td>-0.904888</td><td>-1.25889</td><td>-0.794271</td><td>-0.20987</td><td>1.45918</td></tr><tr><th>11</th><td>0.96372</td><td>-0.438182</td><td>-0.401043</td><td>9.6351</td><td>-0.798749</td><td>-0.81569</td><td>-0.833098</td><td>0.443285</td><td>1.94773</td></tr><tr><th>12</th><td>0.829108</td><td>0.174788</td><td>-1.01336</td><td>5.03178</td><td>-1.14606</td><td>-1.17307</td><td>-0.519105</td><td>0.0343729</td><td>1.8863</td></tr><tr><th>13</th><td>1.15425</td><td>-0.508836</td><td>-0.479866</td><td>10.7432</td><td>-1.35288</td><td>-1.01074</td><td>-1.06905</td><td>0.434171</td><td>1.66273</td></tr><tr><th>14</th><td>1.19953</td><td>-0.294034</td><td>-0.885132</td><td>11.8031</td><td>-1.0838</td><td>-0.79542</td><td>-0.878956</td><td>0.230369</td><td>1.87659</td></tr><tr><th>15</th><td>1.05304</td><td>-0.196848</td><td>-0.86301</td><td>12.4993</td><td>-1.23162</td><td>-0.670404</td><td>-0.794097</td><td>0.198077</td><td>1.5343</td></tr><tr><th>16</th><td>0.978047</td><td>-0.162372</td><td>-0.544483</td><td>12.9436</td><td>-1.28239</td><td>-1.47777</td><td>-0.84309</td><td>0.256894</td><td>1.89576</td></tr><tr><th>17</th><td>0.496246</td><td>-0.014711</td><td>-0.670238</td><td>12.7662</td><td>-0.828361</td><td>-0.445279</td><td>-0.462935</td><td>0.0931846</td><td>2.33182</td></tr><tr><th>18</th><td>1.25458</td><td>0.0359847</td><td>-0.969247</td><td>8.11742</td><td>-1.4811</td><td>-1.76794</td><td>-0.592937</td><td>0.0792832</td><td>1.59159</td></tr><tr><th>19</th><td>1.26667</td><td>-0.530296</td><td>-0.941868</td><td>5.07291</td><td>-1.44865</td><td>-1.46338</td><td>-1.31995</td><td>-0.0896193</td><td>1.87938</td></tr><tr><th>20</th><td>0.764465</td><td>-0.529723</td><td>-0.698571</td><td>18.5436</td><td>-0.780422</td><td>-0.925566</td><td>-0.359195</td><td>-0.0602969</td><td>1.49148</td></tr><tr><th>21</th><td>1.06047</td><td>-0.121138</td><td>-0.624196</td><td>18.13</td><td>-1.18579</td><td>-0.771606</td><td>-0.641419</td><td>0.374132</td><td>1.25057</td></tr><tr><th>22</th><td>0.682718</td><td>-0.223001</td><td>-1.12675</td><td>20.4448</td><td>-1.24222</td><td>-0.746553</td><td>-0.598177</td><td>-0.209226</td><td>1.84012</td></tr><tr><th>23</th><td>0.918604</td><td>0.106736</td><td>-0.700156</td><td>24.4322</td><td>-0.965326</td><td>-0.835078</td><td>-0.870741</td><td>0.404582</td><td>1.82733</td></tr><tr><th>24</th><td>0.639748</td><td>0.199565</td><td>-0.787543</td><td>17.4207</td><td>-1.27615</td><td>-0.861674</td><td>-1.12852</td><td>0.25713</td><td>1.73424</td></tr><tr><th>&vellip;</th><td>&vellip;</td><td>&vellip;</td><td>&vellip;</td><td>&vellip;</td><td>&vellip;</td><td>&vellip;</td><td>&vellip;</td><td>&vellip;</td><td>&vellip;</td></tr></tbody></table>"
      ]
     },
     "metadata": {},
     "execution_count": 11
    }
   ],
   "cell_type": "code",
   "source": [
    "df = DataFrame(chn2, [:parameters, :pooled])"
   ],
   "metadata": {},
   "execution_count": 11
  },
  {
   "outputs": [],
   "cell_type": "markdown",
   "source": [
    "End of `10/m10.04s.jl`"
   ],
   "metadata": {}
  },
  {
   "outputs": [],
   "cell_type": "markdown",
   "source": [
    "*This notebook was generated using [Literate.jl](https://github.com/fredrikekre/Literate.jl).*"
   ],
   "metadata": {}
  }
 ],
 "nbformat_minor": 3,
 "metadata": {
  "language_info": {
   "file_extension": ".jl",
   "mimetype": "application/julia",
   "name": "julia",
   "version": "1.2.0-DEV.624"
  },
  "kernelspec": {
   "name": "julia-1.2",
   "display_name": "Julia 1.2.0-DEV.624",
   "language": "julia"
  }
 },
 "nbformat": 4
}
