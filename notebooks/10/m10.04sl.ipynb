{
 "cells": [
  {
   "outputs": [],
   "cell_type": "markdown",
   "source": [
    "Load Julia packages (libraries) needed  for the snippets in chapter 0"
   ],
   "metadata": {}
  },
  {
   "outputs": [],
   "cell_type": "code",
   "source": [
    "using StanModels"
   ],
   "metadata": {},
   "execution_count": 1
  },
  {
   "outputs": [],
   "cell_type": "markdown",
   "source": [
    "CmdStan uses a tmp directory to store the output of cmdstan"
   ],
   "metadata": {}
  },
  {
   "outputs": [],
   "cell_type": "code",
   "source": [
    "ProjDir = @__DIR__\n",
    "cd(ProjDir)"
   ],
   "metadata": {},
   "execution_count": 2
  },
  {
   "outputs": [],
   "cell_type": "markdown",
   "source": [
    "### snippet 10.4"
   ],
   "metadata": {}
  },
  {
   "outputs": [
    {
     "output_type": "execute_result",
     "data": {
      "text/plain": "5×8 DataFrame. Omitted printing of 2 columns\n│ Row │ actor  │ recipient │ condition │ block  │ trial  │ prosoc_left │\n│     │ \u001b[90mInt64⍰\u001b[39m │ \u001b[90mString⍰\u001b[39m   │ \u001b[90mInt64⍰\u001b[39m    │ \u001b[90mInt64⍰\u001b[39m │ \u001b[90mInt64⍰\u001b[39m │ \u001b[90mInt64⍰\u001b[39m      │\n├─────┼────────┼───────────┼───────────┼────────┼────────┼─────────────┤\n│ 1   │ 1      │ NA        │ 0         │ 1      │ 2      │ 0           │\n│ 2   │ 1      │ NA        │ 0         │ 1      │ 4      │ 0           │\n│ 3   │ 1      │ NA        │ 0         │ 1      │ 6      │ 1           │\n│ 4   │ 1      │ NA        │ 0         │ 1      │ 8      │ 0           │\n│ 5   │ 1      │ NA        │ 0         │ 1      │ 10     │ 1           │",
      "text/html": [
       "<table class=\"data-frame\"><thead><tr><th></th><th>actor</th><th>recipient</th><th>condition</th><th>block</th><th>trial</th><th>prosoc_left</th><th>chose_prosoc</th><th>pulled_left</th></tr><tr><th></th><th>Int64⍰</th><th>String⍰</th><th>Int64⍰</th><th>Int64⍰</th><th>Int64⍰</th><th>Int64⍰</th><th>Int64⍰</th><th>Int64⍰</th></tr></thead><tbody><p>5 rows × 8 columns</p><tr><th>1</th><td>1</td><td>NA</td><td>0</td><td>1</td><td>2</td><td>0</td><td>1</td><td>0</td></tr><tr><th>2</th><td>1</td><td>NA</td><td>0</td><td>1</td><td>4</td><td>0</td><td>0</td><td>1</td></tr><tr><th>3</th><td>1</td><td>NA</td><td>0</td><td>1</td><td>6</td><td>1</td><td>0</td><td>0</td></tr><tr><th>4</th><td>1</td><td>NA</td><td>0</td><td>1</td><td>8</td><td>0</td><td>1</td><td>0</td></tr><tr><th>5</th><td>1</td><td>NA</td><td>0</td><td>1</td><td>10</td><td>1</td><td>1</td><td>1</td></tr></tbody></table>"
      ]
     },
     "metadata": {},
     "execution_count": 3
    }
   ],
   "cell_type": "code",
   "source": [
    "d = CSV.read(rel_path(\"..\", \"data\", \"chimpanzees.csv\"), delim=';');\n",
    "df = convert(DataFrame, d);\n",
    "\n",
    "first(df, 5)"
   ],
   "metadata": {},
   "execution_count": 3
  },
  {
   "outputs": [],
   "cell_type": "markdown",
   "source": [
    "Define the Stan language model"
   ],
   "metadata": {}
  },
  {
   "outputs": [],
   "cell_type": "code",
   "source": [
    "m_10_04 = \"\n",
    "data {\n",
    "  int N;\n",
    "  int<lower=0, upper=1> L[N];\n",
    "  vector[N] P;\n",
    "  vector[N] C;\n",
    "\n",
    "  int<lower=1, upper=N> N_chimps;\n",
    "  int<lower=1, upper=N_chimps> chimp[N];\n",
    "}\n",
    "parameters {\n",
    "  real a_chimp[N_chimps];\n",
    "  real bp;\n",
    "  real bpc;\n",
    "}\n",
    "model {\n",
    "  vector[N] p;\n",
    "  target += normal_lpdf(a_chimp | 0, 10);\n",
    "  target += normal_lpdf(bp | 0, 10);\n",
    "  target += normal_lpdf(bpc | 0, 10);\n",
    "  for (i in 1:N) p[i] = a_chimp[chimp[i]] + (bp + bpc * C[i]) * P[i];\n",
    "  target += binomial_logit_lpmf(L | 1, p);\n",
    "}\n",
    "generated quantities {\n",
    "  vector[N] log_lik;\n",
    "  {\n",
    "    vector[N] p;\n",
    "    for(n in 1:N) {\n",
    "      p[n] = a_chimp[chimp[n]] + (bp + bpc * C[n]) * P[n];\n",
    "      log_lik[n] = binomial_logit_lpmf(L[n] | 1, p[n]);\n",
    "    }\n",
    "  }\n",
    "}\n",
    "\";"
   ],
   "metadata": {},
   "execution_count": 4
  },
  {
   "outputs": [],
   "cell_type": "markdown",
   "source": [
    "Define the Stanmodel and set the output format to :mcmcchains."
   ],
   "metadata": {}
  },
  {
   "outputs": [
    {
     "name": "stdout",
     "output_type": "stream",
     "text": [
      "\n",
      "File /Users/rob/.julia/dev/StanModels/notebooks/10/tmp/m_10_04.stan will be updated.\n",
      "\n"
     ]
    }
   ],
   "cell_type": "code",
   "source": [
    "stanmodel = Stanmodel(name=\"m_10_04\",\n",
    "model=m_10_04, output_format=:mcmcchains);"
   ],
   "metadata": {},
   "execution_count": 5
  },
  {
   "outputs": [],
   "cell_type": "markdown",
   "source": [
    "Input data for cmdstan"
   ],
   "metadata": {}
  },
  {
   "outputs": [],
   "cell_type": "code",
   "source": [
    "m_10_04_data = Dict(\"N\" => size(df, 1), \"N_chimps\" => length(unique(df[:actor])),\n",
    "\"chimp\" => df[:actor], \"L\" => df[:pulled_left],\n",
    "\"P\" => df[:prosoc_left], \"C\" => df[:condition]);"
   ],
   "metadata": {},
   "execution_count": 6
  },
  {
   "outputs": [],
   "cell_type": "markdown",
   "source": [
    "Sample using cmdstan"
   ],
   "metadata": {}
  },
  {
   "outputs": [],
   "cell_type": "code",
   "source": [
    "rc, chn, cnames = stan(stanmodel, m_10_04_data, ProjDir, diagnostics=false,\n",
    "  summary=false, CmdStanDir=CMDSTAN_HOME);\n",
    "# Result rethinking\n",
    "rethinking = \"\n",
    "      mean   sd  5.5% 94.5% n_eff Rhat\n",
    "bp    0.84 0.26  0.43  1.26  2271    1\n",
    "bpC  -0.13 0.29 -0.59  0.34  2949    1\n",
    "\n",
    "a[1] -0.74 0.27 -1.16 -0.31  3310    1\n",
    "a[2] 10.88 5.20  4.57 20.73  1634    1\n",
    "a[3] -1.05 0.28 -1.52 -0.59  4206    1\n",
    "a[4] -1.05 0.28 -1.50 -0.60  4133    1\n",
    "a[5] -0.75 0.27 -1.18 -0.32  4049    1\n",
    "a[6]  0.22 0.27 -0.22  0.65  3877    1\n",
    "a[7]  1.81 0.39  1.22  2.48  3807    1\n",
    "\";"
   ],
   "metadata": {},
   "execution_count": 7
  },
  {
   "outputs": [],
   "cell_type": "markdown",
   "source": [
    "Update sections"
   ],
   "metadata": {}
  },
  {
   "outputs": [
    {
     "output_type": "execute_result",
     "data": {
      "text/plain": "Object of type Chains, with data of type 1000×520×4 Array{Float64,3}\n\nIterations        = 1:1000\nThinning interval = 1\nChains            = 1, 2, 3, 4\nSamples per chain = 1000\ngenerated         = log_lik.1, log_lik.2, log_lik.3, log_lik.4, log_lik.5, log_lik.6, log_lik.7, log_lik.8, log_lik.9, log_lik.10, log_lik.11, log_lik.12, log_lik.13, log_lik.14, log_lik.15, log_lik.16, log_lik.17, log_lik.18, log_lik.19, log_lik.20, log_lik.21, log_lik.22, log_lik.23, log_lik.24, log_lik.25, log_lik.26, log_lik.27, log_lik.28, log_lik.29, log_lik.30, log_lik.31, log_lik.32, log_lik.33, log_lik.34, log_lik.35, log_lik.36, log_lik.37, log_lik.38, log_lik.39, log_lik.40, log_lik.41, log_lik.42, log_lik.43, log_lik.44, log_lik.45, log_lik.46, log_lik.47, log_lik.48, log_lik.49, log_lik.50, log_lik.51, log_lik.52, log_lik.53, log_lik.54, log_lik.55, log_lik.56, log_lik.57, log_lik.58, log_lik.59, log_lik.60, log_lik.61, log_lik.62, log_lik.63, log_lik.64, log_lik.65, log_lik.66, log_lik.67, log_lik.68, log_lik.69, log_lik.70, log_lik.71, log_lik.72, log_lik.73, log_lik.74, log_lik.75, log_lik.76, log_lik.77, log_lik.78, log_lik.79, log_lik.80, log_lik.81, log_lik.82, log_lik.83, log_lik.84, log_lik.85, log_lik.86, log_lik.87, log_lik.88, log_lik.89, log_lik.90, log_lik.91, log_lik.92, log_lik.93, log_lik.94, log_lik.95, log_lik.96, log_lik.97, log_lik.98, log_lik.99, log_lik.100, log_lik.101, log_lik.102, log_lik.103, log_lik.104, log_lik.105, log_lik.106, log_lik.107, log_lik.108, log_lik.109, log_lik.110, log_lik.111, log_lik.112, log_lik.113, log_lik.114, log_lik.115, log_lik.116, log_lik.117, log_lik.118, log_lik.119, log_lik.120, log_lik.121, log_lik.122, log_lik.123, log_lik.124, log_lik.125, log_lik.126, log_lik.127, log_lik.128, log_lik.129, log_lik.130, log_lik.131, log_lik.132, log_lik.133, log_lik.134, log_lik.135, log_lik.136, log_lik.137, log_lik.138, log_lik.139, log_lik.140, log_lik.141, log_lik.142, log_lik.143, log_lik.144, log_lik.145, log_lik.146, log_lik.147, log_lik.148, log_lik.149, log_lik.150, log_lik.151, log_lik.152, log_lik.153, log_lik.154, log_lik.155, log_lik.156, log_lik.157, log_lik.158, log_lik.159, log_lik.160, log_lik.161, log_lik.162, log_lik.163, log_lik.164, log_lik.165, log_lik.166, log_lik.167, log_lik.168, log_lik.169, log_lik.170, log_lik.171, log_lik.172, log_lik.173, log_lik.174, log_lik.175, log_lik.176, log_lik.177, log_lik.178, log_lik.179, log_lik.180, log_lik.181, log_lik.182, log_lik.183, log_lik.184, log_lik.185, log_lik.186, log_lik.187, log_lik.188, log_lik.189, log_lik.190, log_lik.191, log_lik.192, log_lik.193, log_lik.194, log_lik.195, log_lik.196, log_lik.197, log_lik.198, log_lik.199, log_lik.200, log_lik.201, log_lik.202, log_lik.203, log_lik.204, log_lik.205, log_lik.206, log_lik.207, log_lik.208, log_lik.209, log_lik.210, log_lik.211, log_lik.212, log_lik.213, log_lik.214, log_lik.215, log_lik.216, log_lik.217, log_lik.218, log_lik.219, log_lik.220, log_lik.221, log_lik.222, log_lik.223, log_lik.224, log_lik.225, log_lik.226, log_lik.227, log_lik.228, log_lik.229, log_lik.230, log_lik.231, log_lik.232, log_lik.233, log_lik.234, log_lik.235, log_lik.236, log_lik.237, log_lik.238, log_lik.239, log_lik.240, log_lik.241, log_lik.242, log_lik.243, log_lik.244, log_lik.245, log_lik.246, log_lik.247, log_lik.248, log_lik.249, log_lik.250, log_lik.251, log_lik.252, log_lik.253, log_lik.254, log_lik.255, log_lik.256, log_lik.257, log_lik.258, log_lik.259, log_lik.260, log_lik.261, log_lik.262, log_lik.263, log_lik.264, log_lik.265, log_lik.266, log_lik.267, log_lik.268, log_lik.269, log_lik.270, log_lik.271, log_lik.272, log_lik.273, log_lik.274, log_lik.275, log_lik.276, log_lik.277, log_lik.278, log_lik.279, log_lik.280, log_lik.281, log_lik.282, log_lik.283, log_lik.284, log_lik.285, log_lik.286, log_lik.287, log_lik.288, log_lik.289, log_lik.290, log_lik.291, log_lik.292, log_lik.293, log_lik.294, log_lik.295, log_lik.296, log_lik.297, log_lik.298, log_lik.299, log_lik.300, log_lik.301, log_lik.302, log_lik.303, log_lik.304, log_lik.305, log_lik.306, log_lik.307, log_lik.308, log_lik.309, log_lik.310, log_lik.311, log_lik.312, log_lik.313, log_lik.314, log_lik.315, log_lik.316, log_lik.317, log_lik.318, log_lik.319, log_lik.320, log_lik.321, log_lik.322, log_lik.323, log_lik.324, log_lik.325, log_lik.326, log_lik.327, log_lik.328, log_lik.329, log_lik.330, log_lik.331, log_lik.332, log_lik.333, log_lik.334, log_lik.335, log_lik.336, log_lik.337, log_lik.338, log_lik.339, log_lik.340, log_lik.341, log_lik.342, log_lik.343, log_lik.344, log_lik.345, log_lik.346, log_lik.347, log_lik.348, log_lik.349, log_lik.350, log_lik.351, log_lik.352, log_lik.353, log_lik.354, log_lik.355, log_lik.356, log_lik.357, log_lik.358, log_lik.359, log_lik.360, log_lik.361, log_lik.362, log_lik.363, log_lik.364, log_lik.365, log_lik.366, log_lik.367, log_lik.368, log_lik.369, log_lik.370, log_lik.371, log_lik.372, log_lik.373, log_lik.374, log_lik.375, log_lik.376, log_lik.377, log_lik.378, log_lik.379, log_lik.380, log_lik.381, log_lik.382, log_lik.383, log_lik.384, log_lik.385, log_lik.386, log_lik.387, log_lik.388, log_lik.389, log_lik.390, log_lik.391, log_lik.392, log_lik.393, log_lik.394, log_lik.395, log_lik.396, log_lik.397, log_lik.398, log_lik.399, log_lik.400, log_lik.401, log_lik.402, log_lik.403, log_lik.404, log_lik.405, log_lik.406, log_lik.407, log_lik.408, log_lik.409, log_lik.410, log_lik.411, log_lik.412, log_lik.413, log_lik.414, log_lik.415, log_lik.416, log_lik.417, log_lik.418, log_lik.419, log_lik.420, log_lik.421, log_lik.422, log_lik.423, log_lik.424, log_lik.425, log_lik.426, log_lik.427, log_lik.428, log_lik.429, log_lik.430, log_lik.431, log_lik.432, log_lik.433, log_lik.434, log_lik.435, log_lik.436, log_lik.437, log_lik.438, log_lik.439, log_lik.440, log_lik.441, log_lik.442, log_lik.443, log_lik.444, log_lik.445, log_lik.446, log_lik.447, log_lik.448, log_lik.449, log_lik.450, log_lik.451, log_lik.452, log_lik.453, log_lik.454, log_lik.455, log_lik.456, log_lik.457, log_lik.458, log_lik.459, log_lik.460, log_lik.461, log_lik.462, log_lik.463, log_lik.464, log_lik.465, log_lik.466, log_lik.467, log_lik.468, log_lik.469, log_lik.470, log_lik.471, log_lik.472, log_lik.473, log_lik.474, log_lik.475, log_lik.476, log_lik.477, log_lik.478, log_lik.479, log_lik.480, log_lik.481, log_lik.482, log_lik.483, log_lik.484, log_lik.485, log_lik.486, log_lik.487, log_lik.488, log_lik.489, log_lik.490, log_lik.491, log_lik.492, log_lik.493, log_lik.494, log_lik.495, log_lik.496, log_lik.497, log_lik.498, log_lik.499, log_lik.500, log_lik.501, log_lik.502, log_lik.503, log_lik.504\npooled            = a_chimp.1, a_chimp.2, a_chimp.3, a_chimp.4, a_chimp.5, a_chimp.6, a_chimp.7\ninternals         = lp__, accept_stat__, stepsize__, treedepth__, n_leapfrog__, divergent__, energy__\nparameters        = bp, bpc\n\nparameters\n      Mean    SD   Naive SE  MCSE   ESS\n bp  0.8356 0.2624   0.0041 0.0053 1000\nbpc -0.1267 0.3045   0.0048 0.0056 1000\n\n"
     },
     "metadata": {},
     "execution_count": 8
    }
   ],
   "cell_type": "code",
   "source": [
    "chn2 = set_section(chn, Dict(\n",
    "  :parameters => [\"bp\", \"bpc\"],\n",
    "  :pooled => [\"a_chimp.$i\" for i in 1:7],\n",
    "  :generated => [\"log_lik.$i\" for i in 1:504],\n",
    "  :internals => [\"lp__\", \"accept_stat__\", \"stepsize__\", \"treedepth__\", \"n_leapfrog__\",\n",
    "    \"divergent__\", \"energy__\"]\n",
    "  )\n",
    ")"
   ],
   "metadata": {},
   "execution_count": 8
  },
  {
   "outputs": [],
   "cell_type": "markdown",
   "source": [
    "Describe parameter draws"
   ],
   "metadata": {}
  },
  {
   "outputs": [
    {
     "name": "stdout",
     "output_type": "stream",
     "text": [
      "Iterations        = 1:1000\n",
      "Thinning interval = 1\n",
      "Chains            = 1, 2, 3, 4\n",
      "Samples per chain = 1000\n",
      "parameters        = bp, bpc\n",
      "\n",
      "Empirical Posterior Estimates\n",
      "─────────────────────────────────────────\n",
      "parameters\n",
      "      Mean    SD   Naive SE  MCSE   ESS\n",
      " bp  0.8356 0.2624   0.0041 0.0053 1000\n",
      "bpc -0.1267 0.3045   0.0048 0.0056 1000\n",
      "\n",
      "Quantiles\n",
      "─────────────────────────────────────────\n",
      "parameters\n",
      "      2.5%   25.0%   50.0%   75.0%  97.5%\n",
      " bp  0.3213  0.6607  0.8337 1.0130 1.3361\n",
      "bpc -0.7368 -0.3262 -0.1286 0.0846 0.4510\n",
      "\n"
     ]
    }
   ],
   "cell_type": "code",
   "source": [
    "describe(chn2)"
   ],
   "metadata": {},
   "execution_count": 9
  },
  {
   "outputs": [],
   "cell_type": "markdown",
   "source": [
    "Describe pooled parameter draws"
   ],
   "metadata": {}
  },
  {
   "outputs": [
    {
     "name": "stdout",
     "output_type": "stream",
     "text": [
      "Iterations        = 1:1000\n",
      "Thinning interval = 1\n",
      "Chains            = 1, 2, 3, 4\n",
      "Samples per chain = 1000\n",
      "pooled            = a_chimp.1, a_chimp.2, a_chimp.3, a_chimp.4, a_chimp.5, a_chimp.6, a_chimp.7\n",
      "\n",
      "Empirical Posterior Estimates\n",
      "─────────────────────────────────────────────────\n",
      "pooled\n",
      "            Mean    SD   Naive SE  MCSE   ESS\n",
      "a_chimp.1 -0.7367 0.2714   0.0043 0.0039 1000\n",
      "a_chimp.2 10.8363 5.2378   0.0828 0.1365 1000\n",
      "a_chimp.3 -1.0509 0.2764   0.0044 0.0052 1000\n",
      "a_chimp.4 -1.0563 0.2837   0.0045 0.0050 1000\n",
      "a_chimp.5 -0.7392 0.2694   0.0043 0.0046 1000\n",
      "a_chimp.6  0.2189 0.2679   0.0042 0.0042 1000\n",
      "a_chimp.7  1.8042 0.4006   0.0063 0.0074 1000\n",
      "\n",
      "Quantiles\n",
      "─────────────────────────────────────────────────\n",
      "pooled\n",
      "            2.5%   25.0%   50.0%   75.0%   97.5% \n",
      "a_chimp.1 -1.2647 -0.9267 -0.7342 -0.5482 -0.2181\n",
      "a_chimp.2  3.9724  6.7996  9.8008 13.6871 23.4016\n",
      "a_chimp.3 -1.6146 -1.2359 -1.0389 -0.8570 -0.5272\n",
      "a_chimp.4 -1.6248 -1.2480 -1.0554 -0.8613 -0.5221\n",
      "a_chimp.5 -1.2835 -0.9215 -0.7415 -0.5581 -0.2135\n",
      "a_chimp.6 -0.3066  0.0420  0.2145  0.3927  0.7662\n",
      "a_chimp.7  1.0879  1.5291  1.7846  2.0484  2.6915\n",
      "\n"
     ]
    }
   ],
   "cell_type": "code",
   "source": [
    "describe(chn2, section=:pooled)"
   ],
   "metadata": {},
   "execution_count": 10
  },
  {
   "outputs": [],
   "cell_type": "markdown",
   "source": [
    "End of `10/m10.04s.jl`"
   ],
   "metadata": {}
  },
  {
   "outputs": [],
   "cell_type": "markdown",
   "source": [
    "*This notebook was generated using [Literate.jl](https://github.com/fredrikekre/Literate.jl).*"
   ],
   "metadata": {}
  }
 ],
 "nbformat_minor": 3,
 "metadata": {
  "language_info": {
   "file_extension": ".jl",
   "mimetype": "application/julia",
   "name": "julia",
   "version": "1.2.0-DEV.624"
  },
  "kernelspec": {
   "name": "julia-1.2",
   "display_name": "Julia 1.2.0-DEV.624",
   "language": "julia"
  }
 },
 "nbformat": 4
}
