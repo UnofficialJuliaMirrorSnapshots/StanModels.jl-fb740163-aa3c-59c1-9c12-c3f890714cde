{
 "cells": [
  {
   "outputs": [
    {
     "output_type": "execute_result",
     "data": {
      "text/plain": "(10, 5)"
     },
     "metadata": {},
     "execution_count": 1
    }
   ],
   "cell_type": "code",
   "source": [
    "using StanModels\n",
    "\n",
    "ProjDir = rel_path_s(\"..\", \"scripts\", \"12\")\n",
    "cd(ProjDir)\n",
    "\n",
    "d = CSV.read(rel_path( \"..\", \"data\",  \"Kline.csv\"), delim=';');\n",
    "size(d) # Should be 10x5"
   ],
   "metadata": {},
   "execution_count": 1
  },
  {
   "outputs": [],
   "cell_type": "markdown",
   "source": [
    "New col log_pop, set log() for population data"
   ],
   "metadata": {}
  },
  {
   "outputs": [],
   "cell_type": "code",
   "source": [
    "d[:log_pop] = map((x) -> log(x), d[:population]);\n",
    "d[:society] = 1:10;\n",
    "first(d[[:culture, :population, :log_pop, :society]], 5)\n",
    "\n",
    "m12_6 = \"\n",
    "data {\n",
    "    int N;\n",
    "    int N_societies;\n",
    "    int total_tools[N];\n",
    "    real logpop[N];\n",
    "    int society[N];\n",
    "}\n",
    "parameters{\n",
    "    real a;\n",
    "    real bp;\n",
    "    vector[N_societies] a_society;\n",
    "    real<lower=0> sigma_society;\n",
    "}\n",
    "model{\n",
    "    vector[N_societies] mu;\n",
    "    sigma_society ~ cauchy( 0 , 1 );\n",
    "    a_society ~ normal( 0 , sigma_society );\n",
    "    bp ~ normal( 0 , 1 );\n",
    "    a ~ normal( 0 , 10 );\n",
    "    for ( i in 1:N ) {\n",
    "        mu[i] = a + a_society[society[i]] + bp * logpop[i];\n",
    "        mu[i] = exp(mu[i]);\n",
    "    }\n",
    "    total_tools ~ poisson( mu );\n",
    "}\n",
    "\";"
   ],
   "metadata": {},
   "execution_count": 2
  },
  {
   "outputs": [],
   "cell_type": "markdown",
   "source": [
    "Define the Stanmodel and set the output format to :mcmcchains."
   ],
   "metadata": {}
  },
  {
   "outputs": [
    {
     "name": "stdout",
     "output_type": "stream",
     "text": [
      "\n",
      "File /Users/rob/.julia/dev/StanModels/scripts/12/tmp/m12.6.stan will be updated.\n",
      "\n"
     ]
    }
   ],
   "cell_type": "code",
   "source": [
    "stanmodel = Stanmodel(name=\"m12.6\",  model=m12_6, output_format=:mcmcchains);"
   ],
   "metadata": {},
   "execution_count": 3
  },
  {
   "outputs": [],
   "cell_type": "markdown",
   "source": [
    "Input data for cmdstan"
   ],
   "metadata": {}
  },
  {
   "outputs": [],
   "cell_type": "code",
   "source": [
    "m12_6_data = Dict(\"N\" => size(d, 1),\"N_societies\" => 10,\n",
    "\"total_tools\" => d[:total_tools], \"logpop\" => d[:log_pop],\n",
    "\"society\" => d[:society]);"
   ],
   "metadata": {},
   "execution_count": 4
  },
  {
   "outputs": [],
   "cell_type": "markdown",
   "source": [
    "Sample using cmdstan"
   ],
   "metadata": {}
  },
  {
   "outputs": [
    {
     "name": "stdout",
     "output_type": "stream",
     "text": [
      "Informational Message: The current Metropolis proposal is about to be rejected because of the following issue:\n",
      "Exception: normal_lpdf: Scale parameter is 0, but must be > 0!  (in '/Users/rob/.julia/dev/StanModels/scripts/12/tmp/m12.6.stan' at line 17)\n",
      "\n",
      "If this warning occurs sporadically, such as for highly constrained variable types like covariance matrices, then the sampler is fine,\n",
      "but if this warning occurs often then your model may be either severely ill-conditioned or misspecified.\n",
      "\n",
      "Informational Message: The current Metropolis proposal is about to be rejected because of the following issue:\n",
      "Exception: normal_lpdf: Scale parameter is 0, but must be > 0!  (in '/Users/rob/.julia/dev/StanModels/scripts/12/tmp/m12.6.stan' at line 17)\n",
      "\n",
      "If this warning occurs sporadically, such as for highly constrained variable types like covariance matrices, then the sampler is fine,\n",
      "but if this warning occurs often then your model may be either severely ill-conditioned or misspecified.\n",
      "\n"
     ]
    }
   ],
   "cell_type": "code",
   "source": [
    "rc, chn, cnames = stan(stanmodel, m12_6_data, ProjDir, diagnostics=false, summary=false, CmdStanDir=CMDSTAN_HOME);"
   ],
   "metadata": {},
   "execution_count": 5
  },
  {
   "outputs": [],
   "cell_type": "markdown",
   "source": [
    "Describe the draws"
   ],
   "metadata": {}
  },
  {
   "outputs": [
    {
     "name": "stdout",
     "output_type": "stream",
     "text": [
      "Iterations        = 1:1000\n",
      "Thinning interval = 1\n",
      "Chains            = 1, 2, 3, 4\n",
      "Samples per chain = 1000\n",
      "parameters        = a, bp, a_society.1, a_society.2, a_society.3, a_society.4, a_society.5, a_society.6, a_society.7, a_society.8, a_society.9, a_society.10, sigma_society\n",
      "\n",
      "Empirical Posterior Estimates\n",
      "──────────────────────────────────────────────────────\n",
      "parameters\n",
      "                Mean    SD   Naive SE  MCSE     ESS   \n",
      "            a  1.1264 0.7698   0.0122 0.0240 1000.0000\n",
      "  a_society.1 -0.2133 0.2558   0.0040 0.0066 1000.0000\n",
      "  a_society.2  0.0418 0.2244   0.0035 0.0056 1000.0000\n",
      "  a_society.3 -0.0551 0.2011   0.0032 0.0044 1000.0000\n",
      "  a_society.4  0.3269 0.1973   0.0031 0.0053 1000.0000\n",
      "  a_society.5  0.0410 0.1830   0.0029 0.0050 1000.0000\n",
      "  a_society.6 -0.3257 0.2113   0.0033 0.0057 1000.0000\n",
      "  a_society.7  0.1436 0.1777   0.0028 0.0046 1000.0000\n",
      "  a_society.8 -0.1754 0.1904   0.0030 0.0048 1000.0000\n",
      "  a_society.9  0.2761 0.1802   0.0028 0.0055 1000.0000\n",
      " a_society.10 -0.0900 0.3002   0.0047 0.0104  829.6065\n",
      "           bp  0.2585 0.0833   0.0013 0.0027  986.8162\n",
      "sigma_society  0.3174 0.1341   0.0021 0.0048  781.3321\n",
      "\n",
      "Quantiles\n",
      "──────────────────────────────────────────────────────\n",
      "parameters\n",
      "                2.5%   25.0%   50.0%   75.0%   97.5%\n",
      "            a -1.7130  0.6678  1.1326  1.5793 4.9699\n",
      "  a_society.1 -1.5836 -0.3582 -0.1985 -0.0473 0.6710\n",
      "  a_society.2 -1.1527 -0.0928  0.0415  0.1795 0.9542\n",
      "  a_society.3 -0.9707 -0.1828 -0.0515  0.0736 0.7915\n",
      "  a_society.4 -0.5444  0.1911  0.3183  0.4509 1.1980\n",
      "  a_society.5 -0.7462 -0.0764  0.0352  0.1550 0.8758\n",
      "  a_society.6 -1.4759 -0.4561 -0.3083 -0.1764 0.3352\n",
      "  a_society.7 -0.8006  0.0260  0.1349  0.2559 0.9058\n",
      "  a_society.8 -1.0976 -0.2976 -0.1661 -0.0476 0.4879\n",
      "  a_society.9 -0.5182  0.1553  0.2706  0.3882 1.1106\n",
      " a_society.10 -1.2459 -0.2602 -0.0870  0.0811 1.5426\n",
      "           bp -0.1814  0.2090  0.2586  0.3075 0.5813\n",
      "sigma_society  0.0539  0.2288  0.2936  0.3834 1.4311\n",
      "\n"
     ]
    }
   ],
   "cell_type": "code",
   "source": [
    "describe(chn)"
   ],
   "metadata": {},
   "execution_count": 6
  },
  {
   "outputs": [],
   "cell_type": "markdown",
   "source": [
    "*This notebook was generated using [Literate.jl](https://github.com/fredrikekre/Literate.jl).*"
   ],
   "metadata": {}
  }
 ],
 "nbformat_minor": 3,
 "metadata": {
  "language_info": {
   "file_extension": ".jl",
   "mimetype": "application/julia",
   "name": "julia",
   "version": "1.2.0-DEV.564"
  },
  "kernelspec": {
   "name": "julia-1.2",
   "display_name": "Julia 1.2.0-DEV.564",
   "language": "julia"
  }
 },
 "nbformat": 4
}
