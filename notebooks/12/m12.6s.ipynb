{
 "cells": [
  {
   "outputs": [
    {
     "output_type": "execute_result",
     "data": {
      "text/plain": "(10, 5)"
     },
     "metadata": {},
     "execution_count": 1
    }
   ],
   "cell_type": "code",
   "source": [
    "using StanModels\n",
    "\n",
    "ProjDir = rel_path_s(\"..\", \"scripts\", \"12\")\n",
    "cd(ProjDir)\n",
    "\n",
    "d = CSV.read(rel_path( \"..\", \"data\",  \"Kline.csv\"), delim=';');\n",
    "size(d) # Should be 10x5"
   ],
   "metadata": {},
   "execution_count": 1
  },
  {
   "outputs": [],
   "cell_type": "markdown",
   "source": [
    "New col log_pop, set log() for population data"
   ],
   "metadata": {}
  },
  {
   "outputs": [],
   "cell_type": "code",
   "source": [
    "d[:log_pop] = map((x) -> log(x), d[:population]);\n",
    "d[:society] = 1:10;\n",
    "first(d[[:culture, :population, :log_pop, :society]], 5)\n",
    "\n",
    "m12_6 = \"\n",
    "data {\n",
    "    int N;\n",
    "    int N_societies;\n",
    "    int total_tools[N];\n",
    "    real logpop[N];\n",
    "    int society[N];\n",
    "}\n",
    "parameters{\n",
    "    real a;\n",
    "    real bp;\n",
    "    vector[N_societies] a_society;\n",
    "    real<lower=0> sigma_society;\n",
    "}\n",
    "model{\n",
    "    vector[N_societies] mu;\n",
    "    sigma_society ~ cauchy( 0 , 1 );\n",
    "    a_society ~ normal( 0 , sigma_society );\n",
    "    bp ~ normal( 0 , 1 );\n",
    "    a ~ normal( 0 , 10 );\n",
    "    for ( i in 1:N ) {\n",
    "        mu[i] = a + a_society[society[i]] + bp * logpop[i];\n",
    "        mu[i] = exp(mu[i]);\n",
    "    }\n",
    "    total_tools ~ poisson( mu );\n",
    "}\n",
    "\";"
   ],
   "metadata": {},
   "execution_count": 2
  },
  {
   "outputs": [],
   "cell_type": "markdown",
   "source": [
    "Define the Stanmodel and set the output format to :mcmcchains."
   ],
   "metadata": {}
  },
  {
   "outputs": [
    {
     "name": "stdout",
     "output_type": "stream",
     "text": [
      "\n",
      "File /Users/rob/.julia/dev/StanModels/scripts/12/tmp/m12.6.stan will be updated.\n",
      "\n"
     ]
    }
   ],
   "cell_type": "code",
   "source": [
    "stanmodel = Stanmodel(name=\"m12.6\",  model=m12_6, output_format=:mcmcchains);"
   ],
   "metadata": {},
   "execution_count": 3
  },
  {
   "outputs": [],
   "cell_type": "markdown",
   "source": [
    "Input data for cmdstan"
   ],
   "metadata": {}
  },
  {
   "outputs": [],
   "cell_type": "code",
   "source": [
    "m12_6_data = Dict(\"N\" => size(d, 1),\"N_societies\" => 10,\n",
    "\"total_tools\" => d[:total_tools], \"logpop\" => d[:log_pop],\n",
    "\"society\" => d[:society]);"
   ],
   "metadata": {},
   "execution_count": 4
  },
  {
   "outputs": [],
   "cell_type": "markdown",
   "source": [
    "Sample using cmdstan"
   ],
   "metadata": {}
  },
  {
   "outputs": [
    {
     "name": "stdout",
     "output_type": "stream",
     "text": [
      "Informational Message: The current Metropolis proposal is about to be rejected because of the following issue:\n",
      "Exception: normal_lpdf: Scale parameter is 0, but must be > 0!  (in '/Users/rob/.julia/dev/StanModels/scripts/12/tmp/m12.6.stan' at line 17)\n",
      "\n",
      "If this warning occurs sporadically, such as for highly constrained variable types like covariance matrices, then the sampler is fine,\n",
      "but if this warning occurs often then your model may be either severely ill-conditioned or misspecified.\n",
      "\n"
     ]
    }
   ],
   "cell_type": "code",
   "source": [
    "rc, chn, cnames = stan(stanmodel, m12_6_data, ProjDir, diagnostics=false, summary=false, CmdStanDir=CMDSTAN_HOME);"
   ],
   "metadata": {},
   "execution_count": 5
  },
  {
   "outputs": [],
   "cell_type": "markdown",
   "source": [
    "Describe the draws"
   ],
   "metadata": {}
  },
  {
   "outputs": [
    {
     "output_type": "execute_result",
     "data": {
      "text/plain": "2-element Array{ChainDataFrame,1}\n\nSummary Statistics\n. Omitted printing of 1 columns\n│ Row │ parameters    │ mean       │ std       │ naive_se   │ mcse       │\n│     │ \u001b[90mSymbol\u001b[39m        │ \u001b[90mFloat64\u001b[39m    │ \u001b[90mFloat64\u001b[39m   │ \u001b[90mFloat64\u001b[39m    │ \u001b[90mFloat64\u001b[39m    │\n├─────┼───────────────┼────────────┼───────────┼────────────┼────────────┤\n│ 1   │ a             │ 1.09736    │ 0.73914   │ 0.0116868  │ 0.0221613  │\n│ 2   │ a_society.1   │ -0.197777  │ 0.237919  │ 0.00376182 │ 0.00739322 │\n│ 3   │ a_society.2   │ 0.0456694  │ 0.21688   │ 0.00342918 │ 0.00449798 │\n│ 4   │ a_society.3   │ -0.0502063 │ 0.194344  │ 0.00307285 │ 0.00451446 │\n│ 5   │ a_society.4   │ 0.319274   │ 0.199118  │ 0.00314834 │ 0.00680113 │\n│ 6   │ a_society.5   │ 0.0432777  │ 0.178054  │ 0.00281528 │ 0.00412792 │\n│ 7   │ a_society.6   │ -0.311483  │ 0.208608  │ 0.00329838 │ 0.00774609 │\n│ 8   │ a_society.7   │ 0.143757   │ 0.181245  │ 0.00286573 │ 0.00456763 │\n│ 9   │ a_society.8   │ -0.170802  │ 0.189669  │ 0.00299893 │ 0.00455143 │\n│ 10  │ a_society.9   │ 0.267971   │ 0.184043  │ 0.00290997 │ 0.00674946 │\n│ 11  │ a_society.10  │ -0.0936732 │ 0.298806  │ 0.00472454 │ 0.00912018 │\n│ 12  │ bp            │ 0.261581   │ 0.0809093 │ 0.00127929 │ 0.00245247 │\n│ 13  │ sigma_society │ 0.307903   │ 0.138374  │ 0.00218789 │ 0.00662047 │\n\nQuantiles\n. Omitted printing of 1 columns\n│ Row │ parameters    │ 2.5%       │ 25.0%      │ 50.0%      │ 75.0%      │\n│     │ \u001b[90mSymbol\u001b[39m        │ \u001b[90mFloat64\u001b[39m    │ \u001b[90mFloat64\u001b[39m    │ \u001b[90mFloat64\u001b[39m    │ \u001b[90mFloat64\u001b[39m    │\n├─────┼───────────────┼────────────┼────────────┼────────────┼────────────┤\n│ 1   │ a             │ -0.490157  │ 0.681317   │ 1.11615    │ 1.55158    │\n│ 2   │ a_society.1   │ -0.717731  │ -0.343572  │ -0.179024  │ -0.0398637 │\n│ 3   │ a_society.2   │ -0.378341  │ -0.0876836 │ 0.0305305  │ 0.171727   │\n│ 4   │ a_society.3   │ -0.443309  │ -0.169011  │ -0.0455489 │ 0.0681875  │\n│ 5   │ a_society.4   │ -0.0228996 │ 0.175764   │ 0.31052    │ 0.446209   │\n│ 6   │ a_society.5   │ -0.305966  │ -0.0671381 │ 0.0402885  │ 0.153172   │\n│ 7   │ a_society.6   │ -0.762147  │ -0.43995   │ -0.296883  │ -0.168073  │\n│ 8   │ a_society.7   │ -0.208811  │ 0.0258383  │ 0.134968   │ 0.253707   │\n│ 9   │ a_society.8   │ -0.58116   │ -0.289085  │ -0.158927  │ -0.0423662 │\n│ 10  │ a_society.9   │ -0.0587893 │ 0.142085   │ 0.262091   │ 0.380529   │\n│ 11  │ a_society.10  │ -0.703757  │ -0.250385  │ -0.0819806 │ 0.0750093  │\n│ 12  │ bp            │ 0.105086   │ 0.212296   │ 0.25974    │ 0.306988   │\n│ 13  │ sigma_society │ 0.0764864  │ 0.217812   │ 0.28896    │ 0.379933   │\n"
     },
     "metadata": {},
     "execution_count": 6
    }
   ],
   "cell_type": "code",
   "source": [
    "describe(chn)"
   ],
   "metadata": {},
   "execution_count": 6
  },
  {
   "outputs": [],
   "cell_type": "markdown",
   "source": [
    "*This notebook was generated using [Literate.jl](https://github.com/fredrikekre/Literate.jl).*"
   ],
   "metadata": {}
  }
 ],
 "nbformat_minor": 3,
 "metadata": {
  "language_info": {
   "file_extension": ".jl",
   "mimetype": "application/julia",
   "name": "julia",
   "version": "1.2.0-pre.0"
  },
  "kernelspec": {
   "name": "julia-1.2",
   "display_name": "Julia 1.2.0-pre.0",
   "language": "julia"
  }
 },
 "nbformat": 4
}
