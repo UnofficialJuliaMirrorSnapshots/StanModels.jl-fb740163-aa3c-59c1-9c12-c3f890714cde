{
 "cells": [
  {
   "outputs": [
    {
     "output_type": "execute_result",
     "data": {
      "text/plain": "(10, 5)"
     },
     "metadata": {},
     "execution_count": 1
    }
   ],
   "cell_type": "code",
   "source": [
    "using StanModels\n",
    "\n",
    "ProjDir = rel_path_s(\"..\", \"scripts\", \"12\")\n",
    "\n",
    "d = CSV.read(rel_path( \"..\", \"data\",  \"Kline.csv\"), delim=';');\n",
    "size(d) # Should be 10x5"
   ],
   "metadata": {},
   "execution_count": 1
  },
  {
   "outputs": [],
   "cell_type": "markdown",
   "source": [
    "New col log_pop, set log() for population data"
   ],
   "metadata": {}
  },
  {
   "outputs": [],
   "cell_type": "code",
   "source": [
    "d[:log_pop] = map((x) -> log(x), d[:population]);\n",
    "d[:society] = 1:10;\n",
    "\n",
    "first(d, 5)\n",
    "\n",
    "m12_6_2 = \"\n",
    "  data {\n",
    "    int N;\n",
    "    int T[N];\n",
    "    int N_societies;\n",
    "    int society[N];\n",
    "    int P[N];\n",
    "  }\n",
    "  parameters {\n",
    "    real alpha;\n",
    "    vector[N_societies] a_society;\n",
    "    real bp;\n",
    "    real<lower=0> sigma_society;\n",
    "  }\n",
    "  model {\n",
    "    vector[N] mu;\n",
    "    target += normal_lpdf(alpha | 0, 10);\n",
    "    target += normal_lpdf(bp | 0, 1);\n",
    "    target += cauchy_lpdf(sigma_society | 0, 1);\n",
    "    target += normal_lpdf(a_society | 0, sigma_society);\n",
    "    for(i in 1:N) mu[i] = alpha + a_society[society[i]] + bp * log(P[i]);\n",
    "    target += poisson_log_lpmf(T | mu);\n",
    "  }\n",
    "  generated quantities {\n",
    "    vector[N] log_lik;\n",
    "    {\n",
    "    vector[N] mu;\n",
    "    for(i in 1:N) {\n",
    "      mu[i] = alpha + a_society[society[i]] + bp * log(P[i]);\n",
    "      log_lik[i] = poisson_log_lpmf(T[i] | mu[i]);\n",
    "    }\n",
    "    }\n",
    "  }\n",
    "\";"
   ],
   "metadata": {},
   "execution_count": 2
  },
  {
   "outputs": [],
   "cell_type": "markdown",
   "source": [
    "Define the Stanmodel and set the output format to :mcmcchains."
   ],
   "metadata": {}
  },
  {
   "outputs": [],
   "cell_type": "code",
   "source": [
    "stanmodel = Stanmodel(name=\"m12.6.2\",  model=m12_6_2,\n",
    "output_format=:mcmcchains);"
   ],
   "metadata": {},
   "execution_count": 3
  },
  {
   "outputs": [],
   "cell_type": "markdown",
   "source": [
    "Input data for cmdstan"
   ],
   "metadata": {}
  },
  {
   "outputs": [],
   "cell_type": "code",
   "source": [
    "m12_6_2_data = Dict(\"N\" => size(d, 1), \"T\" => d[:total_tools],\n",
    "\"N_societies\" => 10, \"society\" => d[:society], \"P\" => d[:population]);"
   ],
   "metadata": {},
   "execution_count": 4
  },
  {
   "outputs": [],
   "cell_type": "markdown",
   "source": [
    "Sample using cmdstan"
   ],
   "metadata": {}
  },
  {
   "outputs": [
    {
     "name": "stdout",
     "output_type": "stream",
     "text": [
      "Informational Message: The current Metropolis proposal is about to be rejected because of the following issue:\n",
      "Exception: normal_lpdf: Scale parameter is 0, but must be > 0!  (in '/Users/rob/.julia/dev/StanModels/notebooks/12/tmp/m12.6.2.stan' at line 19)\n",
      "\n",
      "If this warning occurs sporadically, such as for highly constrained variable types like covariance matrices, then the sampler is fine,\n",
      "but if this warning occurs often then your model may be either severely ill-conditioned or misspecified.\n",
      "\n"
     ]
    }
   ],
   "cell_type": "code",
   "source": [
    "rc, chn, cnames = stan(stanmodel, m12_6_2_data, ProjDir,\n",
    "diagnostics=false, summary=false, CmdStanDir=CMDSTAN_HOME);"
   ],
   "metadata": {},
   "execution_count": 5
  },
  {
   "outputs": [],
   "cell_type": "markdown",
   "source": [
    "Describe the draws"
   ],
   "metadata": {}
  },
  {
   "outputs": [
    {
     "name": "stdout",
     "output_type": "stream",
     "text": [
      "Iterations        = 1:1000\n",
      "Thinning interval = 1\n",
      "Chains            = 1, 2, 3, 4\n",
      "Samples per chain = 1000\n",
      "parameters        = alpha, a_society.1, a_society.2, a_society.3, a_society.4, a_society.5, a_society.6, a_society.7, a_society.8, a_society.9, a_society.10, bp, sigma_society, log_lik.1, log_lik.2, log_lik.3, log_lik.4, log_lik.5, log_lik.6, log_lik.7, log_lik.8, log_lik.9, log_lik.10\n",
      "\n",
      "Empirical Posterior Estimates\n",
      "──────────────────────────────────────────────────────\n",
      "parameters\n",
      "                Mean    SD   Naive SE  MCSE     ESS   \n",
      "  a_society.1 -0.2110 0.2471   0.0039 0.0058 1000.0000\n",
      "  a_society.2  0.0382 0.2298   0.0036 0.0056 1000.0000\n",
      "  a_society.3 -0.0465 0.2023   0.0032 0.0035 1000.0000\n",
      "  a_society.4  0.3243 0.1975   0.0031 0.0038 1000.0000\n",
      "  a_society.5  0.0431 0.1929   0.0031 0.0045 1000.0000\n",
      "  a_society.6 -0.3217 0.2147   0.0034 0.0048 1000.0000\n",
      "  a_society.7  0.1423 0.1846   0.0029 0.0042 1000.0000\n",
      "  a_society.8 -0.1769 0.1973   0.0031 0.0046 1000.0000\n",
      "  a_society.9  0.2741 0.1859   0.0029 0.0045 1000.0000\n",
      " a_society.10 -0.0947 0.3100   0.0049 0.0114  740.2501\n",
      "        alpha  1.1157 0.7788   0.0123 0.0250  967.2445\n",
      "           bp  0.2598 0.0846   0.0013 0.0029  881.1821\n",
      "    log_lik.1 -2.7488 0.6829   0.0108 0.0114 1000.0000\n",
      "    log_lik.2 -2.8313 0.5161   0.0082 0.0113 1000.0000\n",
      "    log_lik.3 -2.8785 0.5204   0.0082 0.0114 1000.0000\n",
      "    log_lik.4 -3.5356 0.9080   0.0144 0.0175 1000.0000\n",
      "    log_lik.5 -3.0538 0.5648   0.0089 0.0126 1000.0000\n",
      "    log_lik.6 -3.1692 0.9132   0.0144 0.0146 1000.0000\n",
      "    log_lik.7 -3.2282 0.6167   0.0098 0.0150 1000.0000\n",
      "    log_lik.8 -3.0461 0.6170   0.0098 0.0137 1000.0000\n",
      "    log_lik.9 -3.5364 0.8049   0.0127 0.0182 1000.0000\n",
      "   log_lik.10 -3.5373 0.6580   0.0104 0.0125 1000.0000\n",
      "sigma_society  0.3169 0.1359   0.0021 0.0050  743.9718\n",
      "\n",
      "Quantiles\n",
      "──────────────────────────────────────────────────────\n",
      "parameters\n",
      "                2.5%    25.0%   50.0%   75.0%   97.5% \n",
      "  a_society.1  -1.9642 -0.3474 -0.1955 -0.0500  0.9982\n",
      "  a_society.2  -1.1166 -0.1028  0.0389  0.1777  1.5197\n",
      "  a_society.3  -1.3547 -0.1669 -0.0443  0.0814  0.8061\n",
      "  a_society.4  -0.5584  0.1937  0.3127  0.4497  1.1948\n",
      "  a_society.5  -1.0811 -0.0747  0.0391  0.1639  0.9519\n",
      "  a_society.6  -1.5967 -0.4484 -0.3056 -0.1712  0.4137\n",
      "  a_society.7  -1.0112  0.0230  0.1341  0.2586  0.8855\n",
      "  a_society.8  -1.4853 -0.2914 -0.1640 -0.0498  0.4636\n",
      "  a_society.9  -0.8351  0.1546  0.2705  0.3892  1.0630\n",
      " a_society.10  -1.9722 -0.2524 -0.0787  0.0783  1.2180\n",
      "        alpha  -3.8429  0.6623  1.1250  1.5829  5.3228\n",
      "           bp  -0.1589  0.2087  0.2580  0.3090  0.7441\n",
      "    log_lik.1  -8.1973 -2.9667 -2.4999 -2.2752 -2.2078\n",
      "    log_lik.2  -9.0453 -2.9404 -2.6353 -2.5061 -2.4682\n",
      "    log_lik.3  -8.9856 -2.9929 -2.6821 -2.5504 -2.5114\n",
      "    log_lik.4 -10.7866 -3.8364 -3.1940 -2.8936 -2.8015\n",
      "    log_lik.5  -9.4127 -3.1540 -2.8427 -2.7090 -2.6697\n",
      "    log_lik.6  -9.6171 -3.5321 -2.8274 -2.4977 -2.3955\n",
      "    log_lik.7  -7.9947 -3.3870 -3.0026 -2.8225 -2.7655\n",
      "    log_lik.8  -8.2709 -3.2170 -2.8074 -2.6371 -2.5880\n",
      "    log_lik.9 -11.0844 -3.7758 -3.2162 -2.9942 -2.9241\n",
      "   log_lik.10 -10.8531 -3.7279 -3.2748 -3.1000 -3.0514\n",
      "sigma_society   0.0495  0.2291  0.2931  0.3765  1.3948\n",
      "\n"
     ]
    }
   ],
   "cell_type": "code",
   "source": [
    "describe(chn)"
   ],
   "metadata": {},
   "execution_count": 6
  },
  {
   "outputs": [],
   "cell_type": "markdown",
   "source": [
    "*This notebook was generated using [Literate.jl](https://github.com/fredrikekre/Literate.jl).*"
   ],
   "metadata": {}
  }
 ],
 "nbformat_minor": 3,
 "metadata": {
  "language_info": {
   "file_extension": ".jl",
   "mimetype": "application/julia",
   "name": "julia",
   "version": "1.2.0-DEV.564"
  },
  "kernelspec": {
   "name": "julia-1.2",
   "display_name": "Julia 1.2.0-DEV.564",
   "language": "julia"
  }
 },
 "nbformat": 4
}
