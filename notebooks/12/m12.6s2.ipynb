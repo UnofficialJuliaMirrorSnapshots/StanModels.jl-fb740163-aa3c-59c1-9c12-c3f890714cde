{
 "cells": [
  {
   "outputs": [
    {
     "output_type": "execute_result",
     "data": {
      "text/plain": "(10, 5)"
     },
     "metadata": {},
     "execution_count": 1
    }
   ],
   "cell_type": "code",
   "source": [
    "using StanModels\n",
    "\n",
    "ProjDir = rel_path_s(\"..\", \"scripts\", \"12\")\n",
    "\n",
    "d = CSV.read(rel_path( \"..\", \"data\",  \"Kline.csv\"), delim=';');\n",
    "size(d) # Should be 10x5"
   ],
   "metadata": {},
   "execution_count": 1
  },
  {
   "outputs": [],
   "cell_type": "markdown",
   "source": [
    "New col log_pop, set log() for population data"
   ],
   "metadata": {}
  },
  {
   "outputs": [],
   "cell_type": "code",
   "source": [
    "d[:log_pop] = map((x) -> log(x), d[:population]);\n",
    "d[:society] = 1:10;\n",
    "\n",
    "first(d, 5)\n",
    "\n",
    "m12_6_2 = \"\n",
    "  data {\n",
    "    int N;\n",
    "    int T[N];\n",
    "    int N_societies;\n",
    "    int society[N];\n",
    "    int P[N];\n",
    "  }\n",
    "  parameters {\n",
    "    real alpha;\n",
    "    vector[N_societies] a_society;\n",
    "    real bp;\n",
    "    real<lower=0> sigma_society;\n",
    "  }\n",
    "  model {\n",
    "    vector[N] mu;\n",
    "    target += normal_lpdf(alpha | 0, 10);\n",
    "    target += normal_lpdf(bp | 0, 1);\n",
    "    target += cauchy_lpdf(sigma_society | 0, 1);\n",
    "    target += normal_lpdf(a_society | 0, sigma_society);\n",
    "    for(i in 1:N) mu[i] = alpha + a_society[society[i]] + bp * log(P[i]);\n",
    "    target += poisson_log_lpmf(T | mu);\n",
    "  }\n",
    "  generated quantities {\n",
    "    vector[N] log_lik;\n",
    "    {\n",
    "    vector[N] mu;\n",
    "    for(i in 1:N) {\n",
    "      mu[i] = alpha + a_society[society[i]] + bp * log(P[i]);\n",
    "      log_lik[i] = poisson_log_lpmf(T[i] | mu[i]);\n",
    "    }\n",
    "    }\n",
    "  }\n",
    "\";"
   ],
   "metadata": {},
   "execution_count": 2
  },
  {
   "outputs": [],
   "cell_type": "markdown",
   "source": [
    "Define the Stanmodel and set the output format to :mcmcchains."
   ],
   "metadata": {}
  },
  {
   "outputs": [],
   "cell_type": "code",
   "source": [
    "stanmodel = Stanmodel(name=\"m12.6.2\",  model=m12_6_2,\n",
    "output_format=:mcmcchains);"
   ],
   "metadata": {},
   "execution_count": 3
  },
  {
   "outputs": [],
   "cell_type": "markdown",
   "source": [
    "Input data for cmdstan"
   ],
   "metadata": {}
  },
  {
   "outputs": [],
   "cell_type": "code",
   "source": [
    "m12_6_2_data = Dict(\"N\" => size(d, 1), \"T\" => d[:total_tools],\n",
    "\"N_societies\" => 10, \"society\" => d[:society], \"P\" => d[:population]);"
   ],
   "metadata": {},
   "execution_count": 4
  },
  {
   "outputs": [],
   "cell_type": "markdown",
   "source": [
    "Sample using cmdstan"
   ],
   "metadata": {}
  },
  {
   "outputs": [
    {
     "name": "stdout",
     "output_type": "stream",
     "text": [
      "Informational Message: The current Metropolis proposal is about to be rejected because of the following issue:\n",
      "Exception: normal_lpdf: Scale parameter is 0, but must be > 0!  (in '/Users/rob/.julia/dev/StanModels/notebooks/12/tmp/m12.6.2.stan' at line 19)\n",
      "\n",
      "If this warning occurs sporadically, such as for highly constrained variable types like covariance matrices, then the sampler is fine,\n",
      "but if this warning occurs often then your model may be either severely ill-conditioned or misspecified.\n",
      "\n"
     ]
    }
   ],
   "cell_type": "code",
   "source": [
    "rc, chn, cnames = stan(stanmodel, m12_6_2_data, ProjDir,\n",
    "diagnostics=false, summary=false, CmdStanDir=CMDSTAN_HOME);"
   ],
   "metadata": {},
   "execution_count": 5
  },
  {
   "outputs": [],
   "cell_type": "markdown",
   "source": [
    "Describe the draws"
   ],
   "metadata": {}
  },
  {
   "outputs": [
    {
     "output_type": "execute_result",
     "data": {
      "text/plain": "2-element Array{ChainDataFrame,1}\n\nSummary Statistics\n. Omitted printing of 1 columns\n│ Row │ parameters    │ mean       │ std       │ naive_se   │ mcse       │\n│     │ \u001b[90mSymbol\u001b[39m        │ \u001b[90mFloat64\u001b[39m    │ \u001b[90mFloat64\u001b[39m   │ \u001b[90mFloat64\u001b[39m    │ \u001b[90mFloat64\u001b[39m    │\n├─────┼───────────────┼────────────┼───────────┼────────────┼────────────┤\n│ 1   │ a_society.1   │ -0.213349  │ 0.245754  │ 0.00388571 │ 0.00578208 │\n│ 2   │ a_society.2   │ 0.0376357  │ 0.223694  │ 0.00353691 │ 0.00586615 │\n│ 3   │ a_society.3   │ -0.0533204 │ 0.194623  │ 0.00307726 │ 0.00450923 │\n│ 4   │ a_society.4   │ 0.319279   │ 0.189459  │ 0.00299562 │ 0.00498301 │\n│ 5   │ a_society.5   │ 0.0389642  │ 0.180694  │ 0.00285702 │ 0.00454844 │\n│ 6   │ a_society.6   │ -0.327294  │ 0.215     │ 0.00339945 │ 0.00562222 │\n│ 7   │ a_society.7   │ 0.142341   │ 0.175132  │ 0.00276908 │ 0.004958   │\n│ 8   │ a_society.8   │ -0.175516  │ 0.185869  │ 0.00293885 │ 0.00494997 │\n│ 9   │ a_society.9   │ 0.272536   │ 0.179362  │ 0.00283596 │ 0.004837   │\n│ 10  │ a_society.10  │ -0.084303  │ 0.283517  │ 0.0044828  │ 0.00916655 │\n│ 11  │ alpha         │ 1.14049    │ 0.740484  │ 0.0117081  │ 0.022272   │\n│ 12  │ bp            │ 0.257088   │ 0.0798493 │ 0.00126253 │ 0.00246418 │\n│ 13  │ log_lik.1     │ -2.7641    │ 0.695832  │ 0.0110021  │ 0.0112905  │\n│ 14  │ log_lik.2     │ -2.81221   │ 0.500212  │ 0.00790905 │ 0.0125622  │\n│ 15  │ log_lik.3     │ -2.8573    │ 0.523436  │ 0.00827624 │ 0.0105086  │\n│ 16  │ log_lik.4     │ -3.56992   │ 0.959008  │ 0.0151633  │ 0.0242876  │\n│ 17  │ log_lik.5     │ -3.04883   │ 0.539246  │ 0.00852623 │ 0.0119595  │\n│ 18  │ log_lik.6     │ -3.17199   │ 0.91782   │ 0.014512   │ 0.0197537  │\n│ 19  │ log_lik.7     │ -3.22443   │ 0.621336  │ 0.00982419 │ 0.0101455  │\n│ 20  │ log_lik.8     │ -3.04321   │ 0.597676  │ 0.00945009 │ 0.011616   │\n│ 21  │ log_lik.9     │ -3.58022   │ 0.874446  │ 0.0138262  │ 0.0210966  │\n│ 22  │ log_lik.10    │ -3.52936   │ 0.68301   │ 0.0107993  │ 0.0120745  │\n│ 23  │ sigma_society │ 0.310934   │ 0.132621  │ 0.00209692 │ 0.00486295 │\n\nQuantiles\n. Omitted printing of 1 columns\n│ Row │ parameters    │ 2.5%       │ 25.0%      │ 50.0%      │ 75.0%      │\n│     │ \u001b[90mSymbol\u001b[39m        │ \u001b[90mFloat64\u001b[39m    │ \u001b[90mFloat64\u001b[39m    │ \u001b[90mFloat64\u001b[39m    │ \u001b[90mFloat64\u001b[39m    │\n├─────┼───────────────┼────────────┼────────────┼────────────┼────────────┤\n│ 1   │ a_society.1   │ -0.747504  │ -0.358137  │ -0.193339  │ -0.0482862 │\n│ 2   │ a_society.2   │ -0.395793  │ -0.0968986 │ 0.0348817  │ 0.172532   │\n│ 3   │ a_society.3   │ -0.45524   │ -0.171225  │ -0.0467649 │ 0.0676607  │\n│ 4   │ a_society.4   │ -0.0253122 │ 0.192349   │ 0.313858   │ 0.441461   │\n│ 5   │ a_society.5   │ -0.324956  │ -0.0728482 │ 0.0369519  │ 0.156315   │\n│ 6   │ a_society.6   │ -0.793412  │ -0.462122  │ -0.309956  │ -0.179632  │\n│ 7   │ a_society.7   │ -0.200687  │ 0.0276931  │ 0.139726   │ 0.250693   │\n│ 8   │ a_society.8   │ -0.566216  │ -0.290996  │ -0.166724  │ -0.0478574 │\n│ 9   │ a_society.9   │ -0.0581032 │ 0.151367   │ 0.26401    │ 0.386887   │\n│ 10  │ a_society.10  │ -0.642089  │ -0.25221   │ -0.083858  │ 0.0806957  │\n│ 11  │ alpha         │ -0.350709  │ 0.682318   │ 1.12229    │ 1.60055    │\n│ 12  │ bp            │ 0.0977545  │ 0.207401   │ 0.259409   │ 0.306239   │\n│ 13  │ log_lik.1     │ -4.62807   │ -2.99881   │ -2.50291   │ -2.2799    │\n│ 14  │ log_lik.2     │ -4.22564   │ -2.90137   │ -2.61803   │ -2.50315   │\n│ 15  │ log_lik.3     │ -4.42998   │ -2.95948   │ -2.66301   │ -2.54261   │\n│ 16  │ log_lik.4     │ -6.24153   │ -3.86712   │ -3.21001   │ -2.89316   │\n│ 17  │ log_lik.5     │ -4.62378   │ -3.17546   │ -2.84428   │ -2.71085   │\n│ 18  │ log_lik.6     │ -5.63605   │ -3.54377   │ -2.81856   │ -2.50193   │\n│ 19  │ log_lik.7     │ -4.95557   │ -3.40282   │ -2.97324   │ -2.81266   │\n│ 20  │ log_lik.8     │ -4.69801   │ -3.2235    │ -2.81338   │ -2.63538   │\n│ 21  │ log_lik.9     │ -6.07619   │ -3.81194   │ -3.24016   │ -2.99591   │\n│ 22  │ log_lik.10    │ -5.46085   │ -3.68397   │ -3.25805   │ -3.10045   │\n│ 23  │ sigma_society │ 0.106467   │ 0.222024   │ 0.292743   │ 0.376698   │\n"
     },
     "metadata": {},
     "execution_count": 6
    }
   ],
   "cell_type": "code",
   "source": [
    "describe(chn)"
   ],
   "metadata": {},
   "execution_count": 6
  },
  {
   "outputs": [],
   "cell_type": "markdown",
   "source": [
    "*This notebook was generated using [Literate.jl](https://github.com/fredrikekre/Literate.jl).*"
   ],
   "metadata": {}
  }
 ],
 "nbformat_minor": 3,
 "metadata": {
  "language_info": {
   "file_extension": ".jl",
   "mimetype": "application/julia",
   "name": "julia",
   "version": "1.2.0-pre.0"
  },
  "kernelspec": {
   "name": "julia-1.2",
   "display_name": "Julia 1.2.0-pre.0",
   "language": "julia"
  }
 },
 "nbformat": 4
}
