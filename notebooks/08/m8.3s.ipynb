{
 "cells": [
  {
   "outputs": [],
   "cell_type": "markdown",
   "source": [
    "Load Julia packages (libraries)."
   ],
   "metadata": {}
  },
  {
   "outputs": [],
   "cell_type": "code",
   "source": [
    "using StanModels"
   ],
   "metadata": {},
   "execution_count": 1
  },
  {
   "outputs": [],
   "cell_type": "markdown",
   "source": [
    "CmdStan uses a tmp directory to store the output of cmdstan"
   ],
   "metadata": {}
  },
  {
   "outputs": [],
   "cell_type": "code",
   "source": [
    "ProjDir = rel_path_s(\"..\", \"scripts\", \"08\")\n",
    "cd(ProjDir)"
   ],
   "metadata": {},
   "execution_count": 2
  },
  {
   "outputs": [],
   "cell_type": "markdown",
   "source": [
    "Define the Stan language model"
   ],
   "metadata": {}
  },
  {
   "outputs": [],
   "cell_type": "code",
   "source": [
    "m_8_3 = \"\n",
    "data{\n",
    "  int N;\n",
    "  vector[N] y;\n",
    "}\n",
    "parameters{\n",
    "  real<lower=0> sigma;\n",
    "  real alpha;\n",
    "}\n",
    "model{\n",
    "  real mu;\n",
    "  alpha ~ normal( 1 , 10 );\n",
    "  sigma ~ cauchy( 0 , 1 );\n",
    "  mu = alpha;\n",
    "  y ~ normal( mu , sigma );\n",
    "}\n",
    "\";"
   ],
   "metadata": {},
   "execution_count": 3
  },
  {
   "outputs": [],
   "cell_type": "markdown",
   "source": [
    "Define the Stanmodel and set the output format to :mcmcchains."
   ],
   "metadata": {}
  },
  {
   "outputs": [
    {
     "name": "stdout",
     "output_type": "stream",
     "text": [
      "\n",
      "File /Users/rob/.julia/dev/StanModels/scripts/08/tmp/m_8_3.stan will be updated.\n",
      "\n"
     ]
    }
   ],
   "cell_type": "code",
   "source": [
    "stanmodel = Stanmodel(name=\"m_8_3\", monitors = [\"alpha\", \"mu\", \"sigma\"],\n",
    "model=m_8_3, output_format=:mcmcchains);"
   ],
   "metadata": {},
   "execution_count": 4
  },
  {
   "outputs": [],
   "cell_type": "markdown",
   "source": [
    "Input data for cmdstan"
   ],
   "metadata": {}
  },
  {
   "outputs": [],
   "cell_type": "code",
   "source": [
    "m_8_3_data = Dict(\"N\" => 2, \"y\" => [-1.0, 1.0]);\n",
    "m_8_3_init = Dict(\"alpha\" => 0.0, \"sigma\" => 1.0);"
   ],
   "metadata": {},
   "execution_count": 5
  },
  {
   "outputs": [],
   "cell_type": "markdown",
   "source": [
    "Sample using cmdstan"
   ],
   "metadata": {}
  },
  {
   "outputs": [
    {
     "name": "stdout",
     "output_type": "stream",
     "text": [
      "\n",
      "Inference for Stan model: m_8_3_model\n",
      "4 chains: each with iter=(1000,1000,1000,1000); warmup=(0,0,0,0); thin=(1,1,1,1); 4000 iterations saved.\n",
      "\n",
      "Warmup took (0.029, 0.027, 0.029, 0.028) seconds, 0.11 seconds total\n",
      "Sampling took (0.042, 0.044, 0.037, 0.040) seconds, 0.16 seconds total\n",
      "\n",
      "                 Mean     MCSE  StdDev    5%       50%   95%    N_Eff  N_Eff/s    R_hat\n",
      "lp__             -3.1  5.0e-02     1.3  -5.6  -2.7e+00  -1.8  6.6e+02  4.1e+03  1.0e+00\n",
      "accept_stat__    0.87  4.4e-03    0.21  0.36   9.6e-01   1.0  2.3e+03  1.4e+04  1.0e+00\n",
      "stepsize__       0.43  4.8e-02   0.068  0.32   4.8e-01  0.49  2.0e+00  1.2e+01  1.0e+14\n",
      "treedepth__       2.2  1.4e-02    0.67   1.0   2.0e+00   3.0  2.4e+03  1.4e+04  1.0e+00\n",
      "n_leapfrog__      5.3  6.3e-02     3.1   1.0   7.0e+00   9.0  2.3e+03  1.4e+04  1.0e+00\n",
      "divergent__      0.00      nan    0.00  0.00   0.0e+00  0.00      nan      nan      nan\n",
      "energy__          4.1  6.0e-02     1.6   2.1   3.8e+00   7.2  7.4e+02  4.5e+03  1.0e+00\n",
      "sigma             2.0  7.6e-02     2.1  0.65   1.5e+00   5.0  7.8e+02  4.8e+03  1.0e+00\n",
      "alpha           0.036  5.3e-02     1.6  -2.3  -4.5e-04   2.4  8.8e+02  5.4e+03  1.0e+00\n",
      "\n",
      "Samples were drawn using hmc with nuts.\n",
      "For each parameter, N_Eff is a crude measure of effective sample size,\n",
      "and R_hat is the potential scale reduction factor on split chains (at \n",
      "convergence, R_hat=1).\n",
      "\n"
     ]
    }
   ],
   "cell_type": "code",
   "source": [
    "rc, chn, cnames = stan(stanmodel, m_8_3_data, ProjDir, init=m_8_3_init,\n",
    " diagnostics=false, summary=true, CmdStanDir=CMDSTAN_HOME);\n",
    "\n",
    "rethinking = \"\n",
    "        mean   sd  5.5% 94.5% n_eff Rhat\n",
    "alpha 0.06 1.90 -2.22  2.49  1321    1\n",
    "sigma 2.15 2.32  0.70  5.21   461    1\n",
    "\";"
   ],
   "metadata": {},
   "execution_count": 6
  },
  {
   "outputs": [],
   "cell_type": "markdown",
   "source": [
    "Describe the draws"
   ],
   "metadata": {}
  },
  {
   "outputs": [
    {
     "output_type": "execute_result",
     "data": {
      "text/plain": "2-element Array{ChainDataFrame,1}\n\nSummary Statistics\n\n│ Row │ parameters │ mean      │ std     │ naive_se  │ mcse      │ ess    │\n│     │ \u001b[90mSymbol\u001b[39m     │ \u001b[90mFloat64\u001b[39m   │ \u001b[90mFloat64\u001b[39m │ \u001b[90mFloat64\u001b[39m   │ \u001b[90mFloat64\u001b[39m   │ \u001b[90mAny\u001b[39m    │\n├─────┼────────────┼───────────┼─────────┼───────────┼───────────┼────────┤\n│ 1   │ alpha      │ 0.0361782 │ 1.56429 │ 0.0247335 │ 0.0582321 │ 4000.0 │\n│ 2   │ sigma      │ 2.04483   │ 2.11665 │ 0.0334672 │ 0.0672927 │ 4000.0 │\n\nQuantiles\n\n│ Row │ parameters │ 2.5%     │ 25.0%     │ 50.0%        │ 75.0%    │ 97.5%   │\n│     │ \u001b[90mSymbol\u001b[39m     │ \u001b[90mFloat64\u001b[39m  │ \u001b[90mFloat64\u001b[39m   │ \u001b[90mFloat64\u001b[39m      │ \u001b[90mFloat64\u001b[39m  │ \u001b[90mFloat64\u001b[39m │\n├─────┼────────────┼──────────┼───────────┼──────────────┼──────────┼─────────┤\n│ 1   │ alpha      │ -2.95219 │ -0.700107 │ -0.000615907 │ 0.660679 │ 3.5413  │\n│ 2   │ sigma      │ 0.577257 │ 1.01931   │ 1.493        │ 2.33041  │ 6.80213 │\n"
     },
     "metadata": {},
     "execution_count": 7
    }
   ],
   "cell_type": "code",
   "source": [
    "describe(chn)"
   ],
   "metadata": {},
   "execution_count": 7
  },
  {
   "outputs": [],
   "cell_type": "markdown",
   "source": [
    "End of `m8.3s.jl`"
   ],
   "metadata": {}
  },
  {
   "outputs": [],
   "cell_type": "markdown",
   "source": [
    "*This notebook was generated using [Literate.jl](https://github.com/fredrikekre/Literate.jl).*"
   ],
   "metadata": {}
  }
 ],
 "nbformat_minor": 3,
 "metadata": {
  "language_info": {
   "file_extension": ".jl",
   "mimetype": "application/julia",
   "name": "julia",
   "version": "1.2.0-pre.0"
  },
  "kernelspec": {
   "name": "julia-1.2",
   "display_name": "Julia 1.2.0-pre.0",
   "language": "julia"
  }
 },
 "nbformat": 4
}
