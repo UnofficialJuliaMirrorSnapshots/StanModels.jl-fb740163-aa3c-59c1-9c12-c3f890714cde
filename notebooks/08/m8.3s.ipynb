{
 "cells": [
  {
   "outputs": [],
   "cell_type": "markdown",
   "source": [
    "Load Julia packages (libraries)."
   ],
   "metadata": {}
  },
  {
   "outputs": [],
   "cell_type": "code",
   "source": [
    "using StanModels"
   ],
   "metadata": {},
   "execution_count": 1
  },
  {
   "outputs": [],
   "cell_type": "markdown",
   "source": [
    "CmdStan uses a tmp directory to store the output of cmdstan"
   ],
   "metadata": {}
  },
  {
   "outputs": [],
   "cell_type": "code",
   "source": [
    "ProjDir = rel_path_s(\"..\", \"scripts\", \"08\")\n",
    "cd(ProjDir)"
   ],
   "metadata": {},
   "execution_count": 2
  },
  {
   "outputs": [],
   "cell_type": "markdown",
   "source": [
    "Define the Stan language model"
   ],
   "metadata": {}
  },
  {
   "outputs": [],
   "cell_type": "code",
   "source": [
    "m_8_3 = \"\n",
    "data{\n",
    "  int N;\n",
    "  vector[N] y;\n",
    "}\n",
    "parameters{\n",
    "  real<lower=0> sigma;\n",
    "  real alpha;\n",
    "}\n",
    "model{\n",
    "  real mu;\n",
    "  alpha ~ normal( 1 , 10 );\n",
    "  sigma ~ cauchy( 0 , 1 );\n",
    "  mu = alpha;\n",
    "  y ~ normal( mu , sigma );\n",
    "}\n",
    "\";"
   ],
   "metadata": {},
   "execution_count": 3
  },
  {
   "outputs": [],
   "cell_type": "markdown",
   "source": [
    "Define the Stanmodel and set the output format to :mcmcchains."
   ],
   "metadata": {}
  },
  {
   "outputs": [
    {
     "name": "stdout",
     "output_type": "stream",
     "text": [
      "\n",
      "File /Users/rob/.julia/dev/StanModels/scripts/08/tmp/m_8_3.stan will be updated.\n",
      "\n"
     ]
    }
   ],
   "cell_type": "code",
   "source": [
    "stanmodel = Stanmodel(name=\"m_8_3\", monitors = [\"alpha\", \"mu\", \"sigma\"],\n",
    "model=m_8_3, output_format=:mcmcchains);"
   ],
   "metadata": {},
   "execution_count": 4
  },
  {
   "outputs": [],
   "cell_type": "markdown",
   "source": [
    "Input data for cmdstan"
   ],
   "metadata": {}
  },
  {
   "outputs": [],
   "cell_type": "code",
   "source": [
    "m_8_3_data = Dict(\"N\" => 2, \"y\" => [-1.0, 1.0]);\n",
    "m_8_3_init = Dict(\"alpha\" => 0.0, \"sigma\" => 1.0);"
   ],
   "metadata": {},
   "execution_count": 5
  },
  {
   "outputs": [],
   "cell_type": "markdown",
   "source": [
    "Sample using cmdstan"
   ],
   "metadata": {}
  },
  {
   "outputs": [
    {
     "name": "stdout",
     "output_type": "stream",
     "text": [
      "\n",
      "Inference for Stan model: m_8_3_model\n",
      "4 chains: each with iter=(1000,1000,1000,1000); warmup=(0,0,0,0); thin=(1,1,1,1); 4000 iterations saved.\n",
      "\n",
      "Warmup took (0.027, 0.029, 0.028, 0.028) seconds, 0.11 seconds total\n",
      "Sampling took (0.047, 0.045, 0.041, 0.039) seconds, 0.17 seconds total\n",
      "\n",
      "                 Mean     MCSE  StdDev    5%    50%   95%    N_Eff  N_Eff/s    R_hat\n",
      "lp__             -3.1  4.9e-02     1.3  -5.7   -2.7  -1.8  7.4e+02  4.3e+03  1.0e+00\n",
      "accept_stat__    0.89  1.9e-02    0.19  0.44   0.97   1.0  9.8e+01  5.7e+02  1.0e+00\n",
      "stepsize__       0.38  5.7e-02   0.080  0.31   0.39  0.51  2.0e+00  1.2e+01  1.6e+14\n",
      "treedepth__       2.3  6.3e-02    0.68   1.0    2.0   3.0  1.2e+02  6.7e+02  1.0e+00\n",
      "n_leapfrog__      5.7  3.4e-01     3.4   1.0    7.0    11  9.8e+01  5.7e+02  1.0e+00\n",
      "divergent__      0.00      nan    0.00  0.00   0.00  0.00      nan      nan      nan\n",
      "energy__          4.1  5.7e-02     1.6   2.2    3.7   7.4  8.3e+02  4.8e+03  1.0e+00\n",
      "sigma             2.0  7.3e-02     2.0  0.66    1.5   5.1  7.5e+02  4.3e+03  1.0e+00\n",
      "alpha           0.095  6.0e-02     1.7  -2.2  0.032   2.5  7.6e+02  4.4e+03  1.0e+00\n",
      "\n",
      "Samples were drawn using hmc with nuts.\n",
      "For each parameter, N_Eff is a crude measure of effective sample size,\n",
      "and R_hat is the potential scale reduction factor on split chains (at \n",
      "convergence, R_hat=1).\n",
      "\n"
     ]
    }
   ],
   "cell_type": "code",
   "source": [
    "rc, chn, cnames = stan(stanmodel, m_8_3_data, ProjDir, init=m_8_3_init,\n",
    " diagnostics=false, summary=true, CmdStanDir=CMDSTAN_HOME);\n",
    "\n",
    "rethinking = \"\n",
    "        mean   sd  5.5% 94.5% n_eff Rhat\n",
    "alpha 0.06 1.90 -2.22  2.49  1321    1\n",
    "sigma 2.15 2.32  0.70  5.21   461    1\n",
    "\";"
   ],
   "metadata": {},
   "execution_count": 6
  },
  {
   "outputs": [],
   "cell_type": "markdown",
   "source": [
    "Describe the draws"
   ],
   "metadata": {}
  },
  {
   "outputs": [
    {
     "name": "stdout",
     "output_type": "stream",
     "text": [
      "Iterations        = 1:1000\n",
      "Thinning interval = 1\n",
      "Chains            = 1, 2, 3, 4\n",
      "Samples per chain = 1000\n",
      "parameters        = sigma, alpha\n",
      "\n",
      "Empirical Posterior Estimates\n",
      "────────────────────────────────────────────\n",
      "parameters\n",
      "       Mean    SD   Naive SE  MCSE     ESS  \n",
      "alpha 0.0949 1.6647   0.0263 0.0566 865.7943\n",
      "sigma 2.0082 1.9928   0.0315 0.0783 647.2382\n",
      "\n",
      "Quantiles\n",
      "────────────────────────────────────────────\n",
      "parameters\n",
      "        2.5%   25.0%   50.0%  75.0%  97.5% \n",
      "alpha -9.7661 -0.6604 0.0315 0.7110 17.4055\n",
      "sigma  0.4054  1.0180 1.4626 2.2234 28.7765\n",
      "\n"
     ]
    }
   ],
   "cell_type": "code",
   "source": [
    "describe(chn)"
   ],
   "metadata": {},
   "execution_count": 7
  },
  {
   "outputs": [],
   "cell_type": "markdown",
   "source": [
    "End of `m8.3s.jl`"
   ],
   "metadata": {}
  },
  {
   "outputs": [],
   "cell_type": "markdown",
   "source": [
    "*This notebook was generated using [Literate.jl](https://github.com/fredrikekre/Literate.jl).*"
   ],
   "metadata": {}
  }
 ],
 "nbformat_minor": 3,
 "metadata": {
  "language_info": {
   "file_extension": ".jl",
   "mimetype": "application/julia",
   "name": "julia",
   "version": "1.2.0-DEV.564"
  },
  "kernelspec": {
   "name": "julia-1.2",
   "display_name": "Julia 1.2.0-DEV.564",
   "language": "julia"
  }
 },
 "nbformat": 4
}
