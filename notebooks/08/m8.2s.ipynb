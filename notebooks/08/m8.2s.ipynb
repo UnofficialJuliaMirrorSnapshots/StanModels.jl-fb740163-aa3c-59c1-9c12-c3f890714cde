{
 "cells": [
  {
   "outputs": [],
   "cell_type": "markdown",
   "source": [
    "Load Julia packages (libraries) ."
   ],
   "metadata": {}
  },
  {
   "outputs": [],
   "cell_type": "code",
   "source": [
    "using StanModels"
   ],
   "metadata": {},
   "execution_count": 1
  },
  {
   "outputs": [],
   "cell_type": "markdown",
   "source": [
    "CmdStan uses a tmp directory to store the output of cmdstan"
   ],
   "metadata": {}
  },
  {
   "outputs": [],
   "cell_type": "code",
   "source": [
    "ProjDir = rel_path_s(\"..\", \"scripts\", \"08\")\n",
    "cd(ProjDir)"
   ],
   "metadata": {},
   "execution_count": 2
  },
  {
   "outputs": [],
   "cell_type": "markdown",
   "source": [
    "Define the Stan language model"
   ],
   "metadata": {}
  },
  {
   "outputs": [],
   "cell_type": "code",
   "source": [
    "m_8_2 = \"\n",
    "data{\n",
    "    int N;\n",
    "    vector[N] y;\n",
    "}\n",
    "parameters{\n",
    "    real mu;\n",
    "    real<lower=0> sigma;\n",
    "}\n",
    "model{\n",
    "    y ~ normal( mu , sigma );\n",
    "}\n",
    "\";"
   ],
   "metadata": {},
   "execution_count": 3
  },
  {
   "outputs": [],
   "cell_type": "markdown",
   "source": [
    "Define the Stanmodel, set the output format to :mcmcchains."
   ],
   "metadata": {}
  },
  {
   "outputs": [
    {
     "name": "stdout",
     "output_type": "stream",
     "text": [
      "\n",
      "File /Users/rob/.julia/dev/StanModels/scripts/08/tmp/m_8_2.stan will be updated.\n",
      "\n"
     ]
    }
   ],
   "cell_type": "code",
   "source": [
    "stanmodel = Stanmodel(name=\"m_8_2\", monitors = [\"mu\", \"sigma\"],\n",
    "model=m_8_2, output_format=:mcmcchains);"
   ],
   "metadata": {},
   "execution_count": 4
  },
  {
   "outputs": [],
   "cell_type": "markdown",
   "source": [
    "Input data for cmdstan"
   ],
   "metadata": {}
  },
  {
   "outputs": [],
   "cell_type": "code",
   "source": [
    "m_8_2_data = Dict(\"N\" => 2, \"y\" => [-1, 1]);\n",
    "m_8_2_init = Dict(\"mu\" => 0.0, \"sigma\" => 1.0);"
   ],
   "metadata": {},
   "execution_count": 5
  },
  {
   "outputs": [],
   "cell_type": "markdown",
   "source": [
    "Sample using cmdstan"
   ],
   "metadata": {}
  },
  {
   "outputs": [
    {
     "name": "stdout",
     "output_type": "stream",
     "text": [
      "\n",
      "Inference for Stan model: m_8_2_model\n",
      "4 chains: each with iter=(1000,1000,1000,1000); warmup=(0,0,0,0); thin=(1,1,1,1); 4000 iterations saved.\n",
      "\n",
      "Warmup took (0.19, 0.15, 0.13, 0.33) seconds, 0.81 seconds total\n",
      "Sampling took (0.029, 0.73, 0.22, 0.36) seconds, 1.3 seconds total\n",
      "\n",
      "                    Mean     MCSE   StdDev        5%    50%       95%  N_Eff  N_Eff/s    R_hat\n",
      "lp__            -1.4e+01  3.7e+00  5.6e+00  -2.4e+01    -12  -5.6e+00    2.4      1.8  2.9e+00\n",
      "accept_stat__    6.7e-01  2.8e-01  4.3e-01   0.0e+00   0.97   1.0e+00    2.4      1.8  2.5e+00\n",
      "stepsize__       8.7e-02  5.8e-02  8.2e-02   1.4e-03  0.074   2.2e-01    2.0      1.5  2.8e+14\n",
      "treedepth__      3.8e+00  1.5e+00  2.9e+00   0.0e+00    3.0   9.0e+00    3.9      2.9  1.5e+00\n",
      "n_leapfrog__     1.3e+02  7.4e+01  2.6e+02   1.0e+00     11   8.4e+02     12      9.1  1.2e+00\n",
      "divergent__      2.6e-01  3.0e-01  4.4e-01   0.0e+00   0.00   1.0e+00    2.1      1.6  3.7e+00\n",
      "energy__         1.5e+01  3.7e+00  5.7e+00   6.4e+00     14   2.5e+01    2.4      1.8  2.6e+00\n",
      "mu              -1.2e+09  1.2e+09  4.2e+09  -9.3e+09  -2755   4.7e+07     12      9.1  1.4e+00\n",
      "sigma            7.0e+09  5.3e+09  6.3e+10   2.0e+02  70732   2.4e+10    144      108  1.0e+00\n",
      "\n",
      "Samples were drawn using hmc with nuts.\n",
      "For each parameter, N_Eff is a crude measure of effective sample size,\n",
      "and R_hat is the potential scale reduction factor on split chains (at \n",
      "convergence, R_hat=1).\n",
      "\n"
     ]
    }
   ],
   "cell_type": "code",
   "source": [
    "rc, chn, cnames = stan(stanmodel, m_8_2_data, ProjDir,\n",
    "init=m_8_2_init, diagnostics=false,\n",
    "summary=true, CmdStanDir=CMDSTAN_HOME);"
   ],
   "metadata": {},
   "execution_count": 6
  },
  {
   "outputs": [],
   "cell_type": "markdown",
   "source": [
    "Describe the draws"
   ],
   "metadata": {}
  },
  {
   "outputs": [
    {
     "name": "stdout",
     "output_type": "stream",
     "text": [
      "Iterations        = 1:1000\n",
      "Thinning interval = 1\n",
      "Chains            = 1, 2, 3, 4\n",
      "Samples per chain = 1000\n",
      "parameters        = mu, sigma\n",
      "\n",
      "Empirical Posterior Estimates\n",
      "────────────────────────────────────────────────────────────────────────────\n",
      "parameters\n",
      "            Mean             SD          Naive SE         MCSE         ESS  \n",
      "   mu -1.20824958×10⁹  4.24384436×10⁹ 6.71010711×10⁷ 5.99912623×10⁸  50.0429\n",
      "sigma  7.02822306×10⁹ 6.33685129×10¹⁰ 1.00194416×10⁹ 3.14641646×10⁹ 405.6156\n",
      "\n",
      "Quantiles\n",
      "────────────────────────────────────────────────────────────────────────────\n",
      "parameters\n",
      "           2.5%         25.0%         50.0%        75.0%         97.5%   \n",
      "   mu -3.70848×10¹⁰ -1.761005×10⁵ -2.75456×10³ 2.2063475×10³  1.37933×10⁹\n",
      "sigma   7.72391×10¹  1.342580×10³  7.02037×10⁴ 3.7291925×10⁷ 2.62391×10¹²\n",
      "\n"
     ]
    }
   ],
   "cell_type": "code",
   "source": [
    "describe(chn)"
   ],
   "metadata": {},
   "execution_count": 7
  },
  {
   "outputs": [],
   "cell_type": "markdown",
   "source": [
    "End of `m8.2s.jl`"
   ],
   "metadata": {}
  },
  {
   "outputs": [],
   "cell_type": "markdown",
   "source": [
    "*This notebook was generated using [Literate.jl](https://github.com/fredrikekre/Literate.jl).*"
   ],
   "metadata": {}
  }
 ],
 "nbformat_minor": 3,
 "metadata": {
  "language_info": {
   "file_extension": ".jl",
   "mimetype": "application/julia",
   "name": "julia",
   "version": "1.2.0-DEV.564"
  },
  "kernelspec": {
   "name": "julia-1.2",
   "display_name": "Julia 1.2.0-DEV.564",
   "language": "julia"
  }
 },
 "nbformat": 4
}
