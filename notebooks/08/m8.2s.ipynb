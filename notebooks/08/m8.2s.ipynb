{
 "cells": [
  {
   "outputs": [],
   "cell_type": "markdown",
   "source": [
    "Load Julia packages (libraries) ."
   ],
   "metadata": {}
  },
  {
   "outputs": [],
   "cell_type": "code",
   "source": [
    "using StanModels"
   ],
   "metadata": {},
   "execution_count": 1
  },
  {
   "outputs": [],
   "cell_type": "markdown",
   "source": [
    "CmdStan uses a tmp directory to store the output of cmdstan"
   ],
   "metadata": {}
  },
  {
   "outputs": [],
   "cell_type": "code",
   "source": [
    "ProjDir = rel_path_s(\"..\", \"scripts\", \"08\")\n",
    "cd(ProjDir)"
   ],
   "metadata": {},
   "execution_count": 2
  },
  {
   "outputs": [],
   "cell_type": "markdown",
   "source": [
    "Define the Stan language model"
   ],
   "metadata": {}
  },
  {
   "outputs": [],
   "cell_type": "code",
   "source": [
    "m_8_2 = \"\n",
    "data{\n",
    "    int N;\n",
    "    vector[N] y;\n",
    "}\n",
    "parameters{\n",
    "    real mu;\n",
    "    real<lower=0> sigma;\n",
    "}\n",
    "model{\n",
    "    y ~ normal( mu , sigma );\n",
    "}\n",
    "\";"
   ],
   "metadata": {},
   "execution_count": 3
  },
  {
   "outputs": [],
   "cell_type": "markdown",
   "source": [
    "Define the Stanmodel, set the output format to :mcmcchains."
   ],
   "metadata": {}
  },
  {
   "outputs": [
    {
     "name": "stdout",
     "output_type": "stream",
     "text": [
      "\n",
      "File /Users/rob/.julia/dev/StanModels/scripts/08/tmp/m_8_2.stan will be updated.\n",
      "\n"
     ]
    }
   ],
   "cell_type": "code",
   "source": [
    "stanmodel = Stanmodel(name=\"m_8_2\", monitors = [\"mu\", \"sigma\"],\n",
    "model=m_8_2, output_format=:mcmcchains);"
   ],
   "metadata": {},
   "execution_count": 4
  },
  {
   "outputs": [],
   "cell_type": "markdown",
   "source": [
    "Input data for cmdstan"
   ],
   "metadata": {}
  },
  {
   "outputs": [],
   "cell_type": "code",
   "source": [
    "m_8_2_data = Dict(\"N\" => 2, \"y\" => [-1, 1]);\n",
    "m_8_2_init = Dict(\"mu\" => 0.0, \"sigma\" => 1.0);"
   ],
   "metadata": {},
   "execution_count": 5
  },
  {
   "outputs": [],
   "cell_type": "markdown",
   "source": [
    "Sample using cmdstan"
   ],
   "metadata": {}
  },
  {
   "outputs": [
    {
     "name": "stdout",
     "output_type": "stream",
     "text": [
      "\n",
      "Inference for Stan model: m_8_2_model\n",
      "4 chains: each with iter=(1000,1000,1000,1000); warmup=(0,0,0,0); thin=(1,1,1,1); 4000 iterations saved.\n",
      "\n",
      "Warmup took (0.24, 0.43, 0.091, 0.22) seconds, 0.97 seconds total\n",
      "Sampling took (0.54, 0.061, 0.84, 0.64) seconds, 2.1 seconds total\n",
      "\n",
      "                    Mean     MCSE   StdDev        5%       50%       95%  N_Eff  N_Eff/s    R_hat\n",
      "lp__            -1.5e+01  1.1e+00  3.7e+00  -2.1e+01  -1.5e+01  -8.0e+00     13      6.0  1.4e+00\n",
      "accept_stat__    8.0e-01  7.7e-02  3.4e-01   1.7e-17   9.9e-01   1.0e+00     20      9.4  1.2e+00\n",
      "stepsize__       9.2e-02  5.1e-02  7.2e-02   1.7e-02   1.4e-01   1.8e-01    2.0     0.96  3.8e+14\n",
      "treedepth__      4.2e+00  6.9e-01  2.8e+00   1.0e+00   4.0e+00   1.0e+01     16      7.7  1.2e+00\n",
      "n_leapfrog__     1.5e+02  5.2e+01  3.1e+02   1.0e+00   1.5e+01   1.0e+03     34       16  1.1e+00\n",
      "divergent__      7.4e-02  3.2e-02  2.6e-01   0.0e+00   0.0e+00   1.0e+00     65       31  1.1e+00\n",
      "energy__         1.6e+01  1.1e+00  3.9e+00   8.9e+00   1.6e+01   2.2e+01     14      6.5  1.3e+00\n",
      "mu               3.5e+07  2.4e+07  1.5e+08  -1.5e+07   3.0e+00   2.4e+08     41       19  1.1e+00\n",
      "sigma            4.6e+08  2.8e+08  8.7e+09   2.0e+03   2.6e+06   7.4e+08    936      448  1.0e+00\n",
      "\n",
      "Samples were drawn using hmc with nuts.\n",
      "For each parameter, N_Eff is a crude measure of effective sample size,\n",
      "and R_hat is the potential scale reduction factor on split chains (at \n",
      "convergence, R_hat=1).\n",
      "\n"
     ]
    }
   ],
   "cell_type": "code",
   "source": [
    "rc, chn, cnames = stan(stanmodel, m_8_2_data, ProjDir,\n",
    "init=m_8_2_init, diagnostics=false,\n",
    "summary=true, CmdStanDir=CMDSTAN_HOME);"
   ],
   "metadata": {},
   "execution_count": 6
  },
  {
   "outputs": [],
   "cell_type": "markdown",
   "source": [
    "Describe the draws"
   ],
   "metadata": {}
  },
  {
   "outputs": [
    {
     "output_type": "execute_result",
     "data": {
      "text/plain": "2-element Array{ChainDataFrame,1}\n\nSummary Statistics\n\n│ Row │ parameters │ mean      │ std       │ naive_se  │ mcse      │ ess    │\n│     │ \u001b[90mSymbol\u001b[39m     │ \u001b[90mFloat64\u001b[39m   │ \u001b[90mFloat64\u001b[39m   │ \u001b[90mFloat64\u001b[39m   │ \u001b[90mFloat64\u001b[39m   │ \u001b[90mAny\u001b[39m    │\n├─────┼────────────┼───────────┼───────────┼───────────┼───────────┼────────┤\n│ 1   │ mu         │ 3.48573e7 │ 1.52978e8 │ 2.41879e6 │ 1.72988e7 │ 4000.0 │\n│ 2   │ sigma      │ 4.59028e8 │ 8.65257e9 │ 1.36809e8 │ 3.0302e8  │ 4000.0 │\n\nQuantiles\n. Omitted printing of 1 columns\n│ Row │ parameters │ 2.5%       │ 25.0%      │ 50.0%     │ 75.0%     │\n│     │ \u001b[90mSymbol\u001b[39m     │ \u001b[90mFloat64\u001b[39m    │ \u001b[90mFloat64\u001b[39m    │ \u001b[90mFloat64\u001b[39m   │ \u001b[90mFloat64\u001b[39m   │\n├─────┼────────────┼────────────┼────────────┼───────────┼───────────┤\n│ 1   │ mu         │ -2.98251e7 │ -6.13896e5 │ 3.03339   │ 2.28446e6 │\n│ 2   │ sigma      │ 572.399    │ 222859.0   │ 2.59049e6 │ 3.46296e7 │\n"
     },
     "metadata": {},
     "execution_count": 7
    }
   ],
   "cell_type": "code",
   "source": [
    "describe(chn)"
   ],
   "metadata": {},
   "execution_count": 7
  },
  {
   "outputs": [],
   "cell_type": "markdown",
   "source": [
    "End of `m8.2s.jl`"
   ],
   "metadata": {}
  },
  {
   "outputs": [],
   "cell_type": "markdown",
   "source": [
    "*This notebook was generated using [Literate.jl](https://github.com/fredrikekre/Literate.jl).*"
   ],
   "metadata": {}
  }
 ],
 "nbformat_minor": 3,
 "metadata": {
  "language_info": {
   "file_extension": ".jl",
   "mimetype": "application/julia",
   "name": "julia",
   "version": "1.2.0-pre.0"
  },
  "kernelspec": {
   "name": "julia-1.2",
   "display_name": "Julia 1.2.0-pre.0",
   "language": "julia"
  }
 },
 "nbformat": 4
}
