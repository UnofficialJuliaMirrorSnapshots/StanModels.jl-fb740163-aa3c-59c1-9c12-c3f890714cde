{
 "cells": [
  {
   "outputs": [],
   "cell_type": "markdown",
   "source": [
    "Load Julia packages (libraries) needed  for the snippets in chapter 0"
   ],
   "metadata": {}
  },
  {
   "outputs": [],
   "cell_type": "code",
   "source": [
    "using StanModels"
   ],
   "metadata": {},
   "execution_count": 1
  },
  {
   "outputs": [],
   "cell_type": "markdown",
   "source": [
    "CmdStan uses a tmp directory to store the output of cmdstan"
   ],
   "metadata": {}
  },
  {
   "outputs": [],
   "cell_type": "code",
   "source": [
    "ProjDir = rel_path_s(\"..\", \"scripts\", \"08\")\n",
    "cd(ProjDir)"
   ],
   "metadata": {},
   "execution_count": 2
  },
  {
   "outputs": [],
   "cell_type": "markdown",
   "source": [
    "Define the Stan language model"
   ],
   "metadata": {}
  },
  {
   "outputs": [],
   "cell_type": "code",
   "source": [
    "m_8_5 = \"\n",
    "data{\n",
    "  int N;\n",
    "  vector[N] y;\n",
    "}\n",
    "parameters{\n",
    "  real sigma;\n",
    "  real alpha;\n",
    "  real a1;\n",
    "  real a2;\n",
    "}\n",
    "model{\n",
    "  real mu;\n",
    "  a1 ~ normal(0, 10);\n",
    "  a2 ~ normal(0, 10);\n",
    "  mu = a1 + a2;\n",
    "  y ~ normal( mu , sigma );\n",
    "}\n",
    "\";"
   ],
   "metadata": {},
   "execution_count": 3
  },
  {
   "outputs": [],
   "cell_type": "markdown",
   "source": [
    "Define the Stanmodel and set the output format to :mcmcchains."
   ],
   "metadata": {}
  },
  {
   "outputs": [
    {
     "name": "stdout",
     "output_type": "stream",
     "text": [
      "\n",
      "File /Users/rob/.julia/dev/StanModels/scripts/08/tmp/m_8_5.stan will be updated.\n",
      "\n"
     ]
    }
   ],
   "cell_type": "code",
   "source": [
    "stanmodel = Stanmodel(name=\"m_8_5\", monitors = [\"a1\", \"a2\", \"mu\", \"sigma\"],\n",
    "model=m_8_5, output_format=:mcmcchains);"
   ],
   "metadata": {},
   "execution_count": 4
  },
  {
   "outputs": [],
   "cell_type": "markdown",
   "source": [
    "Input data for cmdstan"
   ],
   "metadata": {}
  },
  {
   "outputs": [],
   "cell_type": "code",
   "source": [
    "m_8_5_data = Dict(\"N\" => 100, \"y\" => rand(Normal(0, 1), 100));"
   ],
   "metadata": {},
   "execution_count": 5
  },
  {
   "outputs": [],
   "cell_type": "markdown",
   "source": [
    "Sample using cmdstan"
   ],
   "metadata": {}
  },
  {
   "outputs": [
    {
     "name": "stdout",
     "output_type": "stream",
     "text": [
      "Informational Message: The current Metropolis proposal is about to be rejected because of the following issue:\n",
      "Exception: normal_lpdf: Scale parameter is -1.75368, but must be > 0!  (in '/Users/rob/.julia/dev/StanModels/scripts/08/tmp/m_8_5.stan' at line 16)\n",
      "\n",
      "If this warning occurs sporadically, such as for highly constrained variable types like covariance matrices, then the sampler is fine,\n",
      "but if this warning occurs often then your model may be either severely ill-conditioned or misspecified.\n",
      "\n",
      "Informational Message: The current Metropolis proposal is about to be rejected because of the following issue:\n",
      "Exception: normal_lpdf: Scale parameter is -736.489, but must be > 0!  (in '/Users/rob/.julia/dev/StanModels/scripts/08/tmp/m_8_5.stan' at line 16)\n",
      "\n",
      "If this warning occurs sporadically, such as for highly constrained variable types like covariance matrices, then the sampler is fine,\n",
      "but if this warning occurs often then your model may be either severely ill-conditioned or misspecified.\n",
      "\n",
      "Informational Message: The current Metropolis proposal is about to be rejected because of the following issue:\n",
      "Exception: normal_lpdf: Scale parameter is -12.7583, but must be > 0!  (in '/Users/rob/.julia/dev/StanModels/scripts/08/tmp/m_8_5.stan' at line 16)\n",
      "\n",
      "If this warning occurs sporadically, such as for highly constrained variable types like covariance matrices, then the sampler is fine,\n",
      "but if this warning occurs often then your model may be either severely ill-conditioned or misspecified.\n",
      "\n",
      "Informational Message: The current Metropolis proposal is about to be rejected because of the following issue:\n",
      "Exception: normal_lpdf: Scale parameter is -15.6783, but must be > 0!  (in '/Users/rob/.julia/dev/StanModels/scripts/08/tmp/m_8_5.stan' at line 16)\n",
      "\n",
      "If this warning occurs sporadically, such as for highly constrained variable types like covariance matrices, then the sampler is fine,\n",
      "but if this warning occurs often then your model may be either severely ill-conditioned or misspecified.\n",
      "\n",
      "Informational Message: The current Metropolis proposal is about to be rejected because of the following issue:\n",
      "Exception: normal_lpdf: Scale parameter is -15.6291, but must be > 0!  (in '/Users/rob/.julia/dev/StanModels/scripts/08/tmp/m_8_5.stan' at line 16)\n",
      "\n",
      "If this warning occurs sporadically, such as for highly constrained variable types like covariance matrices, then the sampler is fine,\n",
      "but if this warning occurs often then your model may be either severely ill-conditioned or misspecified.\n",
      "\n",
      "Informational Message: The current Metropolis proposal is about to be rejected because of the following issue:\n",
      "Exception: normal_lpdf: Scale parameter is -2.67101, but must be > 0!  (in '/Users/rob/.julia/dev/StanModels/scripts/08/tmp/m_8_5.stan' at line 16)\n",
      "\n",
      "If this warning occurs sporadically, such as for highly constrained variable types like covariance matrices, then the sampler is fine,\n",
      "but if this warning occurs often then your model may be either severely ill-conditioned or misspecified.\n",
      "\n",
      "Informational Message: The current Metropolis proposal is about to be rejected because of the following issue:\n",
      "Exception: normal_lpdf: Scale parameter is -10.3729, but must be > 0!  (in '/Users/rob/.julia/dev/StanModels/scripts/08/tmp/m_8_5.stan' at line 16)\n",
      "\n",
      "If this warning occurs sporadically, such as for highly constrained variable types like covariance matrices, then the sampler is fine,\n",
      "but if this warning occurs often then your model may be either severely ill-conditioned or misspecified.\n",
      "\n",
      "Informational Message: The current Metropolis proposal is about to be rejected because of the following issue:\n",
      "Exception: normal_lpdf: Scale parameter is -11.2148, but must be > 0!  (in '/Users/rob/.julia/dev/StanModels/scripts/08/tmp/m_8_5.stan' at line 16)\n",
      "\n",
      "If this warning occurs sporadically, such as for highly constrained variable types like covariance matrices, then the sampler is fine,\n",
      "but if this warning occurs often then your model may be either severely ill-conditioned or misspecified.\n",
      "\n",
      "Informational Message: The current Metropolis proposal is about to be rejected because of the following issue:\n",
      "Exception: normal_lpdf: Scale parameter is -1.08145, but must be > 0!  (in '/Users/rob/.julia/dev/StanModels/scripts/08/tmp/m_8_5.stan' at line 16)\n",
      "\n",
      "If this warning occurs sporadically, such as for highly constrained variable types like covariance matrices, then the sampler is fine,\n",
      "but if this warning occurs often then your model may be either severely ill-conditioned or misspecified.\n",
      "\n",
      "Informational Message: The current Metropolis proposal is about to be rejected because of the following issue:\n",
      "Exception: normal_lpdf: Scale parameter is -241.855, but must be > 0!  (in '/Users/rob/.julia/dev/StanModels/scripts/08/tmp/m_8_5.stan' at line 16)\n",
      "\n",
      "If this warning occurs sporadically, such as for highly constrained variable types like covariance matrices, then the sampler is fine,\n",
      "but if this warning occurs often then your model may be either severely ill-conditioned or misspecified.\n",
      "\n",
      "Informational Message: The current Metropolis proposal is about to be rejected because of the following issue:\n",
      "Exception: normal_lpdf: Scale parameter is -4.47383, but must be > 0!  (in '/Users/rob/.julia/dev/StanModels/scripts/08/tmp/m_8_5.stan' at line 16)\n",
      "\n",
      "If this warning occurs sporadically, such as for highly constrained variable types like covariance matrices, then the sampler is fine,\n",
      "but if this warning occurs often then your model may be either severely ill-conditioned or misspecified.\n",
      "\n",
      "\n",
      "Inference for Stan model: m_8_5_model\n",
      "4 chains: each with iter=(1000,1000,1000,1000); warmup=(0,0,0,0); thin=(1,1,1,1); 4000 iterations saved.\n",
      "\n",
      "Warmup took (2.5, 2.4, 2.5, 2.3) seconds, 9.7 seconds total\n",
      "Sampling took (2.9, 2.9, 2.8, 2.7) seconds, 11 seconds total\n",
      "\n",
      "                    Mean     MCSE   StdDev        5%       50%       95%    N_Eff  N_Eff/s    R_hat\n",
      "lp__            -5.8e+01  3.3e-02  1.3e+00  -6.1e+01  -5.8e+01  -5.7e+01  1.5e+03  1.3e+02  1.0e+00\n",
      "accept_stat__    9.4e-01  1.4e-03  9.1e-02   7.4e-01   9.8e-01   1.0e+00  4.2e+03  3.8e+02  1.0e+00\n",
      "stepsize__       1.1e-02  5.9e-04  8.4e-04   9.4e-03   1.1e-02   1.2e-02  2.0e+00  1.8e-01  7.8e+13\n",
      "treedepth__      8.3e+00  3.7e-02  2.1e+00   2.0e+00   9.0e+00   1.0e+01  3.4e+03  3.0e+02  1.0e+00\n",
      "n_leapfrog__     6.0e+02  6.7e+00  3.8e+02   7.0e+00   5.1e+02   1.0e+03  3.3e+03  2.9e+02  1.0e+00\n",
      "divergent__      0.0e+00      nan  0.0e+00   0.0e+00   0.0e+00   0.0e+00      nan      nan      nan\n",
      "energy__         6.0e+01  4.7e-02  1.9e+00   5.8e+01   6.0e+01   6.3e+01  1.6e+03  1.4e+02  1.0e+00\n",
      "sigma            1.1e+00  1.6e-03  8.0e-02   9.6e-01   1.1e+00   1.2e+00  2.4e+03  2.1e+02  1.0e+00\n",
      "alpha           -4.7e+09  6.1e+09  9.5e+09  -2.6e+10  -5.2e+08   2.7e+09  2.5e+00  2.2e-01  3.2e+00\n",
      "a1              -3.9e-01  1.4e-01  7.0e+00  -1.2e+01  -3.1e-01   1.1e+01  2.5e+03  2.2e+02  1.0e+00\n",
      "a2               3.7e-01  1.4e-01  7.0e+00  -1.1e+01   3.1e-01   1.2e+01  2.5e+03  2.2e+02  1.0e+00\n",
      "\n",
      "Samples were drawn using hmc with nuts.\n",
      "For each parameter, N_Eff is a crude measure of effective sample size,\n",
      "and R_hat is the potential scale reduction factor on split chains (at \n",
      "convergence, R_hat=1).\n",
      "\n"
     ]
    }
   ],
   "cell_type": "code",
   "source": [
    "rc, chn, cnames = stan(stanmodel, m_8_5_data, ProjDir, diagnostics=false,\n",
    "  summary=true, CmdStanDir=CMDSTAN_HOME);\n",
    "\n",
    "rethinking = \"\n",
    "       mean   sd   5.5% 94.5% n_eff Rhat\n",
    "a1    -0.08 7.15 -11.34 11.25  1680    1\n",
    "a2    -0.05 7.15 -11.37 11.19  1682    1\n",
    "sigma  0.90 0.07   0.81  1.02  2186    1\n",
    "\";"
   ],
   "metadata": {},
   "execution_count": 6
  },
  {
   "outputs": [],
   "cell_type": "markdown",
   "source": [
    "Describe the draws"
   ],
   "metadata": {}
  },
  {
   "outputs": [
    {
     "name": "stdout",
     "output_type": "stream",
     "text": [
      "Iterations        = 1:1000\n",
      "Thinning interval = 1\n",
      "Chains            = 1, 2, 3, 4\n",
      "Samples per chain = 1000\n",
      "parameters        = sigma, a1, a2\n",
      "\n",
      "Empirical Posterior Estimates\n",
      "─────────────────────────────────────────────\n",
      "parameters\n",
      "        Mean    SD   Naive SE  MCSE   ESS\n",
      "   a1 -0.3884 7.0023   0.1107 0.1401 1000\n",
      "   a2  0.3715 7.0019   0.1107 0.1400 1000\n",
      "sigma  1.0872 0.0798   0.0013 0.0019 1000\n",
      "\n",
      "Quantiles\n",
      "─────────────────────────────────────────────\n",
      "parameters\n",
      "        2.5%    25.0%   50.0%   75.0%  97.5% \n",
      "   a1 -27.4621 -5.0595 -0.3194 4.3067 24.6856\n",
      "   a2 -24.8338 -4.3376  0.3105 5.0091 27.4274\n",
      "sigma   0.8484  1.0317  1.0817 1.1381  1.4026\n",
      "\n"
     ]
    }
   ],
   "cell_type": "code",
   "source": [
    "describe(chn)"
   ],
   "metadata": {},
   "execution_count": 7
  },
  {
   "outputs": [],
   "cell_type": "markdown",
   "source": [
    "End of `08/m8.1s.jl`"
   ],
   "metadata": {}
  },
  {
   "outputs": [],
   "cell_type": "markdown",
   "source": [
    "*This notebook was generated using [Literate.jl](https://github.com/fredrikekre/Literate.jl).*"
   ],
   "metadata": {}
  }
 ],
 "nbformat_minor": 3,
 "metadata": {
  "language_info": {
   "file_extension": ".jl",
   "mimetype": "application/julia",
   "name": "julia",
   "version": "1.2.0-DEV.564"
  },
  "kernelspec": {
   "name": "julia-1.2",
   "display_name": "Julia 1.2.0-DEV.564",
   "language": "julia"
  }
 },
 "nbformat": 4
}
