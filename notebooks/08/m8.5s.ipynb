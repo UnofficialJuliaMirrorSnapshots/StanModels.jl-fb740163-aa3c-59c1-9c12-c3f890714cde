{
 "cells": [
  {
   "outputs": [],
   "cell_type": "markdown",
   "source": [
    "Load Julia packages (libraries) needed  for the snippets in chapter 0"
   ],
   "metadata": {}
  },
  {
   "outputs": [],
   "cell_type": "code",
   "source": [
    "using StanModels"
   ],
   "metadata": {},
   "execution_count": 1
  },
  {
   "outputs": [],
   "cell_type": "markdown",
   "source": [
    "CmdStan uses a tmp directory to store the output of cmdstan"
   ],
   "metadata": {}
  },
  {
   "outputs": [],
   "cell_type": "code",
   "source": [
    "ProjDir = rel_path_s(\"..\", \"scripts\", \"08\")\n",
    "cd(ProjDir)"
   ],
   "metadata": {},
   "execution_count": 2
  },
  {
   "outputs": [],
   "cell_type": "markdown",
   "source": [
    "Define the Stan language model"
   ],
   "metadata": {}
  },
  {
   "outputs": [],
   "cell_type": "code",
   "source": [
    "m_8_5 = \"\n",
    "data{\n",
    "  int N;\n",
    "  vector[N] y;\n",
    "}\n",
    "parameters{\n",
    "  real sigma;\n",
    "  real alpha;\n",
    "  real a1;\n",
    "  real a2;\n",
    "}\n",
    "model{\n",
    "  real mu;\n",
    "  a1 ~ normal(0, 10);\n",
    "  a2 ~ normal(0, 10);\n",
    "  mu = a1 + a2;\n",
    "  y ~ normal( mu , sigma );\n",
    "}\n",
    "\";"
   ],
   "metadata": {},
   "execution_count": 3
  },
  {
   "outputs": [],
   "cell_type": "markdown",
   "source": [
    "Define the Stanmodel and set the output format to :mcmcchains."
   ],
   "metadata": {}
  },
  {
   "outputs": [
    {
     "name": "stdout",
     "output_type": "stream",
     "text": [
      "\n",
      "File /Users/rob/.julia/dev/StanModels/scripts/08/tmp/m_8_5.stan will be updated.\n",
      "\n"
     ]
    }
   ],
   "cell_type": "code",
   "source": [
    "stanmodel = Stanmodel(name=\"m_8_5\", monitors = [\"a1\", \"a2\", \"mu\", \"sigma\"],\n",
    "model=m_8_5, output_format=:mcmcchains);"
   ],
   "metadata": {},
   "execution_count": 4
  },
  {
   "outputs": [],
   "cell_type": "markdown",
   "source": [
    "Input data for cmdstan"
   ],
   "metadata": {}
  },
  {
   "outputs": [],
   "cell_type": "code",
   "source": [
    "m_8_5_data = Dict(\"N\" => 100, \"y\" => rand(Normal(0, 1), 100));"
   ],
   "metadata": {},
   "execution_count": 5
  },
  {
   "outputs": [],
   "cell_type": "markdown",
   "source": [
    "Sample using cmdstan"
   ],
   "metadata": {}
  },
  {
   "outputs": [
    {
     "name": "stdout",
     "output_type": "stream",
     "text": [
      "Informational Message: The current Metropolis proposal is about to be rejected because of the following issue:\n",
      "Exception: normal_lpdf: Scale parameter is -5.23161, but must be > 0!  (in '/Users/rob/.julia/dev/StanModels/scripts/08/tmp/m_8_5.stan' at line 16)\n",
      "\n",
      "If this warning occurs sporadically, such as for highly constrained variable types like covariance matrices, then the sampler is fine,\n",
      "but if this warning occurs often then your model may be either severely ill-conditioned or misspecified.\n",
      "\n",
      "Informational Message: The current Metropolis proposal is about to be rejected because of the following issue:\n",
      "Exception: normal_lpdf: Scale parameter is -4.01487, but must be > 0!  (in '/Users/rob/.julia/dev/StanModels/scripts/08/tmp/m_8_5.stan' at line 16)\n",
      "\n",
      "If this warning occurs sporadically, such as for highly constrained variable types like covariance matrices, then the sampler is fine,\n",
      "but if this warning occurs often then your model may be either severely ill-conditioned or misspecified.\n",
      "\n",
      "Informational Message: The current Metropolis proposal is about to be rejected because of the following issue:\n",
      "Exception: normal_lpdf: Scale parameter is -0.331649, but must be > 0!  (in '/Users/rob/.julia/dev/StanModels/scripts/08/tmp/m_8_5.stan' at line 16)\n",
      "\n",
      "If this warning occurs sporadically, such as for highly constrained variable types like covariance matrices, then the sampler is fine,\n",
      "but if this warning occurs often then your model may be either severely ill-conditioned or misspecified.\n",
      "\n",
      "\n",
      "Inference for Stan model: m_8_5_model\n",
      "4 chains: each with iter=(1000,1000,1000,1000); warmup=(0,0,0,0); thin=(1,1,1,1); 4000 iterations saved.\n",
      "\n",
      "Warmup took (2.6, 2.6, 2.7, 2.6) seconds, 11 seconds total\n",
      "Sampling took (3.0, 2.9, 3.0, 2.9) seconds, 12 seconds total\n",
      "\n",
      "                    Mean     MCSE   StdDev        5%       50%       95%    N_Eff  N_Eff/s    R_hat\n",
      "lp__            -3.6e+01  3.7e-02  1.3e+00  -3.9e+01  -3.6e+01  -3.5e+01  1.2e+03  1.0e+02  1.0e+00\n",
      "accept_stat__    9.3e-01  3.9e-03  9.4e-02   7.3e-01   9.7e-01   1.0e+00  5.8e+02  5.0e+01  1.0e+00\n",
      "stepsize__       8.7e-03  4.1e-04  5.8e-04   8.3e-03   8.5e-03   9.7e-03  2.0e+00  1.7e-01  4.5e+13\n",
      "treedepth__      8.4e+00  3.8e-02  2.1e+00   2.0e+00   9.0e+00   1.0e+01  3.0e+03  2.5e+02  1.0e+00\n",
      "n_leapfrog__     6.2e+02  6.6e+00  3.7e+02   7.0e+00   5.1e+02   1.0e+03  3.1e+03  2.7e+02  1.0e+00\n",
      "divergent__      0.0e+00      nan  0.0e+00   0.0e+00   0.0e+00   0.0e+00      nan      nan      nan\n",
      "energy__         3.8e+01  5.4e-02  1.9e+00   3.6e+01   3.8e+01   4.2e+01  1.2e+03  1.0e+02  1.0e+00\n",
      "sigma            8.7e-01  1.3e-03  6.5e-02   7.8e-01   8.7e-01   9.9e-01  2.7e+03  2.3e+02  1.0e+00\n",
      "alpha            1.5e+08  9.8e+07  4.5e+08  -5.3e+08   1.4e+08   9.5e+08  2.1e+01  1.8e+00  1.2e+00\n",
      "a1              -7.1e-03  1.3e-01  7.1e+00  -1.2e+01  -1.1e-01   1.2e+01  3.0e+03  2.6e+02  1.0e+00\n",
      "a2              -6.8e-02  1.3e-01  7.1e+00  -1.2e+01   4.1e-02   1.2e+01  3.0e+03  2.6e+02  1.0e+00\n",
      "\n",
      "Samples were drawn using hmc with nuts.\n",
      "For each parameter, N_Eff is a crude measure of effective sample size,\n",
      "and R_hat is the potential scale reduction factor on split chains (at \n",
      "convergence, R_hat=1).\n",
      "\n"
     ]
    }
   ],
   "cell_type": "code",
   "source": [
    "rc, chn, cnames = stan(stanmodel, m_8_5_data, ProjDir, diagnostics=false,\n",
    "  summary=true, CmdStanDir=CMDSTAN_HOME);\n",
    "\n",
    "rethinking = \"\n",
    "       mean   sd   5.5% 94.5% n_eff Rhat\n",
    "a1    -0.08 7.15 -11.34 11.25  1680    1\n",
    "a2    -0.05 7.15 -11.37 11.19  1682    1\n",
    "sigma  0.90 0.07   0.81  1.02  2186    1\n",
    "\";"
   ],
   "metadata": {},
   "execution_count": 6
  },
  {
   "outputs": [],
   "cell_type": "markdown",
   "source": [
    "Describe the draws"
   ],
   "metadata": {}
  },
  {
   "outputs": [
    {
     "output_type": "execute_result",
     "data": {
      "text/plain": "2-element Array{ChainDataFrame,1}\n\nSummary Statistics\n. Omitted printing of 1 columns\n│ Row │ parameters │ mean        │ std       │ naive_se   │ mcse       │\n│     │ \u001b[90mSymbol\u001b[39m     │ \u001b[90mFloat64\u001b[39m     │ \u001b[90mFloat64\u001b[39m   │ \u001b[90mFloat64\u001b[39m    │ \u001b[90mFloat64\u001b[39m    │\n├─────┼────────────┼─────────────┼───────────┼────────────┼────────────┤\n│ 1   │ a1         │ -0.00709292 │ 7.06453   │ 0.1117     │ 0.143567   │\n│ 2   │ a2         │ -0.0681731  │ 7.06421   │ 0.111695   │ 0.143745   │\n│ 3   │ sigma      │ 0.874672    │ 0.0654987 │ 0.00103563 │ 0.00111666 │\n\nQuantiles\n\n│ Row │ parameters │ 2.5%     │ 25.0%    │ 50.0%     │ 75.0%    │ 97.5%   │\n│     │ \u001b[90mSymbol\u001b[39m     │ \u001b[90mFloat64\u001b[39m  │ \u001b[90mFloat64\u001b[39m  │ \u001b[90mFloat64\u001b[39m   │ \u001b[90mFloat64\u001b[39m  │ \u001b[90mFloat64\u001b[39m │\n├─────┼────────────┼──────────┼──────────┼───────────┼──────────┼─────────┤\n│ 1   │ a1         │ -14.052  │ -4.84355 │ -0.111063 │ 4.84643  │ 13.9719 │\n│ 2   │ a2         │ -14.0709 │ -4.92919 │ 0.0393818 │ 4.76651  │ 13.9258 │\n│ 3   │ sigma      │ 0.758405 │ 0.828599 │ 0.870645  │ 0.912883 │ 1.02377 │\n"
     },
     "metadata": {},
     "execution_count": 7
    }
   ],
   "cell_type": "code",
   "source": [
    "describe(chn)"
   ],
   "metadata": {},
   "execution_count": 7
  },
  {
   "outputs": [],
   "cell_type": "markdown",
   "source": [
    "End of `08/m8.1s.jl`"
   ],
   "metadata": {}
  },
  {
   "outputs": [],
   "cell_type": "markdown",
   "source": [
    "*This notebook was generated using [Literate.jl](https://github.com/fredrikekre/Literate.jl).*"
   ],
   "metadata": {}
  }
 ],
 "nbformat_minor": 3,
 "metadata": {
  "language_info": {
   "file_extension": ".jl",
   "mimetype": "application/julia",
   "name": "julia",
   "version": "1.2.0-pre.0"
  },
  "kernelspec": {
   "name": "julia-1.2",
   "display_name": "Julia 1.2.0-pre.0",
   "language": "julia"
  }
 },
 "nbformat": 4
}
