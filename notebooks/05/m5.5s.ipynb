{
 "cells": [
  {
   "outputs": [],
   "cell_type": "markdown",
   "source": [
    "Load Julia packages (libraries) needed  for the snippets in chapter 0"
   ],
   "metadata": {}
  },
  {
   "outputs": [],
   "cell_type": "code",
   "source": [
    "using StanModels"
   ],
   "metadata": {},
   "execution_count": 1
  },
  {
   "outputs": [],
   "cell_type": "markdown",
   "source": [
    "CmdStan uses a tmp directory to store the output of cmdstan"
   ],
   "metadata": {}
  },
  {
   "outputs": [],
   "cell_type": "code",
   "source": [
    "ProjDir = rel_path_s(\"..\", \"scripts\", \"05\")\n",
    "cd(ProjDir)"
   ],
   "metadata": {},
   "execution_count": 2
  },
  {
   "outputs": [],
   "cell_type": "markdown",
   "source": [
    "Read the milk data"
   ],
   "metadata": {}
  },
  {
   "outputs": [
    {
     "output_type": "execute_result",
     "data": {
      "text/plain": "17-element Array{Float64,1}:\n 55.16\n 64.54\n 64.54\n 67.64\n 68.85\n 58.85\n 61.69\n 60.32\n 69.97\n 70.41\n 73.4 \n 67.53\n 71.26\n 72.6 \n 70.24\n 76.3 \n 75.49"
     },
     "metadata": {},
     "execution_count": 3
    }
   ],
   "cell_type": "code",
   "source": [
    "wd = CSV.read(rel_path(\"..\", \"data\", \"milk.csv\"), delim=';')\n",
    "df = convert(DataFrame, wd);\n",
    "dcc = filter(row -> !(row[:neocortex_perc] == \"NA\"), df)\n",
    "dcc[:kcal_per_g] = convert(Vector{Float64}, dcc[:kcal_per_g])\n",
    "dcc[:neocortex_perc] = parse.(Float64, dcc[:neocortex_perc])"
   ],
   "metadata": {},
   "execution_count": 3
  },
  {
   "outputs": [],
   "cell_type": "markdown",
   "source": [
    "Show first 5 rows"
   ],
   "metadata": {}
  },
  {
   "outputs": [
    {
     "output_type": "execute_result",
     "data": {
      "text/plain": "5×8 DataFrame. Omitted printing of 4 columns\n│ Row │ clade            │ species            │ kcal_per_g │ perc_fat │\n│     │ \u001b[90mString⍰\u001b[39m          │ \u001b[90mString⍰\u001b[39m            │ \u001b[90mFloat64\u001b[39m    │ \u001b[90mFloat64⍰\u001b[39m │\n├─────┼──────────────────┼────────────────────┼────────────┼──────────┤\n│ 1   │ Strepsirrhine    │ Eulemur fulvus     │ 0.49       │ 16.6     │\n│ 2   │ New World Monkey │ Alouatta seniculus │ 0.47       │ 21.22    │\n│ 3   │ New World Monkey │ A palliata         │ 0.56       │ 29.66    │\n│ 4   │ New World Monkey │ Cebus apella       │ 0.89       │ 53.41    │\n│ 5   │ New World Monkey │ S sciureus         │ 0.92       │ 50.58    │",
      "text/html": [
       "<table class=\"data-frame\"><thead><tr><th></th><th>clade</th><th>species</th><th>kcal_per_g</th><th>perc_fat</th><th>perc_protein</th><th>perc_lactose</th><th>mass</th><th>neocortex_perc</th></tr><tr><th></th><th>String⍰</th><th>String⍰</th><th>Float64</th><th>Float64⍰</th><th>Float64⍰</th><th>Float64⍰</th><th>Float64⍰</th><th>Float64</th></tr></thead><tbody><p>5 rows × 8 columns</p><tr><th>1</th><td>Strepsirrhine</td><td>Eulemur fulvus</td><td>0.49</td><td>16.6</td><td>15.42</td><td>67.98</td><td>1.95</td><td>55.16</td></tr><tr><th>2</th><td>New World Monkey</td><td>Alouatta seniculus</td><td>0.47</td><td>21.22</td><td>23.58</td><td>55.2</td><td>5.25</td><td>64.54</td></tr><tr><th>3</th><td>New World Monkey</td><td>A palliata</td><td>0.56</td><td>29.66</td><td>23.46</td><td>46.88</td><td>5.37</td><td>64.54</td></tr><tr><th>4</th><td>New World Monkey</td><td>Cebus apella</td><td>0.89</td><td>53.41</td><td>15.8</td><td>30.79</td><td>2.51</td><td>67.64</td></tr><tr><th>5</th><td>New World Monkey</td><td>S sciureus</td><td>0.92</td><td>50.58</td><td>22.33</td><td>27.09</td><td>0.68</td><td>68.85</td></tr></tbody></table>"
      ]
     },
     "metadata": {},
     "execution_count": 4
    }
   ],
   "cell_type": "code",
   "source": [
    "first(dcc, 5)"
   ],
   "metadata": {},
   "execution_count": 4
  },
  {
   "outputs": [],
   "cell_type": "markdown",
   "source": [
    "Define the Stan language model"
   ],
   "metadata": {}
  },
  {
   "outputs": [],
   "cell_type": "code",
   "source": [
    "m5_5 = \"\n",
    "data{\n",
    "    int N;\n",
    "    vector[N] kcal_per_g;\n",
    "    vector[N] neocortex_perc;\n",
    "}\n",
    "parameters{\n",
    "    real a;\n",
    "    real bn;\n",
    "    real sigma;\n",
    "}\n",
    "model{\n",
    "    vector[N] mu = a + bn * neocortex_perc;\n",
    "    sigma ~ uniform( 0 , 1 );\n",
    "    bn ~ normal( 0 , 1 );\n",
    "    a ~ normal( 0 , 100 );\n",
    "    kcal_per_g ~ normal( mu , sigma );\n",
    "}\n",
    "\";"
   ],
   "metadata": {},
   "execution_count": 5
  },
  {
   "outputs": [],
   "cell_type": "markdown",
   "source": [
    "Define the Stanmodel and set the output format to :mcmcchains."
   ],
   "metadata": {}
  },
  {
   "outputs": [
    {
     "name": "stdout",
     "output_type": "stream",
     "text": [
      "\n",
      "File /Users/rob/.julia/dev/StanModels/scripts/05/tmp/m5_5.stan will be updated.\n",
      "\n",
      "\n",
      "Inference for Stan model: m5_5_model\n",
      "4 chains: each with iter=(1000,1000,1000,1000); warmup=(0,0,0,0); thin=(1,1,1,1); 4000 iterations saved.\n",
      "\n",
      "Warmup took (0.084, 0.27, 0.072, 0.11) seconds, 0.54 seconds total\n",
      "Sampling took (0.083, 0.17, 0.088, 0.076) seconds, 0.42 seconds total\n",
      "\n",
      "                    Mean     MCSE  StdDev        5%       50%    95%    N_Eff  N_Eff/s    R_hat\n",
      "lp__            -4.3e+04  1.9e+04   27394  -7.5e+04  -4.4e+04     21  2.0e+00  4.8e+00  9.1e+02\n",
      "accept_stat__    8.3e-01  2.9e-02    0.22   5.0e-01   9.0e-01    1.0  5.8e+01  1.4e+02  1.1e+00\n",
      "stepsize__       1.2e-02      nan   0.020   3.7e-04   6.5e-04  0.046      nan      nan  7.6e+14\n",
      "treedepth__      3.0e+00  6.7e-01     1.5   1.0e+00   3.0e+00    6.0  5.1e+00  1.2e+01  1.3e+00\n",
      "n_leapfrog__     1.8e+01  1.1e+01      21   2.0e+00   1.0e+01     63  3.9e+00  9.4e+00  1.4e+00\n",
      "divergent__      7.1e-01      nan    0.46   0.0e+00   1.0e+00    1.0      nan      nan  2.4e+00\n",
      "energy__         4.3e+04  1.9e+04   27394  -2.0e+01   5.4e+04  75176  2.0e+00  4.8e+00  9.1e+02\n",
      "a                5.8e-01  3.1e-01    0.52  -1.4e-01   6.4e-01    1.2  2.9e+00  7.0e+00  1.8e+00\n",
      "bn              -2.1e-01  7.3e-01     1.0  -1.2e+00  -3.0e-02    1.4  2.0e+00  4.8e+00  2.5e+02\n",
      "sigma            8.0e-01  2.5e-01    0.35   1.6e-01   1.0e+00   1.00  2.0e+00  4.8e+00  1.9e+01\n",
      "\n",
      "Samples were drawn using hmc with nuts.\n",
      "For each parameter, N_Eff is a crude measure of effective sample size,\n",
      "and R_hat is the potential scale reduction factor on split chains (at \n",
      "convergence, R_hat=1).\n",
      "\n"
     ]
    },
    {
     "output_type": "execute_result",
     "data": {
      "text/plain": "2-element Array{ChainDataFrame,1}\n\nSummary Statistics\n\n│ Row │ parameters │ mean      │ std      │ naive_se   │ mcse      │ ess    │\n│     │ \u001b[90mSymbol\u001b[39m     │ \u001b[90mFloat64\u001b[39m   │ \u001b[90mFloat64\u001b[39m  │ \u001b[90mFloat64\u001b[39m    │ \u001b[90mFloat64\u001b[39m   │ \u001b[90mAny\u001b[39m    │\n├─────┼────────────┼───────────┼──────────┼────────────┼───────────┼────────┤\n│ 1   │ a          │ 0.583879  │ 0.523791 │ 0.00828186 │ 0.0696233 │ 4000.0 │\n│ 2   │ bn         │ -0.211373 │ 1.03069  │ 0.0162967  │ 0.165021  │ 4000.0 │\n│ 3   │ sigma      │ 0.798344  │ 0.349877 │ 0.00553204 │ 0.0559305 │ 4000.0 │\n\nQuantiles\n\n│ Row │ parameters │ 2.5%      │ 25.0%     │ 50.0%    │ 75.0%    │ 97.5%   │\n│     │ \u001b[90mSymbol\u001b[39m     │ \u001b[90mFloat64\u001b[39m   │ \u001b[90mFloat64\u001b[39m   │ \u001b[90mFloat64\u001b[39m  │ \u001b[90mFloat64\u001b[39m  │ \u001b[90mFloat64\u001b[39m │\n├─────┼────────────┼───────────┼───────────┼──────────┼──────────┼─────────┤\n│ 1   │ a          │ -0.385824 │ 0.0845495 │ 0.644273 │ 1.24809  │ 1.24875 │\n│ 2   │ bn         │ -1.16584  │ -1.09598  │ -0.54973 │ 0.36622  │ 1.38697 │\n│ 3   │ sigma      │ 0.14869   │ 0.843843  │ 0.999991 │ 0.999996 │ 1.0     │\n"
     },
     "metadata": {},
     "execution_count": 6
    }
   ],
   "cell_type": "code",
   "source": [
    "stanmodel = Stanmodel(name=\"m5_5\",\n",
    "monitors = [\"a\", \"bn\", \"sigma\"],\n",
    " model=m5_5, output_format=:mcmcchains);\n",
    "# Input data for cmdstan\n",
    "m5_5_data = Dict(\"N\" => size(dcc, 1),\n",
    "  \"kcal_per_g\" => dcc[:kcal_per_g],\n",
    "  \"neocortex_perc\" => dcc[:neocortex_perc]);\n",
    "# Sample using cmdstan\n",
    "rc, chn, cnames = stan(stanmodel, m5_5_data, ProjDir, diagnostics=false,\n",
    "  CmdStanDir=CMDSTAN_HOME);\n",
    "# Describe the draws\n",
    "describe(chn)"
   ],
   "metadata": {},
   "execution_count": 6
  },
  {
   "outputs": [],
   "cell_type": "markdown",
   "source": [
    "Rethinking results"
   ],
   "metadata": {}
  },
  {
   "outputs": [
    {
     "output_type": "execute_result",
     "data": {
      "text/plain": "\"\\n        mean    sd   5.5%  94.5% n_eff  Rhat\\na     -0.814 0.000 -0.815 -0.814     7 1.124\\nbn    -0.499 0.006 -0.508 -0.490     2 2.803\\nsigma  1.000 0.000  1.000  1.000    42 0.999\\nsigma  1.53 0.16  1.28  1.80  1121    1\\n\""
     },
     "metadata": {},
     "execution_count": 7
    }
   ],
   "cell_type": "code",
   "source": [
    "rethinking_results = \"\n",
    "        mean    sd   5.5%  94.5% n_eff  Rhat\n",
    "a     -0.814 0.000 -0.815 -0.814     7 1.124\n",
    "bn    -0.499 0.006 -0.508 -0.490     2 2.803\n",
    "sigma  1.000 0.000  1.000  1.000    42 0.999\n",
    "sigma  1.53 0.16  1.28  1.80  1121    1\n",
    "\""
   ],
   "metadata": {},
   "execution_count": 7
  },
  {
   "outputs": [],
   "cell_type": "markdown",
   "source": [
    "End of `05/5.5s.jl`"
   ],
   "metadata": {}
  },
  {
   "outputs": [],
   "cell_type": "markdown",
   "source": [
    "*This notebook was generated using [Literate.jl](https://github.com/fredrikekre/Literate.jl).*"
   ],
   "metadata": {}
  }
 ],
 "nbformat_minor": 3,
 "metadata": {
  "language_info": {
   "file_extension": ".jl",
   "mimetype": "application/julia",
   "name": "julia",
   "version": "1.2.0-pre.0"
  },
  "kernelspec": {
   "name": "julia-1.2",
   "display_name": "Julia 1.2.0-pre.0",
   "language": "julia"
  }
 },
 "nbformat": 4
}
