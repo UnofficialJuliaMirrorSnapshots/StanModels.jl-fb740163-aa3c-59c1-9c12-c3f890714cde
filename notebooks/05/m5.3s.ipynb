{
 "cells": [
  {
   "outputs": [],
   "cell_type": "markdown",
   "source": [
    "Load Julia packages (libraries) needed  for the snippets in chapter 0"
   ],
   "metadata": {}
  },
  {
   "outputs": [],
   "cell_type": "code",
   "source": [
    "using StanModels"
   ],
   "metadata": {},
   "execution_count": 1
  },
  {
   "outputs": [],
   "cell_type": "markdown",
   "source": [
    "CmdStan uses a tmp directory to store the output of cmdstan"
   ],
   "metadata": {}
  },
  {
   "outputs": [],
   "cell_type": "code",
   "source": [
    "ProjDir = rel_path_s(\"..\", \"scripts\", \"05\")\n",
    "cd(ProjDir)"
   ],
   "metadata": {},
   "execution_count": 2
  },
  {
   "outputs": [],
   "cell_type": "markdown",
   "source": [
    "### snippet 5.1"
   ],
   "metadata": {}
  },
  {
   "outputs": [
    {
     "output_type": "execute_result",
     "data": {
      "text/plain": "\"\\n    Location Divorce  Marriage.s MedianAgeMarriage.s\\n1    Alabama    12.7  0.02264406          -0.6062895\\n2     Alaska    12.5  1.54980162          -0.6866993\\n3    Arizona    10.8  0.04897436          -0.2042408\\n4   Arkansas    13.5  1.65512283          -1.4103870\\n5 California     8.0 -0.26698927           0.5998567\\n\""
     },
     "metadata": {},
     "execution_count": 3
    }
   ],
   "cell_type": "code",
   "source": [
    "wd = CSV.read(rel_path(\"..\", \"data\", \"WaffleDivorce.csv\"), delim=';')\n",
    "df = convert(DataFrame, wd);\n",
    "\n",
    "mean_ma = mean(df[:Marriage])\n",
    "df[:Marriage_s] = convert(Vector{Float64},\n",
    "  (df[:Marriage]) .- mean_ma)/std(df[:Marriage]);\n",
    "\n",
    "mean_mam = mean(df[:MedianAgeMarriage])\n",
    "df[:MedianAgeMarriage_s] = convert(Vector{Float64},\n",
    "  (df[:MedianAgeMarriage]) .- mean_mam)/std(df[:MedianAgeMarriage]);\n",
    "\n",
    "df[1:6, [1, 7, 14, 15]]\n",
    "\n",
    "rethinking_data = \"\n",
    "    Location Divorce  Marriage.s MedianAgeMarriage.s\n",
    "1    Alabama    12.7  0.02264406          -0.6062895\n",
    "2     Alaska    12.5  1.54980162          -0.6866993\n",
    "3    Arizona    10.8  0.04897436          -0.2042408\n",
    "4   Arkansas    13.5  1.65512283          -1.4103870\n",
    "5 California     8.0 -0.26698927           0.5998567\n",
    "\""
   ],
   "metadata": {},
   "execution_count": 3
  },
  {
   "outputs": [],
   "cell_type": "markdown",
   "source": [
    "Define the Stan language model"
   ],
   "metadata": {}
  },
  {
   "outputs": [],
   "cell_type": "code",
   "source": [
    "m5_3 = \"\n",
    "data {\n",
    "  int N;\n",
    "  vector[N] divorce;\n",
    "  vector[N] marriage_z;\n",
    "  vector[N] median_age_z;\n",
    "}\n",
    "parameters {\n",
    "  real a;\n",
    "  real bA;\n",
    "  real bM;\n",
    "  real<lower=0> sigma;\n",
    "}\n",
    "model {\n",
    "  vector[N] mu = a + median_age_z * bA + marriage_z * bM;\n",
    "  sigma ~ uniform( 0 , 10 );\n",
    "  bA ~ normal( 0 , 1 );\n",
    "  bM ~ normal( 0 , 1 );\n",
    "  a ~ normal( 10 , 10 );\n",
    "  divorce ~ normal( mu , sigma );\n",
    "}\n",
    "\";"
   ],
   "metadata": {},
   "execution_count": 4
  },
  {
   "outputs": [],
   "cell_type": "markdown",
   "source": [
    "Define the Stanmodel and set the output format to :mcmcchains."
   ],
   "metadata": {}
  },
  {
   "outputs": [
    {
     "name": "stdout",
     "output_type": "stream",
     "text": [
      "\n",
      "File /Users/rob/.julia/dev/StanModels/scripts/05/tmp/m5_3.stan will be updated.\n",
      "\n",
      "\n",
      "Inference for Stan model: m5_3_model\n",
      "4 chains: each with iter=(1000,1000,1000,1000); warmup=(0,0,0,0); thin=(1,1,1,1); 4000 iterations saved.\n",
      "\n",
      "Warmup took (0.11, 0.11, 0.12, 0.11) seconds, 0.44 seconds total\n",
      "Sampling took (0.12, 0.12, 0.11, 0.12) seconds, 0.47 seconds total\n",
      "\n",
      "                 Mean     MCSE  StdDev     5%    50%    95%    N_Eff  N_Eff/s    R_hat\n",
      "lp__              -46  3.6e-02     1.5    -48    -45    -44  1.7e+03  3.5e+03  1.0e+00\n",
      "accept_stat__    0.93  1.4e-03   0.096   0.73   0.96    1.0  4.6e+03  9.8e+03  1.0e+00\n",
      "stepsize__       0.52  1.6e-02   0.023   0.48   0.54   0.54  2.0e+00  4.3e+00  2.7e+13\n",
      "treedepth__       2.7  8.5e-03    0.52    2.0    3.0    3.0  3.7e+03  7.9e+03  1.0e+00\n",
      "n_leapfrog__      7.2  5.7e-02     3.5    3.0    7.0     15  3.8e+03  8.1e+03  1.0e+00\n",
      "divergent__      0.00      nan    0.00   0.00   0.00   0.00      nan      nan      nan\n",
      "energy__           48  5.2e-02     2.1     45     47     51  1.6e+03  3.4e+03  1.0e+00\n",
      "a                 9.7  3.7e-03    0.22    9.3    9.7     10  3.4e+03  7.2e+03  1.0e+00\n",
      "bA               -1.1  5.7e-03    0.29   -1.6   -1.1  -0.63  2.7e+03  5.6e+03  1.0e+00\n",
      "bM              -0.13  5.7e-03    0.30  -0.64  -0.13   0.36  2.8e+03  5.9e+03  1.0e+00\n",
      "sigma             1.5  2.7e-03    0.16    1.3    1.5    1.8  3.8e+03  8.0e+03  1.0e+00\n",
      "\n",
      "Samples were drawn using hmc with nuts.\n",
      "For each parameter, N_Eff is a crude measure of effective sample size,\n",
      "and R_hat is the potential scale reduction factor on split chains (at \n",
      "convergence, R_hat=1).\n",
      "\n"
     ]
    },
    {
     "output_type": "execute_result",
     "data": {
      "text/plain": "2-element Array{ChainDataFrame,1}\n\nSummary Statistics\n\n│ Row │ parameters │ mean      │ std      │ naive_se   │ mcse       │ ess    │\n│     │ \u001b[90mSymbol\u001b[39m     │ \u001b[90mFloat64\u001b[39m   │ \u001b[90mFloat64\u001b[39m  │ \u001b[90mFloat64\u001b[39m    │ \u001b[90mFloat64\u001b[39m    │ \u001b[90mAny\u001b[39m    │\n├─────┼────────────┼───────────┼──────────┼────────────┼────────────┼────────┤\n│ 1   │ a          │ 9.6892    │ 0.217017 │ 0.00343134 │ 0.00362317 │ 4000.0 │\n│ 2   │ bA         │ -1.12627  │ 0.2939   │ 0.00464696 │ 0.00606438 │ 4000.0 │\n│ 3   │ bM         │ -0.131312 │ 0.298137 │ 0.00471396 │ 0.00531037 │ 4000.0 │\n│ 4   │ sigma      │ 1.52261   │ 0.164508 │ 0.0026011  │ 0.00244281 │ 4000.0 │\n\nQuantiles\n\n│ Row │ parameters │ 2.5%      │ 25.0%     │ 50.0%     │ 75.0%     │ 97.5%     │\n│     │ \u001b[90mSymbol\u001b[39m     │ \u001b[90mFloat64\u001b[39m   │ \u001b[90mFloat64\u001b[39m   │ \u001b[90mFloat64\u001b[39m   │ \u001b[90mFloat64\u001b[39m   │ \u001b[90mFloat64\u001b[39m   │\n├─────┼────────────┼───────────┼───────────┼───────────┼───────────┼───────────┤\n│ 1   │ a          │ 9.25661   │ 9.54552   │ 9.68843   │ 9.83693   │ 10.1071   │\n│ 2   │ bA         │ -1.70554  │ -1.3213   │ -1.12654  │ -0.936573 │ -0.534443 │\n│ 3   │ bM         │ -0.713088 │ -0.330829 │ -0.128947 │ 0.0747723 │ 0.452669  │\n│ 4   │ sigma      │ 1.2453    │ 1.40677   │ 1.50746   │ 1.62266   │ 1.89856   │\n"
     },
     "metadata": {},
     "execution_count": 5
    }
   ],
   "cell_type": "code",
   "source": [
    "stanmodel = Stanmodel(name=\"m5_3\",\n",
    "monitors = [\"a\", \"bA\", \"bM\", \"sigma\", \"Divorce\"],\n",
    " model=m5_3, output_format=:mcmcchains);\n",
    "# Input data for cmdstan\n",
    "m5_3_data = Dict(\"N\" => size(df, 1), \"divorce\" => df[:Divorce],\n",
    "    \"marriage_z\" => df[:Marriage_s], \"median_age_z\" => df[:MedianAgeMarriage_s]);\n",
    "# Sample using cmdstan\n",
    "rc, chn, cnames = stan(stanmodel, m5_3_data, ProjDir, diagnostics=false,\n",
    "  CmdStanDir=CMDSTAN_HOME);\n",
    "# Describe the draws\n",
    "describe(chn)"
   ],
   "metadata": {},
   "execution_count": 5
  },
  {
   "outputs": [],
   "cell_type": "markdown",
   "source": [
    "Rethinking results"
   ],
   "metadata": {}
  },
  {
   "outputs": [
    {
     "output_type": "execute_result",
     "data": {
      "text/plain": "\"\\n       mean   sd  5.5% 94.5% n_eff Rhat\\na      9.69 0.22  9.34 10.03  1313    1\\nbR    -0.12 0.30 -0.60  0.35   932    1\\nbA    -1.13 0.29 -1.56 -0.67   994    1\\nsigma  1.53 0.16  1.28  1.80  1121    1\\n\""
     },
     "metadata": {},
     "execution_count": 6
    }
   ],
   "cell_type": "code",
   "source": [
    "rethinking_results = \"\n",
    "       mean   sd  5.5% 94.5% n_eff Rhat\n",
    "a      9.69 0.22  9.34 10.03  1313    1\n",
    "bR    -0.12 0.30 -0.60  0.35   932    1\n",
    "bA    -1.13 0.29 -1.56 -0.67   994    1\n",
    "sigma  1.53 0.16  1.28  1.80  1121    1\n",
    "\""
   ],
   "metadata": {},
   "execution_count": 6
  },
  {
   "outputs": [],
   "cell_type": "markdown",
   "source": [
    "End of `05/5.3s.jl`"
   ],
   "metadata": {}
  },
  {
   "outputs": [],
   "cell_type": "markdown",
   "source": [
    "*This notebook was generated using [Literate.jl](https://github.com/fredrikekre/Literate.jl).*"
   ],
   "metadata": {}
  }
 ],
 "nbformat_minor": 3,
 "metadata": {
  "language_info": {
   "file_extension": ".jl",
   "mimetype": "application/julia",
   "name": "julia",
   "version": "1.2.0-pre.0"
  },
  "kernelspec": {
   "name": "julia-1.2",
   "display_name": "Julia 1.2.0-pre.0",
   "language": "julia"
  }
 },
 "nbformat": 4
}
