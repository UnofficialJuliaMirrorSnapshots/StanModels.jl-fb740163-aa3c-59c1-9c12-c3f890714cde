{
 "cells": [
  {
   "outputs": [],
   "cell_type": "markdown",
   "source": [
    "Load Julia packages (libraries) needed  for the snippets in chapter 0"
   ],
   "metadata": {}
  },
  {
   "outputs": [],
   "cell_type": "code",
   "source": [
    "using StanModels"
   ],
   "metadata": {},
   "execution_count": 1
  },
  {
   "outputs": [],
   "cell_type": "markdown",
   "source": [
    "CmdStan uses a tmp directory to store the output of cmdstan"
   ],
   "metadata": {}
  },
  {
   "outputs": [],
   "cell_type": "code",
   "source": [
    "ProjDir = rel_path_s(\"..\", \"scripts\", \"05\")\n",
    "cd(ProjDir)"
   ],
   "metadata": {},
   "execution_count": 2
  },
  {
   "outputs": [],
   "cell_type": "markdown",
   "source": [
    "Read the milk data"
   ],
   "metadata": {}
  },
  {
   "outputs": [
    {
     "output_type": "execute_result",
     "data": {
      "text/plain": "17-element Array{Float64,1}:\n  0.6678293725756554\n  1.6582280766035324\n  1.6808279085207734\n  0.9202827531436925\n -0.3856624808119846\n -2.120263536200091 \n -0.7550225842780328\n -1.1394342831883648\n  0.4382549309311553\n  1.1755733298042381\n  2.509599262378372 \n  1.6808279085207734\n  3.5689691574413787\n  4.374876130645041 \n  3.70721041079866  \n  3.4998353515591547\n  4.006423680849631 "
     },
     "metadata": {},
     "execution_count": 3
    }
   ],
   "cell_type": "code",
   "source": [
    "wd = CSV.read(rel_path(\"..\", \"data\", \"milk.csv\"), delim=';')\n",
    "df = convert(DataFrame, wd);\n",
    "dcc = filter(row -> !(row[:neocortex_perc] == \"NA\"), df)\n",
    "dcc[:kcal_per_g] = convert(Vector{Float64}, dcc[:kcal_per_g])\n",
    "dcc[:log_mass] = log.(dcc[:mass])"
   ],
   "metadata": {},
   "execution_count": 3
  },
  {
   "outputs": [],
   "cell_type": "markdown",
   "source": [
    "Show first 5 rows"
   ],
   "metadata": {}
  },
  {
   "outputs": [
    {
     "output_type": "execute_result",
     "data": {
      "text/plain": "5×3 DataFrame\n│ Row │ kcal_per_g │ mass     │ log_mass  │\n│     │ \u001b[90mFloat64\u001b[39m    │ \u001b[90mFloat64⍰\u001b[39m │ \u001b[90mFloat64\u001b[39m   │\n├─────┼────────────┼──────────┼───────────┤\n│ 1   │ 0.49       │ 1.95     │ 0.667829  │\n│ 2   │ 0.47       │ 5.25     │ 1.65823   │\n│ 3   │ 0.56       │ 5.37     │ 1.68083   │\n│ 4   │ 0.89       │ 2.51     │ 0.920283  │\n│ 5   │ 0.92       │ 0.68     │ -0.385662 │",
      "text/html": [
       "<table class=\"data-frame\"><thead><tr><th></th><th>kcal_per_g</th><th>mass</th><th>log_mass</th></tr><tr><th></th><th>Float64</th><th>Float64⍰</th><th>Float64</th></tr></thead><tbody><p>5 rows × 3 columns</p><tr><th>1</th><td>0.49</td><td>1.95</td><td>0.667829</td></tr><tr><th>2</th><td>0.47</td><td>5.25</td><td>1.65823</td></tr><tr><th>3</th><td>0.56</td><td>5.37</td><td>1.68083</td></tr><tr><th>4</th><td>0.89</td><td>2.51</td><td>0.920283</td></tr><tr><th>5</th><td>0.92</td><td>0.68</td><td>-0.385662</td></tr></tbody></table>"
      ]
     },
     "metadata": {},
     "execution_count": 4
    }
   ],
   "cell_type": "code",
   "source": [
    "first(dcc[[3, 7, 9]], 5)"
   ],
   "metadata": {},
   "execution_count": 4
  },
  {
   "outputs": [],
   "cell_type": "markdown",
   "source": [
    "Define the Stan language model"
   ],
   "metadata": {}
  },
  {
   "outputs": [],
   "cell_type": "code",
   "source": [
    "m5_6 = \"\n",
    "data{\n",
    "    real kcal_per_g[17];\n",
    "    real log_mass[17];\n",
    "}\n",
    "parameters{\n",
    "    real a;\n",
    "    real bm;\n",
    "    real sigma;\n",
    "}\n",
    "model{\n",
    "    vector[17] mu;\n",
    "    sigma ~ uniform( 0 , 1 );\n",
    "    bm ~ normal( 0 , 1 );\n",
    "    a ~ normal( 0 , 100 );\n",
    "    for ( i in 1:17 ) {\n",
    "        mu[i] = a + bm * log_mass[i];\n",
    "    }\n",
    "    kcal_per_g ~ normal( mu , sigma );\n",
    "}\n",
    "\";"
   ],
   "metadata": {},
   "execution_count": 5
  },
  {
   "outputs": [],
   "cell_type": "markdown",
   "source": [
    "Define the Stanmodel and set the output format to :mcmcchains."
   ],
   "metadata": {}
  },
  {
   "outputs": [
    {
     "name": "stdout",
     "output_type": "stream",
     "text": [
      "\n",
      "File /Users/rob/.julia/dev/StanModels/scripts/05/tmp/m5_5.stan will be updated.\n",
      "\n",
      "Informational Message: The current Metropolis proposal is about to be rejected because of the following issue:\n",
      "Exception: normal_lpdf: Scale parameter is -0.600498, but must be > 0!  (in '/Users/rob/.julia/dev/StanModels/scripts/05/tmp/m5_5.stan' at line 18)\n",
      "\n",
      "If this warning occurs sporadically, such as for highly constrained variable types like covariance matrices, then the sampler is fine,\n",
      "but if this warning occurs often then your model may be either severely ill-conditioned or misspecified.\n",
      "\n",
      "Informational Message: The current Metropolis proposal is about to be rejected because of the following issue:\n",
      "Exception: normal_lpdf: Scale parameter is -0.90209, but must be > 0!  (in '/Users/rob/.julia/dev/StanModels/scripts/05/tmp/m5_5.stan' at line 18)\n",
      "\n",
      "If this warning occurs sporadically, such as for highly constrained variable types like covariance matrices, then the sampler is fine,\n",
      "but if this warning occurs often then your model may be either severely ill-conditioned or misspecified.\n",
      "\n",
      "Informational Message: The current Metropolis proposal is about to be rejected because of the following issue:\n",
      "Exception: normal_lpdf: Scale parameter is -0.0135482, but must be > 0!  (in '/Users/rob/.julia/dev/StanModels/scripts/05/tmp/m5_5.stan' at line 18)\n",
      "\n",
      "If this warning occurs sporadically, such as for highly constrained variable types like covariance matrices, then the sampler is fine,\n",
      "but if this warning occurs often then your model may be either severely ill-conditioned or misspecified.\n",
      "\n",
      "Informational Message: The current Metropolis proposal is about to be rejected because of the following issue:\n",
      "Exception: normal_lpdf: Scale parameter is -0.557067, but must be > 0!  (in '/Users/rob/.julia/dev/StanModels/scripts/05/tmp/m5_5.stan' at line 18)\n",
      "\n",
      "If this warning occurs sporadically, such as for highly constrained variable types like covariance matrices, then the sampler is fine,\n",
      "but if this warning occurs often then your model may be either severely ill-conditioned or misspecified.\n",
      "\n",
      "Informational Message: The current Metropolis proposal is about to be rejected because of the following issue:\n",
      "Exception: normal_lpdf: Scale parameter is -0.43002, but must be > 0!  (in '/Users/rob/.julia/dev/StanModels/scripts/05/tmp/m5_5.stan' at line 18)\n",
      "\n",
      "If this warning occurs sporadically, such as for highly constrained variable types like covariance matrices, then the sampler is fine,\n",
      "but if this warning occurs often then your model may be either severely ill-conditioned or misspecified.\n",
      "\n",
      "Informational Message: The current Metropolis proposal is about to be rejected because of the following issue:\n",
      "Exception: normal_lpdf: Scale parameter is -1.23372, but must be > 0!  (in '/Users/rob/.julia/dev/StanModels/scripts/05/tmp/m5_5.stan' at line 18)\n",
      "\n",
      "If this warning occurs sporadically, such as for highly constrained variable types like covariance matrices, then the sampler is fine,\n",
      "but if this warning occurs often then your model may be either severely ill-conditioned or misspecified.\n",
      "\n",
      "Informational Message: The current Metropolis proposal is about to be rejected because of the following issue:\n",
      "Exception: normal_lpdf: Scale parameter is -0.240059, but must be > 0!  (in '/Users/rob/.julia/dev/StanModels/scripts/05/tmp/m5_5.stan' at line 18)\n",
      "\n",
      "If this warning occurs sporadically, such as for highly constrained variable types like covariance matrices, then the sampler is fine,\n",
      "but if this warning occurs often then your model may be either severely ill-conditioned or misspecified.\n",
      "\n",
      "Informational Message: The current Metropolis proposal is about to be rejected because of the following issue:\n",
      "Exception: normal_lpdf: Scale parameter is -0.612796, but must be > 0!  (in '/Users/rob/.julia/dev/StanModels/scripts/05/tmp/m5_5.stan' at line 18)\n",
      "\n",
      "If this warning occurs sporadically, such as for highly constrained variable types like covariance matrices, then the sampler is fine,\n",
      "but if this warning occurs often then your model may be either severely ill-conditioned or misspecified.\n",
      "\n",
      "Informational Message: The current Metropolis proposal is about to be rejected because of the following issue:\n",
      "Exception: normal_lpdf: Scale parameter is -0.288111, but must be > 0!  (in '/Users/rob/.julia/dev/StanModels/scripts/05/tmp/m5_5.stan' at line 18)\n",
      "\n",
      "If this warning occurs sporadically, such as for highly constrained variable types like covariance matrices, then the sampler is fine,\n",
      "but if this warning occurs often then your model may be either severely ill-conditioned or misspecified.\n",
      "\n",
      "Informational Message: The current Metropolis proposal is about to be rejected because of the following issue:\n",
      "Exception: normal_lpdf: Scale parameter is -0.136955, but must be > 0!  (in '/Users/rob/.julia/dev/StanModels/scripts/05/tmp/m5_5.stan' at line 18)\n",
      "\n",
      "If this warning occurs sporadically, such as for highly constrained variable types like covariance matrices, then the sampler is fine,\n",
      "but if this warning occurs often then your model may be either severely ill-conditioned or misspecified.\n",
      "\n",
      "Informational Message: The current Metropolis proposal is about to be rejected because of the following issue:\n",
      "Exception: normal_lpdf: Scale parameter is -0.847688, but must be > 0!  (in '/Users/rob/.julia/dev/StanModels/scripts/05/tmp/m5_5.stan' at line 18)\n",
      "\n",
      "If this warning occurs sporadically, such as for highly constrained variable types like covariance matrices, then the sampler is fine,\n",
      "but if this warning occurs often then your model may be either severely ill-conditioned or misspecified.\n",
      "\n",
      "Informational Message: The current Metropolis proposal is about to be rejected because of the following issue:\n",
      "Exception: normal_lpdf: Scale parameter is -0.00760868, but must be > 0!  (in '/Users/rob/.julia/dev/StanModels/scripts/05/tmp/m5_5.stan' at line 18)\n",
      "\n",
      "If this warning occurs sporadically, such as for highly constrained variable types like covariance matrices, then the sampler is fine,\n",
      "but if this warning occurs often then your model may be either severely ill-conditioned or misspecified.\n",
      "\n",
      "Informational Message: The current Metropolis proposal is about to be rejected because of the following issue:\n",
      "Exception: normal_lpdf: Scale parameter is -0.108034, but must be > 0!  (in '/Users/rob/.julia/dev/StanModels/scripts/05/tmp/m5_5.stan' at line 18)\n",
      "\n",
      "If this warning occurs sporadically, such as for highly constrained variable types like covariance matrices, then the sampler is fine,\n",
      "but if this warning occurs often then your model may be either severely ill-conditioned or misspecified.\n",
      "\n",
      "Informational Message: The current Metropolis proposal is about to be rejected because of the following issue:\n",
      "Exception: normal_lpdf: Scale parameter is -0.303608, but must be > 0!  (in '/Users/rob/.julia/dev/StanModels/scripts/05/tmp/m5_5.stan' at line 18)\n",
      "\n",
      "If this warning occurs sporadically, such as for highly constrained variable types like covariance matrices, then the sampler is fine,\n",
      "but if this warning occurs often then your model may be either severely ill-conditioned or misspecified.\n",
      "\n",
      "Informational Message: The current Metropolis proposal is about to be rejected because of the following issue:\n",
      "Exception: normal_lpdf: Scale parameter is -1.36599, but must be > 0!  (in '/Users/rob/.julia/dev/StanModels/scripts/05/tmp/m5_5.stan' at line 18)\n",
      "\n",
      "If this warning occurs sporadically, such as for highly constrained variable types like covariance matrices, then the sampler is fine,\n",
      "but if this warning occurs often then your model may be either severely ill-conditioned or misspecified.\n",
      "\n",
      "\n",
      "Inference for Stan model: m5_5_model\n",
      "4 chains: each with iter=(1000,1000,1000,1000); warmup=(0,0,0,0); thin=(1,1,1,1); 4000 iterations saved.\n",
      "\n",
      "Warmup took (0.069, 0.049, 0.047, 0.062) seconds, 0.23 seconds total\n",
      "Sampling took (0.056, 0.061, 0.057, 0.055) seconds, 0.23 seconds total\n",
      "\n",
      "                    Mean     MCSE  StdDev        5%       50%    95%    N_Eff  N_Eff/s    R_hat\n",
      "lp__             2.1e+01  5.7e-02     1.6   1.8e+01   2.2e+01     23  8.1e+02  3.5e+03  1.0e+00\n",
      "accept_stat__    9.0e-01  1.6e-02    0.16   5.8e-01   9.5e-01    1.0  9.6e+01  4.2e+02  1.0e+00\n",
      "stepsize__       5.6e-01  3.6e-02   0.051   5.2e-01   5.4e-01   0.64  2.0e+00  8.7e+00  5.9e+13\n",
      "treedepth__      2.4e+00  3.6e-02    0.58   2.0e+00   2.0e+00    3.0  2.6e+02  1.1e+03  1.0e+00\n",
      "n_leapfrog__     6.1e+00  9.1e-02     3.1   3.0e+00   7.0e+00     15  1.2e+03  5.1e+03  1.0e+00\n",
      "divergent__      0.0e+00      nan    0.00   0.0e+00   0.0e+00   0.00      nan      nan      nan\n",
      "energy__        -2.0e+01  6.9e-02     2.1  -2.2e+01  -2.0e+01    -16  9.0e+02  3.9e+03  1.0e+00\n",
      "a                7.0e-01  1.4e-03   0.061   6.0e-01   7.1e-01   0.80  2.0e+03  8.7e+03  1.0e+00\n",
      "bm              -3.1e-02  5.6e-04   0.025  -7.2e-02  -3.1e-02  0.010  2.0e+03  8.8e+03  1.0e+00\n",
      "sigma            1.9e-01  1.3e-03   0.042   1.3e-01   1.8e-01   0.26  1.1e+03  4.7e+03  1.0e+00\n",
      "\n",
      "Samples were drawn using hmc with nuts.\n",
      "For each parameter, N_Eff is a crude measure of effective sample size,\n",
      "and R_hat is the potential scale reduction factor on split chains (at \n",
      "convergence, R_hat=1).\n",
      "\n"
     ]
    }
   ],
   "cell_type": "code",
   "source": [
    "stanmodel = Stanmodel(name=\"m5_5\",\n",
    "monitors = [\"a\", \"bm\", \"sigma\"],\n",
    " model=m5_6, output_format=:mcmcchains);\n",
    "# Input data for cmdstan\n",
    "m5_6_data = Dict(\"N\" => size(dcc, 1),\n",
    "  \"kcal_per_g\" => dcc[:kcal_per_g],\n",
    "  \"log_mass\" => dcc[:log_mass]);\n",
    "# Sample using cmdstan\n",
    "rc, chn, cnames = stan(stanmodel, m5_6_data, ProjDir, diagnostics=false,\n",
    "  CmdStanDir=CMDSTAN_HOME);\n",
    "# Rethinking results\n",
    "rethinking_results = \"\n",
    "        mean    sd   5.5%  94.5% n_eff  Rhat\n",
    "        mean   sd  5.5% 94.5% n_eff Rhat\n",
    " a      0.70 0.06  0.61  0.79   926 1.00\n",
    " bm    -0.03 0.02 -0.07  0.01   986 1.00\n",
    " sigma  0.18 0.04  0.13  0.25   628 1.01\n",
    "\";"
   ],
   "metadata": {},
   "execution_count": 6
  },
  {
   "outputs": [],
   "cell_type": "markdown",
   "source": [
    "Describe the draws"
   ],
   "metadata": {}
  },
  {
   "outputs": [
    {
     "output_type": "execute_result",
     "data": {
      "text/plain": "2-element Array{ChainDataFrame,1}\n\nSummary Statistics\n. Omitted printing of 1 columns\n│ Row │ parameters │ mean       │ std       │ naive_se    │ mcse        │\n│     │ \u001b[90mSymbol\u001b[39m     │ \u001b[90mFloat64\u001b[39m    │ \u001b[90mFloat64\u001b[39m   │ \u001b[90mFloat64\u001b[39m     │ \u001b[90mFloat64\u001b[39m     │\n├─────┼────────────┼────────────┼───────────┼─────────────┼─────────────┤\n│ 1   │ a          │ 0.704218   │ 0.0606322 │ 0.00095868  │ 0.00124223  │\n│ 2   │ bm         │ -0.0310371 │ 0.0253584 │ 0.000400952 │ 0.000590953 │\n│ 3   │ sigma      │ 0.186036   │ 0.041675  │ 0.00065894  │ 0.001306    │\n\nQuantiles\n. Omitted printing of 1 columns\n│ Row │ parameters │ 2.5%       │ 25.0%      │ 50.0%      │ 75.0%      │\n│     │ \u001b[90mSymbol\u001b[39m     │ \u001b[90mFloat64\u001b[39m    │ \u001b[90mFloat64\u001b[39m    │ \u001b[90mFloat64\u001b[39m    │ \u001b[90mFloat64\u001b[39m    │\n├─────┼────────────┼────────────┼────────────┼────────────┼────────────┤\n│ 1   │ a          │ 0.582426   │ 0.664894   │ 0.705156   │ 0.742017   │\n│ 2   │ bm         │ -0.0799537 │ -0.0472807 │ -0.0313722 │ -0.0151408 │\n│ 3   │ sigma      │ 0.127372   │ 0.157706   │ 0.178694   │ 0.206492   │\n"
     },
     "metadata": {},
     "execution_count": 7
    }
   ],
   "cell_type": "code",
   "source": [
    "describe(chn)"
   ],
   "metadata": {},
   "execution_count": 7
  },
  {
   "outputs": [],
   "cell_type": "markdown",
   "source": [
    "End of `05/5.5s.jl`"
   ],
   "metadata": {}
  },
  {
   "outputs": [],
   "cell_type": "markdown",
   "source": [
    "*This notebook was generated using [Literate.jl](https://github.com/fredrikekre/Literate.jl).*"
   ],
   "metadata": {}
  }
 ],
 "nbformat_minor": 3,
 "metadata": {
  "language_info": {
   "file_extension": ".jl",
   "mimetype": "application/julia",
   "name": "julia",
   "version": "1.2.0-pre.0"
  },
  "kernelspec": {
   "name": "julia-1.2",
   "display_name": "Julia 1.2.0-pre.0",
   "language": "julia"
  }
 },
 "nbformat": 4
}
