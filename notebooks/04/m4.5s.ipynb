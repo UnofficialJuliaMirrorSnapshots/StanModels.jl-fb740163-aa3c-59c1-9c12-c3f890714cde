{
 "cells": [
  {
   "outputs": [],
   "cell_type": "markdown",
   "source": [
    "Load Julia packages (libraries) needed  for the snippets in chapter 0"
   ],
   "metadata": {}
  },
  {
   "outputs": [],
   "cell_type": "code",
   "source": [
    "using StanModels"
   ],
   "metadata": {},
   "execution_count": 1
  },
  {
   "outputs": [],
   "cell_type": "markdown",
   "source": [
    "CmdStan uses a tmp directory to store the output of cmdstan"
   ],
   "metadata": {}
  },
  {
   "outputs": [],
   "cell_type": "code",
   "source": [
    "ProjDir = rel_path_s(\"..\", \"scripts\", \"04\")\n",
    "cd(ProjDir)"
   ],
   "metadata": {},
   "execution_count": 2
  },
  {
   "outputs": [],
   "cell_type": "markdown",
   "source": [
    "### snippet 4.7"
   ],
   "metadata": {}
  },
  {
   "outputs": [],
   "cell_type": "code",
   "source": [
    "howell1 = CSV.read(rel_path(\"..\", \"data\", \"Howell1.csv\"), delim=';')\n",
    "df = convert(DataFrame, howell1);"
   ],
   "metadata": {},
   "execution_count": 3
  },
  {
   "outputs": [],
   "cell_type": "markdown",
   "source": [
    "Use only adults"
   ],
   "metadata": {}
  },
  {
   "outputs": [],
   "cell_type": "code",
   "source": [
    "df2 = filter(row -> row[:age] >= 18, df)\n",
    "df2[:height] = convert(Vector{Float64}, df2[:height]);\n",
    "df2[:weight] = convert(Vector{Float64}, df2[:weight]);\n",
    "df2[:weight_s] = (df2[:weight] .- mean(df2[:weight])) / std(df2[:weight]);\n",
    "df2[:weight_s2] = df2[:weight_s] .^ 2;"
   ],
   "metadata": {},
   "execution_count": 4
  },
  {
   "outputs": [],
   "cell_type": "markdown",
   "source": [
    "Define the Stan language model"
   ],
   "metadata": {}
  },
  {
   "outputs": [],
   "cell_type": "code",
   "source": [
    "weightsmodel = \"\n",
    "data{\n",
    "    int N;\n",
    "    real height[N];\n",
    "    real weight_s2[N];\n",
    "    real weight_s[N];\n",
    "}\n",
    "parameters{\n",
    "    real a;\n",
    "    real b1;\n",
    "    real b2;\n",
    "    real sigma;\n",
    "}\n",
    "model{\n",
    "    vector[N] mu;\n",
    "    sigma ~ uniform( 0 , 50 );\n",
    "    b2 ~ normal( 0 , 10 );\n",
    "    b1 ~ normal( 0 , 10 );\n",
    "    a ~ normal( 178 , 100 );\n",
    "    for ( i in 1:N ) {\n",
    "        mu[i] = a + b1 * weight_s[i] + b2 * weight_s2[i];\n",
    "    }\n",
    "    height ~ normal( mu , sigma );\n",
    "}\n",
    "\";"
   ],
   "metadata": {},
   "execution_count": 5
  },
  {
   "outputs": [],
   "cell_type": "markdown",
   "source": [
    "Define the Stanmodel and set the output format to :mcmcchains."
   ],
   "metadata": {}
  },
  {
   "outputs": [
    {
     "name": "stdout",
     "output_type": "stream",
     "text": [
      "\n",
      "File /Users/rob/.julia/dev/StanModels/scripts/04/tmp/weights.stan will be updated.\n",
      "\n"
     ]
    }
   ],
   "cell_type": "code",
   "source": [
    "stanmodel = Stanmodel(name=\"weights\", monitors = [\"a\", \"b1\", \"b2\", \"sigma\"],\n",
    "model=weightsmodel,  output_format=:mcmcchains);"
   ],
   "metadata": {},
   "execution_count": 6
  },
  {
   "outputs": [],
   "cell_type": "markdown",
   "source": [
    "Input data for cmdstan"
   ],
   "metadata": {}
  },
  {
   "outputs": [],
   "cell_type": "code",
   "source": [
    "heightsdata = Dict(\"N\" => size(df2, 1), \"height\" => df2[:height],\n",
    "\"weight_s\" => df2[:weight_s], \"weight_s2\" => df2[:weight_s2]);"
   ],
   "metadata": {},
   "execution_count": 7
  },
  {
   "outputs": [],
   "cell_type": "markdown",
   "source": [
    "Sample using cmdstan"
   ],
   "metadata": {}
  },
  {
   "outputs": [
    {
     "name": "stdout",
     "output_type": "stream",
     "text": [
      "Informational Message: The current Metropolis proposal is about to be rejected because of the following issue:\n",
      "Exception: normal_lpdf: Scale parameter is -7226.94, but must be > 0!  (in '/Users/rob/.julia/dev/StanModels/scripts/04/tmp/weights.stan' at line 22)\n",
      "\n",
      "If this warning occurs sporadically, such as for highly constrained variable types like covariance matrices, then the sampler is fine,\n",
      "but if this warning occurs often then your model may be either severely ill-conditioned or misspecified.\n",
      "\n",
      "Informational Message: The current Metropolis proposal is about to be rejected because of the following issue:\n",
      "Exception: normal_lpdf: Scale parameter is -7135.31, but must be > 0!  (in '/Users/rob/.julia/dev/StanModels/scripts/04/tmp/weights.stan' at line 22)\n",
      "\n",
      "If this warning occurs sporadically, such as for highly constrained variable types like covariance matrices, then the sampler is fine,\n",
      "but if this warning occurs often then your model may be either severely ill-conditioned or misspecified.\n",
      "\n",
      "Informational Message: The current Metropolis proposal is about to be rejected because of the following issue:\n",
      "Exception: normal_lpdf: Scale parameter is -1774.67, but must be > 0!  (in '/Users/rob/.julia/dev/StanModels/scripts/04/tmp/weights.stan' at line 22)\n",
      "\n",
      "If this warning occurs sporadically, such as for highly constrained variable types like covariance matrices, then the sampler is fine,\n",
      "but if this warning occurs often then your model may be either severely ill-conditioned or misspecified.\n",
      "\n",
      "Informational Message: The current Metropolis proposal is about to be rejected because of the following issue:\n",
      "Exception: normal_lpdf: Scale parameter is -416.299, but must be > 0!  (in '/Users/rob/.julia/dev/StanModels/scripts/04/tmp/weights.stan' at line 22)\n",
      "\n",
      "If this warning occurs sporadically, such as for highly constrained variable types like covariance matrices, then the sampler is fine,\n",
      "but if this warning occurs often then your model may be either severely ill-conditioned or misspecified.\n",
      "\n",
      "Informational Message: The current Metropolis proposal is about to be rejected because of the following issue:\n",
      "Exception: normal_lpdf: Scale parameter is -82.892, but must be > 0!  (in '/Users/rob/.julia/dev/StanModels/scripts/04/tmp/weights.stan' at line 22)\n",
      "\n",
      "If this warning occurs sporadically, such as for highly constrained variable types like covariance matrices, then the sampler is fine,\n",
      "but if this warning occurs often then your model may be either severely ill-conditioned or misspecified.\n",
      "\n",
      "Informational Message: The current Metropolis proposal is about to be rejected because of the following issue:\n",
      "Exception: normal_lpdf: Scale parameter is -6.82583, but must be > 0!  (in '/Users/rob/.julia/dev/StanModels/scripts/04/tmp/weights.stan' at line 22)\n",
      "\n",
      "If this warning occurs sporadically, such as for highly constrained variable types like covariance matrices, then the sampler is fine,\n",
      "but if this warning occurs often then your model may be either severely ill-conditioned or misspecified.\n",
      "\n",
      "Informational Message: The current Metropolis proposal is about to be rejected because of the following issue:\n",
      "Exception: normal_lpdf: Scale parameter is -782.27, but must be > 0!  (in '/Users/rob/.julia/dev/StanModels/scripts/04/tmp/weights.stan' at line 22)\n",
      "\n",
      "If this warning occurs sporadically, such as for highly constrained variable types like covariance matrices, then the sampler is fine,\n",
      "but if this warning occurs often then your model may be either severely ill-conditioned or misspecified.\n",
      "\n",
      "Informational Message: The current Metropolis proposal is about to be rejected because of the following issue:\n",
      "Exception: normal_lpdf: Scale parameter is -791.691, but must be > 0!  (in '/Users/rob/.julia/dev/StanModels/scripts/04/tmp/weights.stan' at line 22)\n",
      "\n",
      "If this warning occurs sporadically, such as for highly constrained variable types like covariance matrices, then the sampler is fine,\n",
      "but if this warning occurs often then your model may be either severely ill-conditioned or misspecified.\n",
      "\n",
      "Informational Message: The current Metropolis proposal is about to be rejected because of the following issue:\n",
      "Exception: normal_lpdf: Scale parameter is -194.218, but must be > 0!  (in '/Users/rob/.julia/dev/StanModels/scripts/04/tmp/weights.stan' at line 22)\n",
      "\n",
      "If this warning occurs sporadically, such as for highly constrained variable types like covariance matrices, then the sampler is fine,\n",
      "but if this warning occurs often then your model may be either severely ill-conditioned or misspecified.\n",
      "\n",
      "Informational Message: The current Metropolis proposal is about to be rejected because of the following issue:\n",
      "Exception: normal_lpdf: Scale parameter is -44.0474, but must be > 0!  (in '/Users/rob/.julia/dev/StanModels/scripts/04/tmp/weights.stan' at line 22)\n",
      "\n",
      "If this warning occurs sporadically, such as for highly constrained variable types like covariance matrices, then the sampler is fine,\n",
      "but if this warning occurs often then your model may be either severely ill-conditioned or misspecified.\n",
      "\n",
      "Informational Message: The current Metropolis proposal is about to be rejected because of the following issue:\n",
      "Exception: normal_lpdf: Scale parameter is -6.5964, but must be > 0!  (in '/Users/rob/.julia/dev/StanModels/scripts/04/tmp/weights.stan' at line 22)\n",
      "\n",
      "If this warning occurs sporadically, such as for highly constrained variable types like covariance matrices, then the sampler is fine,\n",
      "but if this warning occurs often then your model may be either severely ill-conditioned or misspecified.\n",
      "\n",
      "Informational Message: The current Metropolis proposal is about to be rejected because of the following issue:\n",
      "Exception: normal_lpdf: Scale parameter is -75.8273, but must be > 0!  (in '/Users/rob/.julia/dev/StanModels/scripts/04/tmp/weights.stan' at line 22)\n",
      "\n",
      "If this warning occurs sporadically, such as for highly constrained variable types like covariance matrices, then the sampler is fine,\n",
      "but if this warning occurs often then your model may be either severely ill-conditioned or misspecified.\n",
      "\n",
      "Informational Message: The current Metropolis proposal is about to be rejected because of the following issue:\n",
      "Exception: normal_lpdf: Scale parameter is -77.6066, but must be > 0!  (in '/Users/rob/.julia/dev/StanModels/scripts/04/tmp/weights.stan' at line 22)\n",
      "\n",
      "If this warning occurs sporadically, such as for highly constrained variable types like covariance matrices, then the sampler is fine,\n",
      "but if this warning occurs often then your model may be either severely ill-conditioned or misspecified.\n",
      "\n",
      "Informational Message: The current Metropolis proposal is about to be rejected because of the following issue:\n",
      "Exception: normal_lpdf: Scale parameter is -18.4479, but must be > 0!  (in '/Users/rob/.julia/dev/StanModels/scripts/04/tmp/weights.stan' at line 22)\n",
      "\n",
      "If this warning occurs sporadically, such as for highly constrained variable types like covariance matrices, then the sampler is fine,\n",
      "but if this warning occurs often then your model may be either severely ill-conditioned or misspecified.\n",
      "\n",
      "Informational Message: The current Metropolis proposal is about to be rejected because of the following issue:\n",
      "Exception: normal_lpdf: Scale parameter is -0.387666, but must be > 0!  (in '/Users/rob/.julia/dev/StanModels/scripts/04/tmp/weights.stan' at line 22)\n",
      "\n",
      "If this warning occurs sporadically, such as for highly constrained variable types like covariance matrices, then the sampler is fine,\n",
      "but if this warning occurs often then your model may be either severely ill-conditioned or misspecified.\n",
      "\n",
      "Informational Message: The current Metropolis proposal is about to be rejected because of the following issue:\n",
      "Exception: normal_lpdf: Scale parameter is -1.55597, but must be > 0!  (in '/Users/rob/.julia/dev/StanModels/scripts/04/tmp/weights.stan' at line 22)\n",
      "\n",
      "If this warning occurs sporadically, such as for highly constrained variable types like covariance matrices, then the sampler is fine,\n",
      "but if this warning occurs often then your model may be either severely ill-conditioned or misspecified.\n",
      "\n",
      "Informational Message: The current Metropolis proposal is about to be rejected because of the following issue:\n",
      "Exception: normal_lpdf: Scale parameter is -9.1376, but must be > 0!  (in '/Users/rob/.julia/dev/StanModels/scripts/04/tmp/weights.stan' at line 22)\n",
      "\n",
      "If this warning occurs sporadically, such as for highly constrained variable types like covariance matrices, then the sampler is fine,\n",
      "but if this warning occurs often then your model may be either severely ill-conditioned or misspecified.\n",
      "\n",
      "\n",
      "Inference for Stan model: weights_model\n",
      "4 chains: each with iter=(1000,1000,1000,1000); warmup=(0,0,0,0); thin=(1,1,1,1); 4000 iterations saved.\n",
      "\n",
      "Warmup took (0.99, 0.71, 0.84, 0.89) seconds, 3.4 seconds total\n",
      "Sampling took (0.26, 0.34, 0.34, 0.29) seconds, 1.2 seconds total\n",
      "\n",
      "                    Mean     MCSE  StdDev     5%       50%   95%    N_Eff  N_Eff/s    R_hat\n",
      "lp__            -7.5e+02  3.6e-02     1.4   -753  -7.5e+02  -748  1.6e+03  1.3e+03  1.0e+00\n",
      "accept_stat__    9.3e-01  1.3e-03   0.090   0.74   9.6e-01   1.0  5.1e+03  4.1e+03  1.0e+00\n",
      "stepsize__       5.6e-01  1.4e-02   0.019   0.54   5.8e-01  0.59  2.0e+00  1.6e+00  2.7e+13\n",
      "treedepth__      2.6e+00  9.1e-03    0.51    2.0   3.0e+00   3.0  3.2e+03  2.6e+03  1.0e+00\n",
      "n_leapfrog__     6.7e+00  5.1e-02     2.8    3.0   7.0e+00    15  3.0e+03  2.5e+03  1.0e+00\n",
      "divergent__      0.0e+00      nan    0.00   0.00   0.0e+00  0.00      nan      nan      nan\n",
      "energy__         7.5e+02  5.2e-02     2.0    749   7.5e+02   755  1.5e+03  1.2e+03  1.0e+00\n",
      "a                1.5e+02  6.4e-03    0.35    154   1.5e+02   155  3.1e+03  2.5e+03  1.0e+00\n",
      "b1               5.8e+00  4.3e-03    0.27    5.4   5.8e+00   6.3  3.9e+03  3.2e+03  1.0e+00\n",
      "b2              -1.9e-02  4.0e-03    0.22  -0.39  -1.4e-02  0.36  3.1e+03  2.5e+03  1.0e+00\n",
      "sigma            5.1e+00  3.1e-03    0.19    4.8   5.1e+00   5.4  3.8e+03  3.1e+03  1.0e+00\n",
      "\n",
      "Samples were drawn using hmc with nuts.\n",
      "For each parameter, N_Eff is a crude measure of effective sample size,\n",
      "and R_hat is the potential scale reduction factor on split chains (at \n",
      "convergence, R_hat=1).\n",
      "\n"
     ]
    }
   ],
   "cell_type": "code",
   "source": [
    "rc, chn, cnames = stan(stanmodel, heightsdata, ProjDir, diagnostics=false,\n",
    "CmdStanDir=CMDSTAN_HOME);"
   ],
   "metadata": {},
   "execution_count": 8
  },
  {
   "outputs": [],
   "cell_type": "markdown",
   "source": [
    "Describe the draws"
   ],
   "metadata": {}
  },
  {
   "outputs": [
    {
     "name": "stdout",
     "output_type": "stream",
     "text": [
      "Iterations        = 1:1000\n",
      "Thinning interval = 1\n",
      "Chains            = 1, 2, 3, 4\n",
      "Samples per chain = 1000\n",
      "parameters        = a, b1, b2, sigma\n",
      "\n",
      "Empirical Posterior Estimates\n",
      "──────────────────────────────────────────────────\n",
      "parameters\n",
      "        Mean     SD   Naive SE  MCSE   ESS\n",
      "    a 154.6164 0.3516   0.0056 0.0061 1000\n",
      "   b1   5.8421 0.2712   0.0043 0.0041 1000\n",
      "   b2  -0.0190 0.2242   0.0035 0.0040 1000\n",
      "sigma   5.1091 0.1898   0.0030 0.0029 1000\n",
      "\n",
      "Quantiles\n",
      "──────────────────────────────────────────────────\n",
      "parameters\n",
      "        2.5%     25.0%    50.0%    75.0%    97.5% \n",
      "    a 153.3760 154.3918 154.6140 154.8460 156.0570\n",
      "   b1   4.9768   5.6595   5.8450   6.0202   6.8702\n",
      "   b2  -0.7477  -0.1739  -0.0142   0.1312   0.7509\n",
      "sigma   4.5069   4.9793   5.1033   5.2302   5.8422\n",
      "\n"
     ]
    }
   ],
   "cell_type": "code",
   "source": [
    "describe(chn)"
   ],
   "metadata": {},
   "execution_count": 9
  },
  {
   "outputs": [],
   "cell_type": "markdown",
   "source": [
    "End of `m4.5s.jl`"
   ],
   "metadata": {}
  },
  {
   "outputs": [],
   "cell_type": "markdown",
   "source": [
    "*This notebook was generated using [Literate.jl](https://github.com/fredrikekre/Literate.jl).*"
   ],
   "metadata": {}
  }
 ],
 "nbformat_minor": 3,
 "metadata": {
  "language_info": {
   "file_extension": ".jl",
   "mimetype": "application/julia",
   "name": "julia",
   "version": "1.2.0-DEV.564"
  },
  "kernelspec": {
   "name": "julia-1.2",
   "display_name": "Julia 1.2.0-DEV.564",
   "language": "julia"
  }
 },
 "nbformat": 4
}
