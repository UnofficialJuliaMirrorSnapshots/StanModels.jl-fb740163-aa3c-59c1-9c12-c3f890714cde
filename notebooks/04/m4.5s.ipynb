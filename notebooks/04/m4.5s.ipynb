{
 "cells": [
  {
   "outputs": [],
   "cell_type": "markdown",
   "source": [
    "Load Julia packages (libraries) needed  for the snippets in chapter 0"
   ],
   "metadata": {}
  },
  {
   "outputs": [],
   "cell_type": "code",
   "source": [
    "using StanModels"
   ],
   "metadata": {},
   "execution_count": 1
  },
  {
   "outputs": [],
   "cell_type": "markdown",
   "source": [
    "CmdStan uses a tmp directory to store the output of cmdstan"
   ],
   "metadata": {}
  },
  {
   "outputs": [],
   "cell_type": "code",
   "source": [
    "ProjDir = rel_path_s(\"..\", \"scripts\", \"04\")\n",
    "cd(ProjDir)"
   ],
   "metadata": {},
   "execution_count": 2
  },
  {
   "outputs": [],
   "cell_type": "markdown",
   "source": [
    "### snippet 4.7"
   ],
   "metadata": {}
  },
  {
   "outputs": [],
   "cell_type": "code",
   "source": [
    "howell1 = CSV.read(rel_path(\"..\", \"data\", \"Howell1.csv\"), delim=';')\n",
    "df = convert(DataFrame, howell1);"
   ],
   "metadata": {},
   "execution_count": 3
  },
  {
   "outputs": [],
   "cell_type": "markdown",
   "source": [
    "Use only adults"
   ],
   "metadata": {}
  },
  {
   "outputs": [],
   "cell_type": "code",
   "source": [
    "df2 = filter(row -> row[:age] >= 18, df)\n",
    "df2[:height] = convert(Vector{Float64}, df2[:height]);\n",
    "df2[:weight] = convert(Vector{Float64}, df2[:weight]);\n",
    "df2[:weight_s] = (df2[:weight] .- mean(df2[:weight])) / std(df2[:weight]);\n",
    "df2[:weight_s2] = df2[:weight_s] .^ 2;"
   ],
   "metadata": {},
   "execution_count": 4
  },
  {
   "outputs": [],
   "cell_type": "markdown",
   "source": [
    "Define the Stan language model"
   ],
   "metadata": {}
  },
  {
   "outputs": [],
   "cell_type": "code",
   "source": [
    "weightsmodel = \"\n",
    "data{\n",
    "    int N;\n",
    "    real height[N];\n",
    "    real weight_s2[N];\n",
    "    real weight_s[N];\n",
    "}\n",
    "parameters{\n",
    "    real a;\n",
    "    real b1;\n",
    "    real b2;\n",
    "    real sigma;\n",
    "}\n",
    "model{\n",
    "    vector[N] mu;\n",
    "    sigma ~ uniform( 0 , 50 );\n",
    "    b2 ~ normal( 0 , 10 );\n",
    "    b1 ~ normal( 0 , 10 );\n",
    "    a ~ normal( 178 , 100 );\n",
    "    for ( i in 1:N ) {\n",
    "        mu[i] = a + b1 * weight_s[i] + b2 * weight_s2[i];\n",
    "    }\n",
    "    height ~ normal( mu , sigma );\n",
    "}\n",
    "\";"
   ],
   "metadata": {},
   "execution_count": 5
  },
  {
   "outputs": [],
   "cell_type": "markdown",
   "source": [
    "Define the Stanmodel and set the output format to :mcmcchains."
   ],
   "metadata": {}
  },
  {
   "outputs": [
    {
     "name": "stdout",
     "output_type": "stream",
     "text": [
      "\n",
      "File /Users/rob/.julia/dev/StanModels/scripts/04/tmp/weights.stan will be updated.\n",
      "\n"
     ]
    }
   ],
   "cell_type": "code",
   "source": [
    "stanmodel = Stanmodel(name=\"weights\", monitors = [\"a\", \"b1\", \"b2\", \"sigma\"],\n",
    "model=weightsmodel,  output_format=:mcmcchains);"
   ],
   "metadata": {},
   "execution_count": 6
  },
  {
   "outputs": [],
   "cell_type": "markdown",
   "source": [
    "Input data for cmdstan"
   ],
   "metadata": {}
  },
  {
   "outputs": [],
   "cell_type": "code",
   "source": [
    "heightsdata = Dict(\"N\" => size(df2, 1), \"height\" => df2[:height],\n",
    "\"weight_s\" => df2[:weight_s], \"weight_s2\" => df2[:weight_s2]);"
   ],
   "metadata": {},
   "execution_count": 7
  },
  {
   "outputs": [],
   "cell_type": "markdown",
   "source": [
    "Sample using cmdstan"
   ],
   "metadata": {}
  },
  {
   "outputs": [
    {
     "name": "stdout",
     "output_type": "stream",
     "text": [
      "Informational Message: The current Metropolis proposal is about to be rejected because of the following issue:\n",
      "Exception: normal_lpdf: Scale parameter is -3629.51, but must be > 0!  (in '/Users/rob/.julia/dev/StanModels/scripts/04/tmp/weights.stan' at line 22)\n",
      "\n",
      "If this warning occurs sporadically, such as for highly constrained variable types like covariance matrices, then the sampler is fine,\n",
      "but if this warning occurs often then your model may be either severely ill-conditioned or misspecified.\n",
      "\n",
      "Informational Message: The current Metropolis proposal is about to be rejected because of the following issue:\n",
      "Exception: normal_lpdf: Scale parameter is -3602.34, but must be > 0!  (in '/Users/rob/.julia/dev/StanModels/scripts/04/tmp/weights.stan' at line 22)\n",
      "\n",
      "If this warning occurs sporadically, such as for highly constrained variable types like covariance matrices, then the sampler is fine,\n",
      "but if this warning occurs often then your model may be either severely ill-conditioned or misspecified.\n",
      "\n",
      "Informational Message: The current Metropolis proposal is about to be rejected because of the following issue:\n",
      "Exception: normal_lpdf: Scale parameter is -901.57, but must be > 0!  (in '/Users/rob/.julia/dev/StanModels/scripts/04/tmp/weights.stan' at line 22)\n",
      "\n",
      "If this warning occurs sporadically, such as for highly constrained variable types like covariance matrices, then the sampler is fine,\n",
      "but if this warning occurs often then your model may be either severely ill-conditioned or misspecified.\n",
      "\n",
      "Informational Message: The current Metropolis proposal is about to be rejected because of the following issue:\n",
      "Exception: normal_lpdf: Scale parameter is -201.502, but must be > 0!  (in '/Users/rob/.julia/dev/StanModels/scripts/04/tmp/weights.stan' at line 22)\n",
      "\n",
      "If this warning occurs sporadically, such as for highly constrained variable types like covariance matrices, then the sampler is fine,\n",
      "but if this warning occurs often then your model may be either severely ill-conditioned or misspecified.\n",
      "\n",
      "Informational Message: The current Metropolis proposal is about to be rejected because of the following issue:\n",
      "Exception: normal_lpdf: Scale parameter is -29.8431, but must be > 0!  (in '/Users/rob/.julia/dev/StanModels/scripts/04/tmp/weights.stan' at line 22)\n",
      "\n",
      "If this warning occurs sporadically, such as for highly constrained variable types like covariance matrices, then the sampler is fine,\n",
      "but if this warning occurs often then your model may be either severely ill-conditioned or misspecified.\n",
      "\n",
      "Informational Message: The current Metropolis proposal is about to be rejected because of the following issue:\n",
      "Exception: normal_lpdf: Scale parameter is -23.3166, but must be > 0!  (in '/Users/rob/.julia/dev/StanModels/scripts/04/tmp/weights.stan' at line 22)\n",
      "\n",
      "If this warning occurs sporadically, such as for highly constrained variable types like covariance matrices, then the sampler is fine,\n",
      "but if this warning occurs often then your model may be either severely ill-conditioned or misspecified.\n",
      "\n",
      "Informational Message: The current Metropolis proposal is about to be rejected because of the following issue:\n",
      "Exception: normal_lpdf: Scale parameter is -244.373, but must be > 0!  (in '/Users/rob/.julia/dev/StanModels/scripts/04/tmp/weights.stan' at line 22)\n",
      "\n",
      "If this warning occurs sporadically, such as for highly constrained variable types like covariance matrices, then the sampler is fine,\n",
      "but if this warning occurs often then your model may be either severely ill-conditioned or misspecified.\n",
      "\n",
      "Informational Message: The current Metropolis proposal is about to be rejected because of the following issue:\n",
      "Exception: normal_lpdf: Scale parameter is -234.807, but must be > 0!  (in '/Users/rob/.julia/dev/StanModels/scripts/04/tmp/weights.stan' at line 22)\n",
      "\n",
      "If this warning occurs sporadically, such as for highly constrained variable types like covariance matrices, then the sampler is fine,\n",
      "but if this warning occurs often then your model may be either severely ill-conditioned or misspecified.\n",
      "\n",
      "Informational Message: The current Metropolis proposal is about to be rejected because of the following issue:\n",
      "Exception: normal_lpdf: Scale parameter is -50.2055, but must be > 0!  (in '/Users/rob/.julia/dev/StanModels/scripts/04/tmp/weights.stan' at line 22)\n",
      "\n",
      "If this warning occurs sporadically, such as for highly constrained variable types like covariance matrices, then the sampler is fine,\n",
      "but if this warning occurs often then your model may be either severely ill-conditioned or misspecified.\n",
      "\n",
      "Informational Message: The current Metropolis proposal is about to be rejected because of the following issue:\n",
      "Exception: normal_lpdf: Scale parameter is -5.36546, but must be > 0!  (in '/Users/rob/.julia/dev/StanModels/scripts/04/tmp/weights.stan' at line 22)\n",
      "\n",
      "If this warning occurs sporadically, such as for highly constrained variable types like covariance matrices, then the sampler is fine,\n",
      "but if this warning occurs often then your model may be either severely ill-conditioned or misspecified.\n",
      "\n",
      "Informational Message: The current Metropolis proposal is about to be rejected because of the following issue:\n",
      "Exception: normal_lpdf: Scale parameter is -10.9241, but must be > 0!  (in '/Users/rob/.julia/dev/StanModels/scripts/04/tmp/weights.stan' at line 22)\n",
      "\n",
      "If this warning occurs sporadically, such as for highly constrained variable types like covariance matrices, then the sampler is fine,\n",
      "but if this warning occurs often then your model may be either severely ill-conditioned or misspecified.\n",
      "\n",
      "Informational Message: The current Metropolis proposal is about to be rejected because of the following issue:\n",
      "Exception: normal_lpdf: Scale parameter is -2.30648, but must be > 0!  (in '/Users/rob/.julia/dev/StanModels/scripts/04/tmp/weights.stan' at line 22)\n",
      "\n",
      "If this warning occurs sporadically, such as for highly constrained variable types like covariance matrices, then the sampler is fine,\n",
      "but if this warning occurs often then your model may be either severely ill-conditioned or misspecified.\n",
      "\n",
      "Informational Message: The current Metropolis proposal is about to be rejected because of the following issue:\n",
      "Exception: normal_lpdf: Scale parameter is -2.83322, but must be > 0!  (in '/Users/rob/.julia/dev/StanModels/scripts/04/tmp/weights.stan' at line 22)\n",
      "\n",
      "If this warning occurs sporadically, such as for highly constrained variable types like covariance matrices, then the sampler is fine,\n",
      "but if this warning occurs often then your model may be either severely ill-conditioned or misspecified.\n",
      "\n",
      "\n",
      "Inference for Stan model: weights_model\n",
      "4 chains: each with iter=(1000,1000,1000,1000); warmup=(0,0,0,0); thin=(1,1,1,1); 4000 iterations saved.\n",
      "\n",
      "Warmup took (0.68, 1.1, 0.93, 0.65) seconds, 3.3 seconds total\n",
      "Sampling took (0.69, 0.24, 0.27, 0.27) seconds, 1.5 seconds total\n",
      "\n",
      "                    Mean     MCSE  StdDev     5%       50%   95%    N_Eff  N_Eff/s    R_hat\n",
      "lp__            -7.5e+02  3.1e-02     1.4   -752  -7.5e+02  -748  1.9e+03  1.3e+03  1.0e+00\n",
      "accept_stat__    9.1e-01  1.4e-02    0.11   0.67   9.6e-01   1.0  6.3e+01  4.3e+01  1.0e+00\n",
      "stepsize__       4.7e-01  1.5e-01    0.21   0.11   5.8e-01  0.63  2.0e+00  1.4e+00  3.6e+14\n",
      "treedepth__      2.9e+00  4.4e-01    0.85    2.0   3.0e+00   4.0  3.7e+00  2.5e+00  1.5e+00\n",
      "n_leapfrog__     1.0e+01  4.6e+00     8.3    3.0   7.0e+00    31  3.3e+00  2.2e+00  1.6e+00\n",
      "divergent__      0.0e+00      nan    0.00   0.00   0.0e+00  0.00      nan      nan      nan\n",
      "energy__         7.5e+02  4.8e-02     2.0    749   7.5e+02   755  1.7e+03  1.2e+03  1.0e+00\n",
      "a                1.5e+02  7.2e-03    0.36    154   1.5e+02   155  2.4e+03  1.7e+03  1.0e+00\n",
      "b1               5.8e+00  5.0e-03    0.27    5.4   5.8e+00   6.3  2.9e+03  1.9e+03  1.0e+00\n",
      "b2              -1.2e-02  4.5e-03    0.22  -0.38  -1.1e-02  0.35  2.5e+03  1.7e+03  1.0e+00\n",
      "sigma            5.1e+00  2.9e-03    0.19    4.8   5.1e+00   5.4  4.4e+03  3.0e+03  1.0e+00\n",
      "\n",
      "Samples were drawn using hmc with nuts.\n",
      "For each parameter, N_Eff is a crude measure of effective sample size,\n",
      "and R_hat is the potential scale reduction factor on split chains (at \n",
      "convergence, R_hat=1).\n",
      "\n"
     ]
    }
   ],
   "cell_type": "code",
   "source": [
    "rc, chn, cnames = stan(stanmodel, heightsdata, ProjDir, diagnostics=false,\n",
    "CmdStanDir=CMDSTAN_HOME);"
   ],
   "metadata": {},
   "execution_count": 8
  },
  {
   "outputs": [],
   "cell_type": "markdown",
   "source": [
    "Describe the draws"
   ],
   "metadata": {}
  },
  {
   "outputs": [
    {
     "output_type": "execute_result",
     "data": {
      "text/plain": "2-element Array{ChainDataFrame,1}\n\nSummary Statistics\n\n│ Row │ parameters │ mean       │ std      │ naive_se   │ mcse       │ ess    │\n│     │ \u001b[90mSymbol\u001b[39m     │ \u001b[90mFloat64\u001b[39m    │ \u001b[90mFloat64\u001b[39m  │ \u001b[90mFloat64\u001b[39m    │ \u001b[90mFloat64\u001b[39m    │ \u001b[90mAny\u001b[39m    │\n├─────┼────────────┼────────────┼──────────┼────────────┼────────────┼────────┤\n│ 1   │ a          │ 154.608    │ 0.357846 │ 0.00565804 │ 0.00793399 │ 4000.0 │\n│ 2   │ b1         │ 5.84111    │ 0.265523 │ 0.00419829 │ 0.00514735 │ 4000.0 │\n│ 3   │ b2         │ -0.0122503 │ 0.224123 │ 0.0035437  │ 0.00487386 │ 4000.0 │\n│ 4   │ sigma      │ 5.11089    │ 0.193041 │ 0.00305225 │ 0.00257227 │ 4000.0 │\n\nQuantiles\n\n│ Row │ parameters │ 2.5%      │ 25.0%     │ 50.0%      │ 75.0%    │ 97.5%    │\n│     │ \u001b[90mSymbol\u001b[39m     │ \u001b[90mFloat64\u001b[39m   │ \u001b[90mFloat64\u001b[39m   │ \u001b[90mFloat64\u001b[39m    │ \u001b[90mFloat64\u001b[39m  │ \u001b[90mFloat64\u001b[39m  │\n├─────┼────────────┼───────────┼───────────┼────────────┼──────────┼──────────┤\n│ 1   │ a          │ 153.887   │ 154.37    │ 154.609    │ 154.847  │ 155.293  │\n│ 2   │ b1         │ 5.30749   │ 5.66469   │ 5.83699    │ 6.02239  │ 6.35786  │\n│ 3   │ b2         │ -0.454012 │ -0.164046 │ -0.0107142 │ 0.133855 │ 0.428269 │\n│ 4   │ sigma      │ 4.75647   │ 4.97777   │ 5.10341    │ 5.23808  │ 5.51069  │\n"
     },
     "metadata": {},
     "execution_count": 9
    }
   ],
   "cell_type": "code",
   "source": [
    "describe(chn)"
   ],
   "metadata": {},
   "execution_count": 9
  },
  {
   "outputs": [],
   "cell_type": "markdown",
   "source": [
    "End of `m4.5s.jl`"
   ],
   "metadata": {}
  },
  {
   "outputs": [],
   "cell_type": "markdown",
   "source": [
    "*This notebook was generated using [Literate.jl](https://github.com/fredrikekre/Literate.jl).*"
   ],
   "metadata": {}
  }
 ],
 "nbformat_minor": 3,
 "metadata": {
  "language_info": {
   "file_extension": ".jl",
   "mimetype": "application/julia",
   "name": "julia",
   "version": "1.2.0-pre.0"
  },
  "kernelspec": {
   "name": "julia-1.2",
   "display_name": "Julia 1.2.0-pre.0",
   "language": "julia"
  }
 },
 "nbformat": 4
}
