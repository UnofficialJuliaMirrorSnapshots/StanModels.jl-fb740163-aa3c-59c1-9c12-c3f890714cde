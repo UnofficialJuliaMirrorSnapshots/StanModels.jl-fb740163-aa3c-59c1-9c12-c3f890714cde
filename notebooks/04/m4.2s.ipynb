{
 "cells": [
  {
   "outputs": [
    {
     "name": "stdout",
     "output_type": "stream",
     "text": [
      "\n",
      "File /Users/rob/.julia/dev/StanModels/scripts/04/tmp/heights.stan will be updated.\n",
      "\n",
      "Informational Message: The current Metropolis proposal is about to be rejected because of the following issue:\n",
      "Exception: normal_lpdf: Scale parameter is 0, but must be > 0!  (in '/Users/rob/.julia/dev/StanModels/scripts/04/tmp/heights.stan' at line 15)\n",
      "\n",
      "If this warning occurs sporadically, such as for highly constrained variable types like covariance matrices, then the sampler is fine,\n",
      "but if this warning occurs often then your model may be either severely ill-conditioned or misspecified.\n",
      "\n",
      "\n",
      "Inference for Stan model: heights_model\n",
      "4 chains: each with iter=(1000,1000,1000,1000); warmup=(0,0,0,0); thin=(1,1,1,1); 4000 iterations saved.\n",
      "\n",
      "Warmup took (0.031, 0.031, 0.031, 0.031) seconds, 0.12 seconds total\n",
      "Sampling took (0.058, 0.055, 0.050, 0.051) seconds, 0.22 seconds total\n",
      "\n",
      "                 Mean     MCSE  StdDev     5%    50%    95%    N_Eff  N_Eff/s    R_hat\n",
      "lp__            -1301  2.5e-02     1.0  -1303  -1300  -1300  1.7e+03  7.8e+03  1.0e+00\n",
      "accept_stat__    0.93  1.3e-03   0.091   0.74   0.96    1.0  4.7e+03  2.2e+04  1.0e+00\n",
      "stepsize__       0.81  3.6e-02   0.051   0.76   0.80   0.89  2.0e+00  9.3e+00  4.3e+13\n",
      "treedepth__       2.1  2.0e-02    0.70    1.0    2.0    3.0  1.2e+03  5.5e+03  1.0e+00\n",
      "n_leapfrog__      5.1  7.6e-02     4.6    1.0    3.0     15  3.6e+03  1.7e+04  1.0e+00\n",
      "divergent__      0.00      nan    0.00   0.00   0.00   0.00      nan      nan      nan\n",
      "energy__         1302  3.6e-02     1.4   1300   1301   1305  1.6e+03  7.3e+03  1.0e+00\n",
      "sigma              25  1.8e-02    0.93     23     25     26  2.7e+03  1.3e+04  1.0e+00\n",
      "mu                178  2.0e-03    0.10    178    178    178  2.5e+03  1.2e+04  1.0e+00\n",
      "\n",
      "Samples were drawn using hmc with nuts.\n",
      "For each parameter, N_Eff is a crude measure of effective sample size,\n",
      "and R_hat is the potential scale reduction factor on split chains (at \n",
      "convergence, R_hat=1).\n",
      "\n"
     ]
    },
    {
     "output_type": "execute_result",
     "data": {
      "text/plain": "2-element Array{ChainDataFrame,1}\n\nSummary Statistics\n\n│ Row │ parameters │ mean    │ std      │ naive_se   │ mcse       │ ess    │\n│     │ \u001b[90mSymbol\u001b[39m     │ \u001b[90mFloat64\u001b[39m │ \u001b[90mFloat64\u001b[39m  │ \u001b[90mFloat64\u001b[39m    │ \u001b[90mFloat64\u001b[39m    │ \u001b[90mAny\u001b[39m    │\n├─────┼────────────┼─────────┼──────────┼────────────┼────────────┼────────┤\n│ 1   │ mu         │ 177.866 │ 0.100743 │ 0.00159289 │ 0.00184398 │ 4000.0 │\n│ 2   │ sigma      │ 24.6259 │ 0.928403 │ 0.0146793  │ 0.0191245  │ 4000.0 │\n\nQuantiles\n\n│ Row │ parameters │ 2.5%    │ 25.0%   │ 50.0%   │ 75.0%   │ 97.5%   │\n│     │ \u001b[90mSymbol\u001b[39m     │ \u001b[90mFloat64\u001b[39m │ \u001b[90mFloat64\u001b[39m │ \u001b[90mFloat64\u001b[39m │ \u001b[90mFloat64\u001b[39m │ \u001b[90mFloat64\u001b[39m │\n├─────┼────────────┼─────────┼─────────┼─────────┼─────────┼─────────┤\n│ 1   │ mu         │ 177.677 │ 177.797 │ 177.865 │ 177.934 │ 178.063 │\n│ 2   │ sigma      │ 22.8727 │ 24.0007 │ 24.6124 │ 25.2231 │ 26.5189 │\n"
     },
     "metadata": {},
     "execution_count": 1
    }
   ],
   "cell_type": "code",
   "source": [
    "using StanModels\n",
    "gr(size=(500,500));\n",
    "\n",
    "ProjDir = rel_path_s(\"..\", \"scripts\", \"04\")\n",
    "cd(ProjDir)\n",
    "\n",
    "howell1 = CSV.read(rel_path(\"..\", \"data\", \"Howell1.csv\"), delim=';')\n",
    "df = convert(DataFrame, howell1);\n",
    "\n",
    "df2 = filter(row -> row[:age] >= 18, df)\n",
    "#mean_height = mean(df2[:height])\n",
    "df2[:height_c] = convert(Vector{Float64}, df2[:height]) # .- mean_height\n",
    "first(df2, 5)\n",
    "\n",
    "max_height_c = maximum(df2[:height_c])\n",
    "min_height_c = minimum(df2[:height_c])\n",
    "\n",
    "heightsmodel = \"\n",
    "data {\n",
    "  int N;\n",
    "  real h[N];\n",
    "}\n",
    "parameters {\n",
    "  real<lower=0> sigma;\n",
    "  real<lower=$(min_height_c),upper=$(max_height_c)> mu;\n",
    "}\n",
    "model {\n",
    "  // Priors for mu and sigma\n",
    "  mu ~ normal(178, 0.1);\n",
    "  sigma ~ uniform( 0 , 50 );\n",
    "\n",
    "  // Observed heights\n",
    "  h ~ normal(mu, sigma);\n",
    "}\n",
    "\";\n",
    "\n",
    "stanmodel = Stanmodel(name=\"heights\", monitors = [\"mu\", \"sigma\"],model=heightsmodel,\n",
    "  output_format=:mcmcchains);\n",
    "\n",
    "heightsdata = Dict(\"N\" => length(df2[:height]), \"h\" => df2[:height_c]);\n",
    "\n",
    "rc, chn, cnames = stan(stanmodel, heightsdata, ProjDir, diagnostics=false,\n",
    "  CmdStanDir=CMDSTAN_HOME);\n",
    "\n",
    "describe(chn)\n",
    "\n",
    "serialize(\"m4.2s.jls\", chn)\n",
    "\n",
    "chn2 = deserialize(\"m4.2s.jls\")\n",
    "\n",
    "describe(chn2)"
   ],
   "metadata": {},
   "execution_count": 1
  },
  {
   "outputs": [],
   "cell_type": "markdown",
   "source": [
    "end of m4.2s#-\n",
    "*This notebook was generated using [Literate.jl](https://github.com/fredrikekre/Literate.jl).*"
   ],
   "metadata": {}
  }
 ],
 "nbformat_minor": 3,
 "metadata": {
  "language_info": {
   "file_extension": ".jl",
   "mimetype": "application/julia",
   "name": "julia",
   "version": "1.2.0-pre.0"
  },
  "kernelspec": {
   "name": "julia-1.2",
   "display_name": "Julia 1.2.0-pre.0",
   "language": "julia"
  }
 },
 "nbformat": 4
}
