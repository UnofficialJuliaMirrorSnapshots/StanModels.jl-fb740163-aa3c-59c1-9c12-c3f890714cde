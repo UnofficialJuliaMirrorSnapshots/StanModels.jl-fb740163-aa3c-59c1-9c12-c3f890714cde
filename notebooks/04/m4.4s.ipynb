{
 "cells": [
  {
   "outputs": [],
   "cell_type": "markdown",
   "source": [
    "Load Julia packages (libraries) needed  for the snippets in chapter 0"
   ],
   "metadata": {}
  },
  {
   "outputs": [],
   "cell_type": "code",
   "source": [
    "using StanModels"
   ],
   "metadata": {},
   "execution_count": 1
  },
  {
   "outputs": [],
   "cell_type": "markdown",
   "source": [
    "CmdStan uses a tmp directory to store the output of cmdstan"
   ],
   "metadata": {}
  },
  {
   "outputs": [],
   "cell_type": "code",
   "source": [
    "ProjDir = rel_path_s(\"..\", \"scripts\", \"04\")\n",
    "cd(ProjDir)"
   ],
   "metadata": {},
   "execution_count": 2
  },
  {
   "outputs": [],
   "cell_type": "markdown",
   "source": [
    "### snippet 4.7"
   ],
   "metadata": {}
  },
  {
   "outputs": [],
   "cell_type": "code",
   "source": [
    "howell1 = CSV.read(rel_path(\"..\", \"data\", \"Howell1.csv\"), delim=';')\n",
    "df = convert(DataFrame, howell1);"
   ],
   "metadata": {},
   "execution_count": 3
  },
  {
   "outputs": [],
   "cell_type": "markdown",
   "source": [
    "Use only adults"
   ],
   "metadata": {}
  },
  {
   "outputs": [],
   "cell_type": "code",
   "source": [
    "df2 = filter(row -> row[:age] >= 18, df)\n",
    "mean_weight = mean(df2[:weight])\n",
    "df2[:weight_c] = convert(Vector{Float64}, df2[:weight]) .- mean_weight ;"
   ],
   "metadata": {},
   "execution_count": 4
  },
  {
   "outputs": [],
   "cell_type": "markdown",
   "source": [
    "Define the Stan language model"
   ],
   "metadata": {}
  },
  {
   "outputs": [],
   "cell_type": "code",
   "source": [
    "weightsmodel = \"\n",
    "data {\n",
    " int < lower = 1 > N; // Sample size\n",
    " vector[N] height; // Predictor\n",
    " vector[N] weight; // Outcome\n",
    "}\n",
    "\n",
    "parameters {\n",
    " real alpha; // Intercept\n",
    " real beta; // Slope (regression coefficients)\n",
    " real < lower = 0 > sigma; // Error SD\n",
    "}\n",
    "\n",
    "model {\n",
    " height ~ normal(alpha + weight * beta , sigma);\n",
    "}\n",
    "\n",
    "generated quantities {\n",
    "}\n",
    "\";"
   ],
   "metadata": {},
   "execution_count": 5
  },
  {
   "outputs": [],
   "cell_type": "markdown",
   "source": [
    "Define the Stanmodel and set the output format to :mcmcchains."
   ],
   "metadata": {}
  },
  {
   "outputs": [],
   "cell_type": "code",
   "source": [
    "stanmodel = Stanmodel(name=\"weights\", monitors = [\"alpha\", \"beta\", \"sigma\"],model=weightsmodel,\n",
    "  output_format=:mcmcchains);\n",
    "# Input data for cmdstan\n",
    "heightsdata = Dict(\"N\" => length(df2[:height]), \"height\" => df2[:height], \"weight\" => df2[:weight_c]);"
   ],
   "metadata": {},
   "execution_count": 6
  },
  {
   "outputs": [],
   "cell_type": "markdown",
   "source": [
    "Sample using cmdstan"
   ],
   "metadata": {}
  },
  {
   "outputs": [
    {
     "output_type": "execute_result",
     "data": {
      "text/plain": "2-element Array{ChainDataFrame,1}\n\nSummary Statistics\n\n│ Row │ parameters │ mean     │ std      │ naive_se   │ mcse       │ ess    │\n│     │ \u001b[90mSymbol\u001b[39m     │ \u001b[90mFloat64\u001b[39m  │ \u001b[90mFloat64\u001b[39m  │ \u001b[90mFloat64\u001b[39m    │ \u001b[90mFloat64\u001b[39m    │ \u001b[90mAny\u001b[39m    │\n├─────┼────────────┼──────────┼──────────┼────────────┼────────────┼────────┤\n│ 1   │ alpha      │ 154.598  │ 0.270395 │ 0.00427532 │ 0.00420428 │ 4000.0 │\n│ 2   │ beta       │ 0.904176 │ 0.042255 │ 0.00066811 │ 0.00068671 │ 4000.0 │\n│ 3   │ sigma      │ 5.10532  │ 0.194223 │ 0.00307094 │ 0.00291702 │ 4000.0 │\n\nQuantiles\n\n│ Row │ parameters │ 2.5%    │ 25.0%    │ 50.0%    │ 75.0%    │ 97.5%    │\n│     │ \u001b[90mSymbol\u001b[39m     │ \u001b[90mFloat64\u001b[39m │ \u001b[90mFloat64\u001b[39m  │ \u001b[90mFloat64\u001b[39m  │ \u001b[90mFloat64\u001b[39m  │ \u001b[90mFloat64\u001b[39m  │\n├─────┼────────────┼─────────┼──────────┼──────────┼──────────┼──────────┤\n│ 1   │ alpha      │ 154.065 │ 154.422  │ 154.602  │ 154.784  │ 155.118  │\n│ 2   │ beta       │ 0.81985 │ 0.877952 │ 0.903907 │ 0.930858 │ 0.991329 │\n│ 3   │ sigma      │ 4.7386  │ 4.97408  │ 5.10037  │ 5.22952  │ 5.50707  │\n"
     },
     "metadata": {},
     "execution_count": 7
    }
   ],
   "cell_type": "code",
   "source": [
    "rc, chn, cnames = stan(stanmodel, heightsdata, ProjDir, diagnostics=false,\n",
    "  summary=false, CmdStanDir=CMDSTAN_HOME);\n",
    "# Describe the draws\n",
    "describe(chn)"
   ],
   "metadata": {},
   "execution_count": 7
  },
  {
   "outputs": [],
   "cell_type": "markdown",
   "source": [
    "Save the chains in a JLS file"
   ],
   "metadata": {}
  },
  {
   "outputs": [
    {
     "output_type": "execute_result",
     "data": {
      "text/plain": "Object of type Chains, with data of type 1000×3×4 Array{Float64,3}\n\nIterations        = 1:1000\nThinning interval = 1\nChains            = 1, 2, 3, 4\nSamples per chain = 1000\ninternals         = \nparameters        = alpha, beta, sigma\n\nSummary Statistics\n\n│ Row │ parameters │ mean     │ std      │ naive_se   │ mcse       │ ess    │\n│     │ \u001b[90mSymbol\u001b[39m     │ \u001b[90mFloat64\u001b[39m  │ \u001b[90mFloat64\u001b[39m  │ \u001b[90mFloat64\u001b[39m    │ \u001b[90mFloat64\u001b[39m    │ \u001b[90mAny\u001b[39m    │\n├─────┼────────────┼──────────┼──────────┼────────────┼────────────┼────────┤\n│ 1   │ alpha      │ 154.598  │ 0.270395 │ 0.00427532 │ 0.00420428 │ 4000.0 │\n│ 2   │ beta       │ 0.904176 │ 0.042255 │ 0.00066811 │ 0.00068671 │ 4000.0 │\n│ 3   │ sigma      │ 5.10532  │ 0.194223 │ 0.00307094 │ 0.00291702 │ 4000.0 │"
     },
     "metadata": {},
     "execution_count": 8
    }
   ],
   "cell_type": "code",
   "source": [
    "serialize(\"m4.4s.jls\", chn)\n",
    "\n",
    "chn2 = deserialize(\"m4.4s.jls\")"
   ],
   "metadata": {},
   "execution_count": 8
  },
  {
   "outputs": [],
   "cell_type": "markdown",
   "source": [
    "Should be identical to earlier result"
   ],
   "metadata": {}
  },
  {
   "outputs": [
    {
     "output_type": "execute_result",
     "data": {
      "text/plain": "2-element Array{ChainDataFrame,1}\n\nSummary Statistics\n\n│ Row │ parameters │ mean     │ std      │ naive_se   │ mcse       │ ess    │\n│     │ \u001b[90mSymbol\u001b[39m     │ \u001b[90mFloat64\u001b[39m  │ \u001b[90mFloat64\u001b[39m  │ \u001b[90mFloat64\u001b[39m    │ \u001b[90mFloat64\u001b[39m    │ \u001b[90mAny\u001b[39m    │\n├─────┼────────────┼──────────┼──────────┼────────────┼────────────┼────────┤\n│ 1   │ alpha      │ 154.598  │ 0.270395 │ 0.00427532 │ 0.00420428 │ 4000.0 │\n│ 2   │ beta       │ 0.904176 │ 0.042255 │ 0.00066811 │ 0.00068671 │ 4000.0 │\n│ 3   │ sigma      │ 5.10532  │ 0.194223 │ 0.00307094 │ 0.00291702 │ 4000.0 │\n\nQuantiles\n\n│ Row │ parameters │ 2.5%    │ 25.0%    │ 50.0%    │ 75.0%    │ 97.5%    │\n│     │ \u001b[90mSymbol\u001b[39m     │ \u001b[90mFloat64\u001b[39m │ \u001b[90mFloat64\u001b[39m  │ \u001b[90mFloat64\u001b[39m  │ \u001b[90mFloat64\u001b[39m  │ \u001b[90mFloat64\u001b[39m  │\n├─────┼────────────┼─────────┼──────────┼──────────┼──────────┼──────────┤\n│ 1   │ alpha      │ 154.065 │ 154.422  │ 154.602  │ 154.784  │ 155.118  │\n│ 2   │ beta       │ 0.81985 │ 0.877952 │ 0.903907 │ 0.930858 │ 0.991329 │\n│ 3   │ sigma      │ 4.7386  │ 4.97408  │ 5.10037  │ 5.22952  │ 5.50707  │\n"
     },
     "metadata": {},
     "execution_count": 9
    }
   ],
   "cell_type": "code",
   "source": [
    "describe(chn2)"
   ],
   "metadata": {},
   "execution_count": 9
  },
  {
   "outputs": [],
   "cell_type": "markdown",
   "source": [
    "End of `m4.4s.jl`"
   ],
   "metadata": {}
  },
  {
   "outputs": [],
   "cell_type": "markdown",
   "source": [
    "*This notebook was generated using [Literate.jl](https://github.com/fredrikekre/Literate.jl).*"
   ],
   "metadata": {}
  }
 ],
 "nbformat_minor": 3,
 "metadata": {
  "language_info": {
   "file_extension": ".jl",
   "mimetype": "application/julia",
   "name": "julia",
   "version": "1.2.0-pre.0"
  },
  "kernelspec": {
   "name": "julia-1.2",
   "display_name": "Julia 1.2.0-pre.0",
   "language": "julia"
  }
 },
 "nbformat": 4
}
